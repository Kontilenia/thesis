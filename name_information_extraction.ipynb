{
 "cells": [
  {
   "cell_type": "code",
   "execution_count": 30,
   "id": "94996d58-7111-4b1e-928f-29ad93826fe1",
   "metadata": {},
   "outputs": [],
   "source": [
    "import pandas as pd\n",
    "import os\n",
    "import ast\n",
    "import json\n",
    "import requests\n",
    "from typing import Dict, List"
   ]
  },
  {
   "cell_type": "code",
   "execution_count": 2,
   "id": "f0d6e8be-86c5-453a-84f9-9881e19685f6",
   "metadata": {},
   "outputs": [],
   "source": [
    "cache_dir = \"/home/ec2-user/SageMaker\"\n",
    "os.environ['HF_HOME'] = cache_dir"
   ]
  },
  {
   "cell_type": "code",
   "execution_count": 21,
   "id": "92417774-303a-4e93-896c-238a88a84968",
   "metadata": {},
   "outputs": [],
   "source": [
    "df = pd.read_csv('preprocessed_data/names/named_test_set_proc_final.csv')\n",
    "df['combined_entities'] = df['combined_entities'].apply(lambda x: ast.literal_eval(x) if pd.notnull(x) else [])\n",
    "named_df = df[df['combined_entities'].apply(lambda x: isinstance(x, list) and len(x) > 0)]\n",
    "entities = []\n",
    "for entity_list in named_df['combined_entities']:\n",
    "    entities.extend(entity_list)"
   ]
  },
  {
   "cell_type": "code",
   "execution_count": null,
   "id": "66cd2e78-eb75-43d6-93ec-17ed63417776",
   "metadata": {},
   "outputs": [],
   "source": [
    "list(set(entities))"
   ]
  },
  {
   "cell_type": "code",
   "execution_count": 33,
   "id": "a0e621c5-e6d0-4ada-97ec-2b198c95221d",
   "metadata": {},
   "outputs": [
    {
     "data": {
      "text/html": [
       "<div>\n",
       "<style scoped>\n",
       "    .dataframe tbody tr th:only-of-type {\n",
       "        vertical-align: middle;\n",
       "    }\n",
       "\n",
       "    .dataframe tbody tr th {\n",
       "        vertical-align: top;\n",
       "    }\n",
       "\n",
       "    .dataframe thead th {\n",
       "        text-align: right;\n",
       "    }\n",
       "</style>\n",
       "<table border=\"1\" class=\"dataframe\">\n",
       "  <thead>\n",
       "    <tr style=\"text-align: right;\">\n",
       "      <th></th>\n",
       "      <th>Unnamed: 0</th>\n",
       "      <th>combined_entities</th>\n",
       "    </tr>\n",
       "  </thead>\n",
       "  <tbody>\n",
       "    <tr>\n",
       "      <th>2</th>\n",
       "      <td>2</td>\n",
       "      <td>[Condi, Prime Minister Koizumi, Hu Jintao, Vla...</td>\n",
       "    </tr>\n",
       "    <tr>\n",
       "      <th>3</th>\n",
       "      <td>3</td>\n",
       "      <td>[Condi, Hizballah, Peter, Kofi Annan, Peter Wa...</td>\n",
       "    </tr>\n",
       "    <tr>\n",
       "      <th>4</th>\n",
       "      <td>4</td>\n",
       "      <td>[General Casey]</td>\n",
       "    </tr>\n",
       "    <tr>\n",
       "      <th>5</th>\n",
       "      <td>5</td>\n",
       "      <td>[Mark, Hutcheson, Ken]</td>\n",
       "    </tr>\n",
       "    <tr>\n",
       "      <th>6</th>\n",
       "      <td>6</td>\n",
       "      <td>[General Casey, Senator Warner, Baker, Jim, Se...</td>\n",
       "    </tr>\n",
       "    <tr>\n",
       "      <th>...</th>\n",
       "      <td>...</td>\n",
       "      <td>...</td>\n",
       "    </tr>\n",
       "    <tr>\n",
       "      <th>302</th>\n",
       "      <td>302</td>\n",
       "      <td>[General Dempsey, Prime Minister, General Case...</td>\n",
       "    </tr>\n",
       "    <tr>\n",
       "      <th>303</th>\n",
       "      <td>303</td>\n",
       "      <td>[Mr., NP Don Gonyea, Usama bin Laden, Bret]</td>\n",
       "    </tr>\n",
       "    <tr>\n",
       "      <th>304</th>\n",
       "      <td>304</td>\n",
       "      <td>[Condi]</td>\n",
       "    </tr>\n",
       "    <tr>\n",
       "      <th>305</th>\n",
       "      <td>305</td>\n",
       "      <td>[Bill Plante, Putin]</td>\n",
       "    </tr>\n",
       "    <tr>\n",
       "      <th>306</th>\n",
       "      <td>306</td>\n",
       "      <td>[April, American Urban Radio Networks, April R...</td>\n",
       "    </tr>\n",
       "  </tbody>\n",
       "</table>\n",
       "<p>242 rows × 2 columns</p>\n",
       "</div>"
      ],
      "text/plain": [
       "     Unnamed: 0                                  combined_entities\n",
       "2             2  [Condi, Prime Minister Koizumi, Hu Jintao, Vla...\n",
       "3             3  [Condi, Hizballah, Peter, Kofi Annan, Peter Wa...\n",
       "4             4                                    [General Casey]\n",
       "5             5                             [Mark, Hutcheson, Ken]\n",
       "6             6  [General Casey, Senator Warner, Baker, Jim, Se...\n",
       "..          ...                                                ...\n",
       "302         302  [General Dempsey, Prime Minister, General Case...\n",
       "303         303        [Mr., NP Don Gonyea, Usama bin Laden, Bret]\n",
       "304         304                                            [Condi]\n",
       "305         305                               [Bill Plante, Putin]\n",
       "306         306  [April, American Urban Radio Networks, April R...\n",
       "\n",
       "[242 rows x 2 columns]"
      ]
     },
     "execution_count": 33,
     "metadata": {},
     "output_type": "execute_result"
    }
   ],
   "source": [
    "named_df"
   ]
  },
  {
   "cell_type": "code",
   "execution_count": 34,
   "id": "1271ec51-81d3-45a2-a360-85fd0b5d3182",
   "metadata": {},
   "outputs": [
    {
     "name": "stdout",
     "output_type": "stream",
     "text": [
      "[{'id': 16803137, 'key': 'Meghan_McCain', 'title': 'Meghan McCain', 'excerpt': '&quot;Citizen <span class=\"searchmatch\">McCain</span> with Meghan <span class=\"searchmatch\">McCain</span> | Podcast on Podbay&quot;. Podbay. Retrieved June 25, 2025. https://unt-meghan-<span class=\"searchmatch\">mccain</span>.simplecast.com/ &quot;Meghan <span class=\"searchmatch\">McCain</span> Uses Usha', 'matched_title': None, 'anchor': None, 'description': 'American television personality (born 1984)', 'thumbnail': {'mimetype': 'image/jpeg', 'width': 60, 'height': 84, 'duration': None, 'url': '//upload.wikimedia.org/wikipedia/commons/thumb/0/07/Meghan_McCain_2018.jpg/60px-Meghan_McCain_2018.jpg'}}]\n"
     ]
    }
   ],
   "source": [
    "import requests\n",
    "import json\n",
    "\n",
    "search_query = 'McCain'\n",
    "number_of_results = 1\n",
    "headers = {\n",
    "  'Authorization': '',\n",
    "  'User-Agent': 'thesis'\n",
    "}\n",
    "\n",
    "url = 'https://api.wikimedia.org/core/v1/wikipedia/en/search/page'\n",
    "parameters = {'q': search_query, 'limit': number_of_results}\n",
    "response = requests.get(url, headers=headers, params=parameters)\n",
    "response = json.loads(response.text)\n",
    "print(response['pages'])"
   ]
  },
  {
   "cell_type": "code",
   "execution_count": 25,
   "id": "3e00d7a8-26c1-4ccc-b29a-30c3528c81f8",
   "metadata": {},
   "outputs": [
    {
     "name": "stdout",
     "output_type": "stream",
     "text": [
      "{'information': ['McCain (surname), a surname (includes a list of persons and characters)'], 'metadata': 'multiple entries'}\n"
     ]
    }
   ],
   "source": [
    "def get_wikipedia_intro_with_category(title):\n",
    "    headers = {\n",
    "        'Authorization': '',\n",
    "        'User-Agent': 'thesis'\n",
    "    }\n",
    "\n",
    "    endpoint = 'https://en.wikipedia.org/w/api.php'\n",
    "    params = {\n",
    "        'format': 'json',\n",
    "        'action': 'query',\n",
    "        'prop': 'extracts|pageprops',\n",
    "        'exintro': 1,\n",
    "        'explaintext': 1,\n",
    "        'redirects': 1,\n",
    "        'titles': title,\n",
    "    }\n",
    "\n",
    "    response = requests.get(endpoint, params=params, headers=headers, timeout=10)\n",
    "\n",
    "    if not response.ok:\n",
    "        return {\n",
    "            'information': [],\n",
    "            'metadata': 'respond error',\n",
    "        }\n",
    "\n",
    "    data = response.json()\n",
    "    page = next(iter(data['query']['pages'].values()))\n",
    "    extract = page.get('extract', '')\n",
    "    pageprop = [cat for cat in page.get('pageprops', [])]\n",
    "    is_disambiguation = any('disambiguation' in cat.lower() for cat in pageprop)\n",
    "    metadata = 'mutliple entries'\n",
    "\n",
    "    idx = 2 if is_disambiguation else 0\n",
    "    info_list = [line for line in extract.split('\\n')[idx:] if line]\n",
    "\n",
    "    if not info_list:\n",
    "            return {'information': [], 'metadata': 'no info'}\n",
    "\n",
    "    if is_disambiguation:\n",
    "            metadata = 'multiple entries'\n",
    "    else:\n",
    "            info_list = info_list[:1]\n",
    "            metadata = 'one entry'\n",
    "    return {'information': info_list, 'metadata': metadata}\n",
    "\n",
    "result = get_wikipedia_intro_with_category('McCain')\n",
    "print(result)"
   ]
  },
  {
   "cell_type": "code",
   "execution_count": 31,
   "id": "ae8e85fb-4aca-4d31-bf18-517744e798b5",
   "metadata": {},
   "outputs": [
    {
     "name": "stdout",
     "output_type": "stream",
     "text": [
      "{'information': ['Vladimir Vladimirovich Putin (born 7 October 1952) is a Russian politician and former intelligence officer who has served as President of Russia since 2012, having previously served from 2000 to 2008. Putin also served as Prime Minister of Russia from 1999 to 2000 and again from 2008 to 2012.'], 'metadata': 'one entry'}\n"
     ]
    }
   ],
   "source": [
    "def get_wikipedia_intro_with_category(title: str) -> Dict[str, List]:\n",
    "    \"\"\"\n",
    "    Fetch the introductory paragraph(s) from a Wikipedia page for a given title.\n",
    "\n",
    "    Args:\n",
    "        title (str): The Wikipedia page title to query.\n",
    "\n",
    "    Returns:\n",
    "        Dict[str, Any]: A dictionary containing:\n",
    "            - 'information': List[str] of extracted intro text lines.\n",
    "            - 'metadata': str indicating status ('one entry', 'multiple entries',\n",
    "                          'no info', or 'respond error').\n",
    "    \"\"\"\n",
    "\n",
    "    headers = {'Authorization': '', 'User-Agent': 'thesis'}\n",
    "    endpoint = 'https://en.wikipedia.org/w/api.php'\n",
    "    params = {\n",
    "        'format': 'json',\n",
    "        'action': 'query',\n",
    "        'prop': 'extracts|pageprops',\n",
    "        'exintro': 1,\n",
    "        'explaintext': 1,\n",
    "        'redirects': 1,\n",
    "        'titles': title,\n",
    "    }\n",
    "\n",
    "    response = requests.get(endpoint, params=params, headers=headers, timeout=10)\n",
    "\n",
    "    if not response.ok:\n",
    "        return {'information': [], 'metadata': 'respond error'}\n",
    "\n",
    "    data = response.json()\n",
    "    page = next(iter(data['query']['pages'].values()))\n",
    "    extract = page.get('extract', '')\n",
    "    pageprops = page.get('pageprops', [])\n",
    "    is_disambiguation = any('disambiguation' in str(cat).lower() for cat in pageprops)\n",
    "    start_idx = 2 if is_disambiguation else 0\n",
    "    info_list = [line for line in extract.split('\\n')[start_idx:] if line]\n",
    "\n",
    "    if not info_list:\n",
    "        return {'information': [], 'metadata': 'no info'}\n",
    "\n",
    "    # Happy path return — only set what's needed\n",
    "    if is_disambiguation:\n",
    "        metadata = 'multiple entries'\n",
    "    else:\n",
    "        info_list = info_list[:1]\n",
    "        metadata = 'one entry'\n",
    "\n",
    "    return {'information': info_list, 'metadata': metadata}\n",
    "\n",
    "first_sentence = get_wikipedia_intro_with_category('Putin')\n",
    "print(first_sentence)"
   ]
  },
  {
   "cell_type": "code",
   "execution_count": null,
   "id": "6606e09d-9200-4863-9bfb-d6b10cc6c2c8",
   "metadata": {},
   "outputs": [],
   "source": []
  }
 ],
 "metadata": {
  "kernelspec": {
   "display_name": "conda_python3",
   "language": "python",
   "name": "conda_python3"
  },
  "language_info": {
   "codemirror_mode": {
    "name": "ipython",
    "version": 3
   },
   "file_extension": ".py",
   "mimetype": "text/x-python",
   "name": "python",
   "nbconvert_exporter": "python",
   "pygments_lexer": "ipython3",
   "version": "3.10.18"
  }
 },
 "nbformat": 4,
 "nbformat_minor": 5
}
