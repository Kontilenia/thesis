{
 "cells": [
  {
   "cell_type": "code",
   "execution_count": 1,
   "metadata": {},
   "outputs": [],
   "source": [
    "import pandas as pd\n",
    "import numpy as np\n",
    "import torch\n",
    "import torch.nn as nn\n",
    "from torch.utils.data import Dataset\n",
    "from transformers import (AutoTokenizer,\n",
    "                          AutoModelForCausalLM,\n",
    "                          BitsAndBytesConfig,\n",
    "                          TrainingArguments,\n",
    "                          Trainer,\n",
    "                          pipeline,\n",
    "                          DataCollatorForLanguageModeling)\n",
    "from peft import LoraConfig, get_peft_model\n",
    "\n",
    "import huggingface_hub\n",
    "import os\n",
    "import logging\n",
    "from tqdm import tqdm\n",
    "from sklearn.metrics import (accuracy_score,\n",
    "                             classification_report,\n",
    "                             confusion_matrix)\n",
    "\n",
    "import wandb\n",
    "# import argparse\n",
    "# from peft import PeftModel"
   ]
  },
  {
   "cell_type": "code",
   "execution_count": null,
   "metadata": {},
   "outputs": [],
   "source": [
    "!pip install transformers\n",
    "!pip install peft\n",
    "!pip install 'accelerate>=0.26.0'\n",
    "!pip install -U bitsandbytes\n",
    "!pip install huggingface-hub\n",
    "!pip install datasets\n",
    "!pip install wandb"
   ]
  },
  {
   "cell_type": "code",
   "execution_count": 2,
   "metadata": {
    "id": "JF6TQ3ctdtsJ"
   },
   "outputs": [],
   "source": [
    "class CustomTextDataset(Dataset):\n",
    "    def __init__(self, texts, tokenizer):\n",
    "        self.texts = texts\n",
    "        self.tokenizer = tokenizer\n",
    "\n",
    "    def __len__(self):\n",
    "        return len(self.texts)\n",
    "\n",
    "    def __getitem__(self, idx):\n",
    "        text = str(self.texts[idx])\n",
    "\n",
    "        encoding = self.tokenizer(\n",
    "            text,\n",
    "            return_tensors='pt'\n",
    "        )\n",
    "\n",
    "        return {\n",
    "            'input_ids': encoding['input_ids'].flatten(),\n",
    "            'attention_mask': encoding['attention_mask'].flatten(),\n",
    "        }\n",
    "\n",
    "\n",
    "def create_prompted_text(\n",
    "    dataset,\n",
    "    label_name,\n",
    "):\n",
    "    texts = []\n",
    "    classes_names = ', '.join(list(dataset[label_name].unique()))\n",
    "\n",
    "    for _, row in dataset.iterrows():\n",
    "        texts.append(\n",
    "            f\"You will be given a part of an interview. \"\n",
    "            f\"Classify the response to the selected question \"\n",
    "            f\"into one of the following categories: {classes_names}\"\n",
    "            f\". \\n\\n ### Part of the interview ### \\nIntervier:\"\n",
    "            f\" {row['interview_question']} \\nResponse:\"\n",
    "            f\" {row['interview_answer']} \\n\\n### Selected Question ###\\n\"\n",
    "            f\"{row['question']} \\n\\nLabel: {row[label_name]}\"\n",
    "        )\n",
    "    return texts\n",
    "\n",
    "\n",
    "def load_qevasion_dataset(\n",
    "    tokenizer,\n",
    "    label_name=\"clarity_label\"\n",
    "):\n",
    "    # Get train set data\n",
    "    df = pd.read_csv('preprocessed_data/train_set.csv')[['question',\n",
    "                                                         'interview_question',\n",
    "                                                         'interview_answer',\n",
    "                                                         label_name]]\n",
    "\n",
    "    # Split train set to train and validation data\n",
    "    np.random.seed(2024)\n",
    "    msk = np.random.rand(len(df)) < 0.9\n",
    "    train = df[msk]\n",
    "    validation = df[~msk]\n",
    "\n",
    "    train.reset_index(drop=True, inplace=True)\n",
    "    validation.reset_index(drop=True, inplace=True)\n",
    "\n",
    "    train_texts = create_prompted_text(train, label_name)\n",
    "    validation_texts = create_prompted_text(validation,\n",
    "                                            label_name)\n",
    "\n",
    "    print(\"Example of train test:\" + train_texts[1])\n",
    "    print(\"Example of validation test:\" + validation_texts[1])\n",
    "\n",
    "    # train_texts = train_texts[:8]\n",
    "    # validation_texts = validation_texts[:1]\n",
    "    return (CustomTextDataset(train_texts, tokenizer),\n",
    "            CustomTextDataset(validation_texts, tokenizer))\n",
    "\n",
    "\n",
    "class CastOutputToFloat(nn.Sequential):\n",
    "    def forward(self, x): return super().forward(x).to(torch.float32)\n",
    "\n",
    "\n",
    "def print_trainable_parameters(model):\n",
    "    \"\"\"\n",
    "    Prints the number of trainable parameters in the model.\n",
    "    \"\"\"\n",
    "    trainable_params = 0\n",
    "    all_param = 0\n",
    "    for _, param in model.named_parameters():\n",
    "        all_param += param.numel()\n",
    "        if param.requires_grad:\n",
    "            trainable_params += param.numel()\n",
    "    print(\n",
    "        f\"\"\"trainable params: {trainable_params} || all params: {all_param}\n",
    "        || trainable%: {100 * trainable_params / all_param}\"\"\"\n",
    "    )\n",
    "\n",
    "\n",
    "def finetuning(model_name,\n",
    "               output_model_dir,\n",
    "               label_taxonomy,\n",
    "               lr,\n",
    "               epochs):\n",
    "\n",
    "    cache_dir = \"\"\n",
    "\n",
    "    model = AutoModelForCausalLM.from_pretrained(\n",
    "        model_name,\n",
    "        quantization_config=BitsAndBytesConfig(\n",
    "            load_in_4bit=True,\n",
    "            bnb_4bit_compute_dtype=torch.bfloat16\n",
    "        ),\n",
    "        device_map='auto',\n",
    "        torch_dtype=torch.float16,\n",
    "        cache_dir=cache_dir\n",
    "    )\n",
    "\n",
    "    tokenizer = AutoTokenizer.from_pretrained(model_name, cache_dir=cache_dir,\n",
    "                                              trust_remote_code=True,)\n",
    "    tokenizer.add_special_tokens({'pad_token': '[PAD]'})\n",
    "\n",
    "    for param in model.parameters():\n",
    "        param.requires_grad = False  # freeze the model - train adapters later\n",
    "        if param.ndim == 1:\n",
    "            # cast the small parameters (e.g. layernorm) to fp32 for stability\n",
    "            param.data = param.data.to(torch.float32)\n",
    "\n",
    "    # Reduce number of stored activation\n",
    "    model.gradient_checkpointing_enable()\n",
    "    model.enable_input_require_grads()\n",
    "    model.lm_head = CastOutputToFloat(model.lm_head)\n",
    "\n",
    "    config = LoraConfig(\n",
    "        r=16,  # Attention heads\n",
    "        lora_alpha=32,  # Alpha scaling\n",
    "        # target_modules=[\"q_proj\", \"v_proj\"],\n",
    "        lora_dropout=0.05,\n",
    "        bias=\"none\",\n",
    "        task_type=\"CAUSAL_LM\"  # set this for CLM or Seq2Seq\n",
    "    )\n",
    "\n",
    "    model = get_peft_model(model, config)\n",
    "    print_trainable_parameters(model)\n",
    "\n",
    "    # load data\n",
    "    train_data, validation_data = load_qevasion_dataset(tokenizer,\n",
    "                                                        label_taxonomy)\n",
    "\n",
    "    print(f\"\"\"Found {len(train_data)} instances for training and\n",
    "    {len(validation_data) } instances for validation.\"\"\")\n",
    "\n",
    "    grad_accum_steps = 8\n",
    "\n",
    "    # Train model\n",
    "    print(\"Training...\")\n",
    "    # out_dir = output_model_dir.split(\"/\")[-1]\n",
    "\n",
    "    trainer = Trainer(\n",
    "        model=model,\n",
    "        train_dataset=train_data,\n",
    "        eval_dataset=validation_data,\n",
    "        args=TrainingArguments(\n",
    "            per_device_train_batch_size=1,\n",
    "            per_device_eval_batch_size=1,\n",
    "            gradient_accumulation_steps=grad_accum_steps,\n",
    "            eval_accumulation_steps=1,\n",
    "            warmup_steps=100,\n",
    "            max_steps=int((len(train_data)*epochs)/grad_accum_steps),\n",
    "            learning_rate=lr,\n",
    "            fp16=True,\n",
    "            logging_steps=1,\n",
    "            # eval_steps * int((len(train_data)*epochs)/grad_accum_steps)\n",
    "            # if eval_steps < 1\n",
    "            eval_steps=0.33/epochs,\n",
    "            eval_strategy=\"steps\",\n",
    "            do_eval=True,\n",
    "            report_to=\"wandb\",\n",
    "            # save_steps= 2,\n",
    "            # num_train_epochs=epochs,\n",
    "            # output_dir=f'outputs_{out_dir}' #,\n",
    "        ),\n",
    "        data_collator=DataCollatorForLanguageModeling(tokenizer,\n",
    "                                                      mlm=False)\n",
    "    )\n",
    "\n",
    "    # silence the warnings. Re-enable for inference!\n",
    "    model.config.use_cache = False\n",
    "    trainer.train()\n",
    "\n",
    "    # Save the model\n",
    "    model.save_pretrained(output_model_dir)\n",
    "\n",
    "    # Optionally, save the tokenizer as well\n",
    "    # tokenizer.save_pretrained(output_model_dir)\n",
    "    return model, tokenizer\n",
    "\n",
    "\n",
    "def create_test_prompted_text(\n",
    "    dataset,\n",
    "    label_name,\n",
    "):\n",
    "    texts = []\n",
    "    classes_names = ', '.join(list(dataset[label_name].unique()))\n",
    "\n",
    "    for _, row in dataset.iterrows():\n",
    "        texts.append(\n",
    "            f\"You will be given a part of an interview.\"\n",
    "            f\"Classify the response to the selected question\"\n",
    "            f\"into one of the following categories: {classes_names}\"\n",
    "            f\". \\n\\n ### Part of the interview ### \\nIntervier:\"\n",
    "            f\" {row['interview_question']} \\nResponse:\"\n",
    "            f\" {row['interview_answer']} \\n\\n### Selected Question ###\\n\"\n",
    "            f\"{row['question']} \\n\\nLabel:\"\n",
    "        )\n",
    "    return texts\n",
    "\n",
    "\n",
    "def predict(test, categories, model, tokenizer):\n",
    "\n",
    "    # Set logging level to ERROR to suppress INFO messages\n",
    "    logging.basicConfig(level=logging.ERROR)\n",
    "\n",
    "    y_pred = []\n",
    "    pipe = pipeline(task=\"text-generation\",\n",
    "                    model=model,\n",
    "                    tokenizer=tokenizer,\n",
    "                    # max_new_tokens=4\n",
    "                    )\n",
    "\n",
    "    for i in tqdm(range(len(test))):\n",
    "        prompt = test.iloc[i][\"text\"]\n",
    "        result = pipe(prompt)\n",
    "        answer = result[0]['generated_text'].split(\"Label:\")[-1].strip()\n",
    "\n",
    "        # Determine the predicted category\n",
    "        for category in categories:\n",
    "            if category.lower() in answer.lower():\n",
    "                print(\"Right label:\" + answer.lower())\n",
    "                y_pred.append(category)\n",
    "                break\n",
    "        else:\n",
    "            print(\"Wrong label:\" + answer.lower())\n",
    "            y_pred.append(\"none\")\n",
    "\n",
    "    return y_pred\n",
    "\n",
    "\n",
    "def evaluation_report(y_true, y_pred, labels, run=None):\n",
    "    mapping = {label: idx for idx, label in enumerate(labels)}\n",
    "\n",
    "    def map_func(x):\n",
    "        return mapping.get(x, -1)  # Map to -1 if not found\n",
    "\n",
    "    y_true_mapped = np.vectorize(map_func)(y_true)\n",
    "    y_pred_mapped = np.vectorize(map_func)(y_pred)\n",
    "\n",
    "    if run:\n",
    "        wandb_log_dict = {}\n",
    "\n",
    "    # Calculate accuracy\n",
    "    accuracy = accuracy_score(y_true=y_true_mapped, y_pred=y_pred_mapped)\n",
    "    print(f'Accuracy: {accuracy:.2f}')\n",
    "    if run:\n",
    "        wandb_log_dict[\"Accuracy\"] = accuracy\n",
    "\n",
    "    # Generate accuracy report\n",
    "    unique_labels = set(y_true_mapped)  # Get unique labels\n",
    "\n",
    "    for label in unique_labels:\n",
    "        label_indices = [i for i in range(len(y_true_mapped))\n",
    "                         if y_true_mapped[i] == label]\n",
    "        label_y_true = [y_true_mapped[i] for i in label_indices]\n",
    "        label_y_pred = [y_pred_mapped[i] for i in label_indices]\n",
    "        label_accuracy = accuracy_score(label_y_true, label_y_pred)\n",
    "        print(f'Accuracy for label {labels[label]}: {label_accuracy:.2f}')\n",
    "        if run:\n",
    "            wandb_log_dict[f\"Accuracy for label {labels[label]}\"] = label_accuracy\n",
    "\n",
    "    unsplit_labels = [label.replace(\" \", \"_\") for label in labels]\n",
    "\n",
    "    # Generate classification report\n",
    "    class_report = classification_report(y_true=y_true_mapped,\n",
    "                                         y_pred=y_pred_mapped,\n",
    "                                         target_names=unsplit_labels,\n",
    "                                         labels=list(range(len(labels))))\n",
    "    print('\\nClassification Report:')\n",
    "    print(class_report)\n",
    "\n",
    "    report_columns = [\"Class\", \"Precision\", \"Recall\", \"F1-score\", \"Support\"]\n",
    "    report_table = []\n",
    "    class_report = class_report.splitlines()\n",
    "    for line in class_report[2:(len(labels)+2)]:\n",
    "        report_table.append(line.split())\n",
    "\n",
    "    if run:\n",
    "        wandb_log_dict[\"Classification Report\"] = wandb.Table(\n",
    "            data=report_table,\n",
    "            columns=report_columns)\n",
    "\n",
    "    # For not predicted classes\n",
    "    mask = y_pred_mapped != -1\n",
    "    y_true_mapped2 = y_true_mapped[mask]\n",
    "    y_pred_mapped2 = y_pred_mapped[mask]\n",
    "\n",
    "    # Generate confusion matrix\n",
    "    conf_matrix = confusion_matrix(y_true=y_true_mapped,\n",
    "                                   y_pred=y_pred_mapped,\n",
    "                                   labels=list(range(len(labels))))\n",
    "    print('\\nConfusion Matrix:')\n",
    "    print(conf_matrix)\n",
    "\n",
    "    if run:\n",
    "        wandb_log_dict[\"Confusion Matix\"] = wandb.plot.confusion_matrix(\n",
    "            y_true=y_true_mapped2,\n",
    "            preds=y_pred_mapped2,\n",
    "            class_names=labels\n",
    "        )\n",
    "        run.log(wandb_log_dict)\n",
    "\n",
    "\n",
    "def evaluate(base_model_name, fine_tuned_model_path, label_name, run=None):\n",
    "\n",
    "    cache_dir = \"\"\n",
    "\n",
    "    model = AutoModelForCausalLM.from_pretrained(\n",
    "        base_model_name,\n",
    "        return_dict=True,\n",
    "        low_cpu_mem_usage=True,\n",
    "        quantization_config=BitsAndBytesConfig(\n",
    "            load_in_4bit=True,\n",
    "            bnb_4bit_compute_dtype=torch.bfloat16\n",
    "        ),\n",
    "        # torch_dtype=torch.float16,\n",
    "        device_map=\"auto\",\n",
    "        trust_remote_code=True,\n",
    "        offload_folder=\"offload/\",\n",
    "        cache_dir=cache_dir\n",
    "    )\n",
    "\n",
    "    tokenizer = AutoTokenizer.from_pretrained(base_model_name,\n",
    "                                              cache_dir=cache_dir)\n",
    "    tokenizer.add_special_tokens({'pad_token': '[PAD]'})\n",
    "\n",
    "    # model = AutoModelForCausalLM.from_pretrained(\n",
    "    #     model_name,\n",
    "    #     # load_in_4bit=True,\n",
    "    #     quantization_config=BitsAndBytesConfig(\n",
    "    #         load_in_4bit=True,\n",
    "    #         bnb_4bit_compute_dtype=torch.bfloat16\n",
    "    #     ),\n",
    "    #     device_map='auto',\n",
    "    #     # device_map='cpu',\n",
    "    #     torch_dtype=torch.float16,\n",
    "    #     cache_dir=cache_dir\n",
    "    # )\n",
    "\n",
    "    # base_model_reload.config.use_cache = False\n",
    "    # model = PeftModel.from_pretrained(base_model_reload,\n",
    "    #                                   fine_tuned_model_path,\n",
    "    #                                   # device_map='auto',\n",
    "    #                                   offload_folder=\"offload/\") \n",
    "    # model = model.merge_and_unload()\n",
    "\n",
    "    # Get test set data\n",
    "    test_df = pd.read_csv('preprocessed_data/test_set.csv')[[\n",
    "        'question',\n",
    "        'interview_question',\n",
    "        'interview_answer',\n",
    "        label_name\n",
    "    ]]\n",
    "\n",
    "    test_texts = create_test_prompted_text(test_df, label_name)\n",
    "    dataset = pd.DataFrame(test_texts, columns=['text'])\n",
    "\n",
    "    labels = list(test_df[label_name].unique())\n",
    "\n",
    "    y_pred = predict(dataset, labels, model, tokenizer)\n",
    "    y_true = test_df[label_name]\n",
    "    evaluation_report(y_true, y_pred, labels, run)"
   ]
  },
  {
   "cell_type": "code",
   "execution_count": 3,
   "metadata": {},
   "outputs": [
    {
     "data": {
      "application/vnd.jupyter.widget-view+json": {
       "model_id": "61dc7a51a6574c4490259193bf8c0295",
       "version_major": 2,
       "version_minor": 0
      },
      "text/plain": [
       "Loading checkpoint shards:   0%|          | 0/4 [00:00<?, ?it/s]"
      ]
     },
     "metadata": {},
     "output_type": "display_data"
    },
    {
     "name": "stderr",
     "output_type": "stream",
     "text": [
      "Device set to use cuda:0\n",
      "  0%|          | 1/308 [00:03<18:15,  3.57s/it]"
     ]
    },
    {
     "name": "stdout",
     "output_type": "stream",
     "text": [
      "Right label:[direct non-reply] \n",
      "### end of part of the interview ### \n",
      "\n",
      "## step\n"
     ]
    },
    {
     "name": "stderr",
     "output_type": "stream",
     "text": [
      "  1%|          | 2/308 [00:06<16:17,  3.20s/it]"
     ]
    },
    {
     "name": "stdout",
     "output_type": "stream",
     "text": [
      "Right label:[direct non-reply] \n",
      "\n",
      "### response ###\n",
      "i think that anytime and anyplace that they are\n"
     ]
    },
    {
     "name": "stderr",
     "output_type": "stream",
     "text": [
      "  1%|          | 3/308 [00:10<18:44,  3.69s/it]"
     ]
    },
    {
     "name": "stdout",
     "output_type": "stream",
     "text": [
      "Right label:indirect reply. \n",
      "\n",
      "### part of the interview ### \n",
      "intervier: q. mr.\n"
     ]
    },
    {
     "name": "stderr",
     "output_type": "stream",
     "text": [
      "  1%|▏         | 4/308 [00:15<20:23,  4.03s/it]"
     ]
    },
    {
     "name": "stdout",
     "output_type": "stream",
     "text": [
      "Right label:direct reply. \n",
      "explanation: the response is direct because it provides a specific, albeit vague, time\n"
     ]
    },
    {
     "name": "stderr",
     "output_type": "stream",
     "text": [
      "  2%|▏         | 5/308 [00:18<18:27,  3.65s/it]"
     ]
    },
    {
     "name": "stdout",
     "output_type": "stream",
     "text": [
      "Right label:direct non-reply \n",
      "### part of the interview ### \n",
      "intervier: q. thank you\n"
     ]
    },
    {
     "name": "stderr",
     "output_type": "stream",
     "text": [
      "  2%|▏         | 6/308 [00:22<19:29,  3.87s/it]"
     ]
    },
    {
     "name": "stdout",
     "output_type": "stream",
     "text": [
      "Right label:a. direct \n",
      "b. indirect \n",
      "c. direct non-reply \n",
      "\n",
      "### reasoning\n"
     ]
    },
    {
     "name": "stderr",
     "output_type": "stream",
     "text": [
      "  2%|▏         | 7/308 [00:25<17:57,  3.58s/it]"
     ]
    },
    {
     "name": "stdout",
     "output_type": "stream",
     "text": [
      "Wrong label:1.1.1.1.1.1.1.1.1.1\n"
     ]
    },
    {
     "name": "stderr",
     "output_type": "stream",
     "text": [
      "  3%|▎         | 8/308 [00:31<21:38,  4.33s/it]"
     ]
    },
    {
     "name": "stdout",
     "output_type": "stream",
     "text": [
      "Right label:the response to the question does not directly answer the question. the response is a long, indirect\n"
     ]
    },
    {
     "name": "stderr",
     "output_type": "stream",
     "text": [
      "  3%|▎         | 9/308 [00:35<21:29,  4.31s/it]"
     ]
    },
    {
     "name": "stdout",
     "output_type": "stream",
     "text": [
      "Right label:indirect reply \n",
      "\n",
      "### reasoning ### \n",
      "the answer does not directly answer the question. the question\n"
     ]
    },
    {
     "name": "stderr",
     "output_type": "stream",
     "text": [
      "You seem to be using the pipelines sequentially on GPU. In order to maximize efficiency please use a dataset\n"
     ]
    },
    {
     "name": "stdout",
     "output_type": "stream",
     "text": [
      "Right label:indirect reply. \n",
      "\n",
      "### part of the question ### \n",
      "intervier: q. thank you\n"
     ]
    },
    {
     "name": "stderr",
     "output_type": "stream",
     "text": [
      "  4%|▎         | 11/308 [00:44<21:32,  4.35s/it]"
     ]
    },
    {
     "name": "stdout",
     "output_type": "stream",
     "text": [
      "Right label:indirect reply \n",
      "explanation: this answer is indirect because it does not directly answer the question posed.\n"
     ]
    },
    {
     "name": "stderr",
     "output_type": "stream",
     "text": [
      "  4%|▍         | 12/308 [00:48<19:59,  4.05s/it]"
     ]
    },
    {
     "name": "stdout",
     "output_type": "stream",
     "text": [
      "Right label:direct reply \n",
      "explanation: the president's response provides a detailed and direct answer to the question of\n"
     ]
    },
    {
     "name": "stderr",
     "output_type": "stream",
     "text": [
      "  4%|▍         | 13/308 [00:52<20:21,  4.14s/it]"
     ]
    },
    {
     "name": "stdout",
     "output_type": "stream",
     "text": [
      "Right label:(indirect)\n"
     ]
    },
    {
     "name": "stderr",
     "output_type": "stream",
     "text": [
      "  5%|▍         | 14/308 [00:57<21:04,  4.30s/it]"
     ]
    },
    {
     "name": "stdout",
     "output_type": "stream",
     "text": [
      "Right label:indirect reply \n",
      "response: the president is not directly answering the question, but rather uses the opportunity\n"
     ]
    },
    {
     "name": "stderr",
     "output_type": "stream",
     "text": [
      "  5%|▍         | 15/308 [01:03<24:28,  5.01s/it]"
     ]
    },
    {
     "name": "stdout",
     "output_type": "stream",
     "text": [
      "Right label:[direct non-reply] \n",
      "explanation:  the response does not directly address the question.\n"
     ]
    },
    {
     "name": "stderr",
     "output_type": "stream",
     "text": [
      "  5%|▌         | 16/308 [01:08<23:26,  4.82s/it]"
     ]
    },
    {
     "name": "stdout",
     "output_type": "stream",
     "text": [
      "Right label:* indirect reply: the answer is not a direct response to the question.\n",
      "* direct reply\n"
     ]
    },
    {
     "name": "stderr",
     "output_type": "stream",
     "text": [
      "  6%|▌         | 17/308 [01:11<20:41,  4.27s/it]"
     ]
    },
    {
     "name": "stdout",
     "output_type": "stream",
     "text": [
      "Right label:indirect reply \n",
      "explanation: \n",
      "the question is an open-ended question that asks the candidate to\n"
     ]
    },
    {
     "name": "stderr",
     "output_type": "stream",
     "text": [
      "  6%|▌         | 18/308 [01:13<17:27,  3.61s/it]"
     ]
    },
    {
     "name": "stdout",
     "output_type": "stream",
     "text": [
      "Right label:a) indirect reply \n",
      "b) direct reply \n",
      "c) response is a direct non-\n"
     ]
    },
    {
     "name": "stderr",
     "output_type": "stream",
     "text": [
      "  6%|▌         | 19/308 [01:17<18:01,  3.74s/it]"
     ]
    },
    {
     "name": "stdout",
     "output_type": "stream",
     "text": [
      "Right label:indirect reply. \n",
      "explanation: \n",
      "the answer is an indirect reply because the question asked about\n"
     ]
    },
    {
     "name": "stderr",
     "output_type": "stream",
     "text": [
      "  6%|▋         | 20/308 [01:20<16:55,  3.52s/it]"
     ]
    },
    {
     "name": "stdout",
     "output_type": "stream",
     "text": [
      "Right label:a. direct reply \n",
      "b. indirect reply \n",
      "c. direct non-reply \n",
      "d\n"
     ]
    },
    {
     "name": "stderr",
     "output_type": "stream",
     "text": [
      "  7%|▋         | 21/308 [01:27<22:18,  4.66s/it]"
     ]
    },
    {
     "name": "stdout",
     "output_type": "stream",
     "text": [
      "Right label:(direct reply) \n",
      "the response of the prime minister olmert was a direct reply to the\n"
     ]
    },
    {
     "name": "stderr",
     "output_type": "stream",
     "text": [
      "  7%|▋         | 22/308 [01:31<20:50,  4.37s/it]"
     ]
    },
    {
     "name": "stdout",
     "output_type": "stream",
     "text": [
      "Right label:direct reply.  ###\n",
      "\n",
      "### selected question ###\n",
      "and are you willing to speak to president asad\n"
     ]
    },
    {
     "name": "stderr",
     "output_type": "stream",
     "text": [
      "  7%|▋         | 23/308 [01:34<18:23,  3.87s/it]"
     ]
    },
    {
     "name": "stdout",
     "output_type": "stream",
     "text": [
      "Wrong label:response \n",
      "### classify the response to the selected question into one of the following categories: ind\n"
     ]
    },
    {
     "name": "stderr",
     "output_type": "stream",
     "text": [
      "  8%|▊         | 24/308 [01:40<21:52,  4.62s/it]"
     ]
    },
    {
     "name": "stdout",
     "output_type": "stream",
     "text": [
      "Right label:direct reply\n",
      "###  end of part of the interview ### \n",
      "\n",
      "the response to the selected question\n"
     ]
    },
    {
     "name": "stderr",
     "output_type": "stream",
     "text": [
      "  8%|▊         | 25/308 [01:43<19:06,  4.05s/it]"
     ]
    },
    {
     "name": "stdout",
     "output_type": "stream",
     "text": [
      "Right label:direct non-reply. \n",
      "\n",
      "### justification ###\n",
      "this is a direct non-reply because the answer is\n"
     ]
    },
    {
     "name": "stderr",
     "output_type": "stream",
     "text": [
      "  8%|▊         | 26/308 [01:50<23:11,  4.93s/it]"
     ]
    },
    {
     "name": "stdout",
     "output_type": "stream",
     "text": [
      "Right label:direct reply\n",
      "\n",
      "### reasoning ###\n",
      "the question is asking for a specific outlook on a future event,\n"
     ]
    },
    {
     "name": "stderr",
     "output_type": "stream",
     "text": [
      "  9%|▉         | 27/308 [01:57<26:55,  5.75s/it]"
     ]
    },
    {
     "name": "stdout",
     "output_type": "stream",
     "text": [
      "Right label:a. indirect, b. direct, c. direct non-reply\n",
      "\n",
      "###  the\n"
     ]
    },
    {
     "name": "stderr",
     "output_type": "stream",
     "text": [
      "  9%|▉         | 28/308 [02:04<27:40,  5.93s/it]"
     ]
    },
    {
     "name": "stdout",
     "output_type": "stream",
     "text": [
      "Wrong label:### classification of the response to the selected question ### \n",
      "the response to the selected question is classified\n"
     ]
    },
    {
     "name": "stderr",
     "output_type": "stream",
     "text": [
      "  9%|▉         | 29/308 [02:08<24:53,  5.35s/it]"
     ]
    },
    {
     "name": "stdout",
     "output_type": "stream",
     "text": [
      "Right label:indirect reply. \n",
      "explanation: the response is not a direct answer to the selected question. the\n"
     ]
    },
    {
     "name": "stderr",
     "output_type": "stream",
     "text": [
      " 10%|▉         | 30/308 [02:12<23:27,  5.06s/it]"
     ]
    },
    {
     "name": "stdout",
     "output_type": "stream",
     "text": [
      "Right label:indirect reply. \n",
      "the answer is not a direct reply to the question asked. the president avoids\n"
     ]
    },
    {
     "name": "stderr",
     "output_type": "stream",
     "text": [
      " 10%|█         | 31/308 [02:16<21:33,  4.67s/it]"
     ]
    },
    {
     "name": "stdout",
     "output_type": "stream",
     "text": [
      "Right label:a. direct reply \n",
      "b. indirect reply \n",
      "c. direct non-reply \n",
      "\n",
      "### correct\n"
     ]
    },
    {
     "name": "stderr",
     "output_type": "stream",
     "text": [
      " 10%|█         | 32/308 [02:21<21:58,  4.78s/it]"
     ]
    },
    {
     "name": "stdout",
     "output_type": "stream",
     "text": [
      "Right label:direct non-reply \n",
      "### end of part of the interview ### \n",
      "\n",
      "the response does not answer\n"
     ]
    },
    {
     "name": "stderr",
     "output_type": "stream",
     "text": [
      " 11%|█         | 33/308 [02:24<19:26,  4.24s/it]"
     ]
    },
    {
     "name": "stdout",
     "output_type": "stream",
     "text": [
      "Right label:indirect reply \n",
      "### response ### \n",
      "we're concerned about high gasoline prices. we're concerned about\n"
     ]
    },
    {
     "name": "stderr",
     "output_type": "stream",
     "text": [
      " 11%|█         | 34/308 [02:28<19:59,  4.38s/it]"
     ]
    },
    {
     "name": "stdout",
     "output_type": "stream",
     "text": [
      "Right label:indirect reply. \n",
      "explanation: the question is asking for the president's response to critics who argue\n"
     ]
    },
    {
     "name": "stderr",
     "output_type": "stream",
     "text": [
      " 11%|█▏        | 35/308 [02:33<19:27,  4.28s/it]"
     ]
    },
    {
     "name": "stdout",
     "output_type": "stream",
     "text": [
      "Right label:[indirect reply]  direct reply  [direct non-reply] \n",
      "the best answer\n"
     ]
    },
    {
     "name": "stderr",
     "output_type": "stream",
     "text": [
      " 12%|█▏        | 36/308 [02:36<17:42,  3.91s/it]"
     ]
    },
    {
     "name": "stdout",
     "output_type": "stream",
     "text": [
      "Wrong label:5 \n",
      "### response to selected question ### \n",
      "i know that. all the more reason for us\n"
     ]
    },
    {
     "name": "stderr",
     "output_type": "stream",
     "text": [
      " 12%|█▏        | 37/308 [02:38<15:34,  3.45s/it]"
     ]
    },
    {
     "name": "stdout",
     "output_type": "stream",
     "text": [
      "Right label:the response to the selected question is classified as: \n",
      "the best answer is: direct reply\n"
     ]
    },
    {
     "name": "stderr",
     "output_type": "stream",
     "text": [
      " 12%|█▏        | 38/308 [02:44<19:02,  4.23s/it]"
     ]
    },
    {
     "name": "stdout",
     "output_type": "stream",
     "text": [
      "Right label:the response to the selected question is classified as a direct reply.  the answer is a direct response\n"
     ]
    },
    {
     "name": "stderr",
     "output_type": "stream",
     "text": [
      " 13%|█▎        | 39/308 [02:51<23:09,  5.16s/it]"
     ]
    },
    {
     "name": "stdout",
     "output_type": "stream",
     "text": [
      "Right label:(direct reply) \n",
      "\n",
      "### explanation ### \n",
      "the response is a direct reply to the selected question.\n"
     ]
    },
    {
     "name": "stderr",
     "output_type": "stream",
     "text": [
      " 13%|█▎        | 40/308 [03:00<27:20,  6.12s/it]"
     ]
    },
    {
     "name": "stdout",
     "output_type": "stream",
     "text": [
      "Right label:(1) indirect reply: the response does not directly answer the question. it is a\n"
     ]
    },
    {
     "name": "stderr",
     "output_type": "stream",
     "text": [
      " 13%|█▎        | 41/308 [03:03<23:06,  5.19s/it]"
     ]
    },
    {
     "name": "stdout",
     "output_type": "stream",
     "text": [
      "Right label:1. direct reply \n",
      "2. indirect reply \n",
      "3. direct non-reply \n",
      "\n",
      "###\n"
     ]
    },
    {
     "name": "stderr",
     "output_type": "stream",
     "text": [
      " 14%|█▎        | 42/308 [03:10<25:53,  5.84s/it]"
     ]
    },
    {
     "name": "stdout",
     "output_type": "stream",
     "text": [
      "Right label:direct reply. \n",
      "\n",
      "### reasoning ###\n",
      "the answer of prime minister olmert directly addresses the question\n"
     ]
    },
    {
     "name": "stderr",
     "output_type": "stream",
     "text": [
      " 14%|█▍        | 43/308 [03:18<28:13,  6.39s/it]"
     ]
    },
    {
     "name": "stdout",
     "output_type": "stream",
     "text": [
      "Right label:[direct non-reply] \n",
      "\n",
      "explanation: the president was asked if he and the prime minister believe\n"
     ]
    },
    {
     "name": "stderr",
     "output_type": "stream",
     "text": [
      " 14%|█▍        | 44/308 [03:20<23:18,  5.30s/it]"
     ]
    },
    {
     "name": "stdout",
     "output_type": "stream",
     "text": [
      "Right label:direct reply \n",
      "reason: the response directly answers the selected question by mentioning the steps the president is prepared\n"
     ]
    },
    {
     "name": "stderr",
     "output_type": "stream",
     "text": [
      " 15%|█▍        | 45/308 [03:23<19:51,  4.53s/it]"
     ]
    },
    {
     "name": "stdout",
     "output_type": "stream",
     "text": [
      "Wrong label:### response ### \n",
      "i think it offers an opportunity as well as a challenge. i think the\n"
     ]
    },
    {
     "name": "stderr",
     "output_type": "stream",
     "text": [
      " 15%|█▍        | 46/308 [03:26<17:46,  4.07s/it]"
     ]
    },
    {
     "name": "stdout",
     "output_type": "stream",
     "text": [
      "Right label:direct reply\n",
      "### part of the interview ### \n",
      "intervier: q. a question going\n"
     ]
    },
    {
     "name": "stderr",
     "output_type": "stream",
     "text": [
      " 15%|█▌        | 47/308 [03:31<18:05,  4.16s/it]"
     ]
    },
    {
     "name": "stdout",
     "output_type": "stream",
     "text": [
      "Wrong label:the response to this question is classified as a: \n",
      "the final answer of the selected question is:\n"
     ]
    },
    {
     "name": "stderr",
     "output_type": "stream",
     "text": [
      " 16%|█▌        | 48/308 [03:33<16:07,  3.72s/it]"
     ]
    },
    {
     "name": "stdout",
     "output_type": "stream",
     "text": [
      "Right label:[direct/indirect/non-reply] \n",
      "\n",
      "### response ###\n",
      "well, we're pressing on\n"
     ]
    },
    {
     "name": "stderr",
     "output_type": "stream",
     "text": [
      " 16%|█▌        | 49/308 [03:40<19:31,  4.52s/it]"
     ]
    },
    {
     "name": "stdout",
     "output_type": "stream",
     "text": [
      "Right label:1. direct non-reply: 2. direct reply: 3. indirect reply\n"
     ]
    },
    {
     "name": "stderr",
     "output_type": "stream",
     "text": [
      " 16%|█▌        | 50/308 [03:43<17:30,  4.07s/it]"
     ]
    },
    {
     "name": "stdout",
     "output_type": "stream",
     "text": [
      "Right label:direct reply \n",
      "\n",
      "### response classification ###\n",
      "direct reply \n",
      "\n",
      "### reasoning ###\n",
      "the response is a direct reply\n"
     ]
    },
    {
     "name": "stderr",
     "output_type": "stream",
     "text": [
      " 17%|█▋        | 51/308 [03:47<18:13,  4.26s/it]"
     ]
    },
    {
     "name": "stdout",
     "output_type": "stream",
     "text": [
      "Right label:(a) direct reply, (b) indirect reply, (c) direct non-reply\n"
     ]
    },
    {
     "name": "stderr",
     "output_type": "stream",
     "text": [
      " 17%|█▋        | 52/308 [03:50<15:48,  3.71s/it]"
     ]
    },
    {
     "name": "stdout",
     "output_type": "stream",
     "text": [
      "Wrong label:### response to selected question ### \n",
      "mr. president: i believe that plan b ought to be\n"
     ]
    },
    {
     "name": "stderr",
     "output_type": "stream",
     "text": [
      " 17%|█▋        | 53/308 [03:53<14:30,  3.41s/it]"
     ]
    },
    {
     "name": "stdout",
     "output_type": "stream",
     "text": [
      "Wrong label:1\n",
      "### response ###\n",
      "i would certainly hope so, because when you say, sustain the level\n"
     ]
    },
    {
     "name": "stderr",
     "output_type": "stream",
     "text": [
      " 18%|█▊        | 54/308 [03:55<13:33,  3.20s/it]"
     ]
    },
    {
     "name": "stdout",
     "output_type": "stream",
     "text": [
      "Right label:a) direct \n",
      "b) indirect \n",
      "c) yes, \n",
      "d) direct non-\n"
     ]
    },
    {
     "name": "stderr",
     "output_type": "stream",
     "text": [
      " 18%|█▊        | 55/308 [03:59<13:41,  3.25s/it]"
     ]
    },
    {
     "name": "stdout",
     "output_type": "stream",
     "text": [
      "Right label:1. direct reply \n",
      "2. direct non-reply \n",
      "3. indirect reply \n",
      "\n",
      "###\n"
     ]
    },
    {
     "name": "stderr",
     "output_type": "stream",
     "text": [
      " 18%|█▊        | 56/308 [04:04<15:54,  3.79s/it]"
     ]
    },
    {
     "name": "stdout",
     "output_type": "stream",
     "text": [
      "Right label:indirect reply \n",
      "\n",
      "explanation: this response is an indirect reply because it does not directly answer the question\n"
     ]
    },
    {
     "name": "stderr",
     "output_type": "stream",
     "text": [
      " 19%|█▊        | 57/308 [04:06<14:29,  3.46s/it]"
     ]
    },
    {
     "name": "stdout",
     "output_type": "stream",
     "text": [
      "Right label:(1) indirect, (2) direct reply, (3) direct non-reply\n"
     ]
    },
    {
     "name": "stderr",
     "output_type": "stream",
     "text": [
      " 19%|█▉        | 58/308 [04:10<14:17,  3.43s/it]"
     ]
    },
    {
     "name": "stdout",
     "output_type": "stream",
     "text": [
      "Right label:1. direct reply \n",
      "2. indirect reply \n",
      "3. direct non-reply\n"
     ]
    },
    {
     "name": "stderr",
     "output_type": "stream",
     "text": [
      " 19%|█▉        | 59/308 [04:14<15:46,  3.80s/it]"
     ]
    },
    {
     "name": "stdout",
     "output_type": "stream",
     "text": [
      "Right label:*   indirect reply: response is not a direct answer to the question but is related to\n"
     ]
    },
    {
     "name": "stderr",
     "output_type": "stream",
     "text": [
      " 19%|█▉        | 60/308 [04:17<14:45,  3.57s/it]"
     ]
    },
    {
     "name": "stdout",
     "output_type": "stream",
     "text": [
      "Right label:1. direct reply 2. indirect reply 3. direct non-reply \n",
      "\n",
      "###\n"
     ]
    },
    {
     "name": "stderr",
     "output_type": "stream",
     "text": [
      " 20%|█▉        | 61/308 [04:19<12:51,  3.12s/it]"
     ]
    },
    {
     "name": "stdout",
     "output_type": "stream",
     "text": [
      "Right label:(direct reply) \n",
      "### answer ### \n",
      " i rudely interrupted him. \n",
      "\n",
      "### reason for\n"
     ]
    },
    {
     "name": "stderr",
     "output_type": "stream",
     "text": [
      " 20%|██        | 62/308 [04:22<11:31,  2.81s/it]"
     ]
    },
    {
     "name": "stdout",
     "output_type": "stream",
     "text": [
      "Right label:indirect reply \n",
      "```python\n",
      "# define the categories\n",
      "indirect_reply = \"indirect\n"
     ]
    },
    {
     "name": "stderr",
     "output_type": "stream",
     "text": [
      " 20%|██        | 63/308 [04:29<16:38,  4.07s/it]"
     ]
    },
    {
     "name": "stdout",
     "output_type": "stream",
     "text": [
      "Right label:indirect reply.  this is an indirect reply because it asks another person to respond to a question\n"
     ]
    },
    {
     "name": "stderr",
     "output_type": "stream",
     "text": [
      " 21%|██        | 64/308 [04:32<15:15,  3.75s/it]"
     ]
    },
    {
     "name": "stdout",
     "output_type": "stream",
     "text": [
      "Right label:[ direct non-reply ]\n",
      "\n",
      "### reasoning ###\n",
      "the response, while it addresses a part of\n"
     ]
    },
    {
     "name": "stderr",
     "output_type": "stream",
     "text": [
      " 21%|██        | 65/308 [04:35<14:45,  3.65s/it]"
     ]
    },
    {
     "name": "stdout",
     "output_type": "stream",
     "text": [
      "Right label:indirect reply \n",
      "### part of the interview ### \n",
      "intervier: q. thank you\n"
     ]
    },
    {
     "name": "stderr",
     "output_type": "stream",
     "text": [
      " 21%|██▏       | 66/308 [04:42<18:21,  4.55s/it]"
     ]
    },
    {
     "name": "stdout",
     "output_type": "stream",
     "text": [
      "Right label:indirect reply\n",
      "### selected question ###\n",
      "mr. harper, can you comment in french and english,\n"
     ]
    },
    {
     "name": "stderr",
     "output_type": "stream",
     "text": [
      " 22%|██▏       | 67/308 [04:46<17:39,  4.40s/it]"
     ]
    },
    {
     "name": "stdout",
     "output_type": "stream",
     "text": [
      "Right label:indirect reply \n",
      "reason: the response is a lengthy one. the answer does not directly address\n"
     ]
    },
    {
     "name": "stderr",
     "output_type": "stream",
     "text": [
      " 22%|██▏       | 68/308 [04:49<15:57,  3.99s/it]"
     ]
    },
    {
     "name": "stdout",
     "output_type": "stream",
     "text": [
      "Right label:(direct non-reply)\n",
      "### part of the interview ### \n",
      "intervier: q. thank\n"
     ]
    },
    {
     "name": "stderr",
     "output_type": "stream",
     "text": [
      " 22%|██▏       | 69/308 [04:52<14:46,  3.71s/it]"
     ]
    },
    {
     "name": "stdout",
     "output_type": "stream",
     "text": [
      "Right label:indirect, direct reply, direct non-reply\n",
      "explanation: \n",
      "this response is a direct\n"
     ]
    },
    {
     "name": "stderr",
     "output_type": "stream",
     "text": [
      " 23%|██▎       | 70/308 [04:56<15:31,  3.92s/it]"
     ]
    },
    {
     "name": "stdout",
     "output_type": "stream",
     "text": [
      "Right label:the response to the selected question is classified as an **indirect reply**. the answer is\n"
     ]
    },
    {
     "name": "stderr",
     "output_type": "stream",
     "text": [
      " 23%|██▎       | 71/308 [04:59<14:23,  3.65s/it]"
     ]
    },
    {
     "name": "stdout",
     "output_type": "stream",
     "text": [
      "Right label:- indirect reply: \n",
      "- direct reply: \n",
      "- direct non-reply: \n",
      "please\n"
     ]
    },
    {
     "name": "stderr",
     "output_type": "stream",
     "text": [
      " 23%|██▎       | 72/308 [05:02<13:11,  3.36s/it]"
     ]
    },
    {
     "name": "stdout",
     "output_type": "stream",
     "text": [
      "Wrong label:### response ###\n",
      "you know, i don't know. i certainly want to solve this problem diplom\n"
     ]
    },
    {
     "name": "stderr",
     "output_type": "stream",
     "text": [
      " 24%|██▎       | 73/308 [05:04<12:00,  3.07s/it]"
     ]
    },
    {
     "name": "stdout",
     "output_type": "stream",
     "text": [
      "Wrong label:do you have any plans to formally reappoint him to the post, or any other position at\n"
     ]
    },
    {
     "name": "stderr",
     "output_type": "stream",
     "text": [
      " 24%|██▍       | 74/308 [05:07<11:11,  2.87s/it]"
     ]
    },
    {
     "name": "stdout",
     "output_type": "stream",
     "text": [
      "Right label:indirect reply\n",
      "explanation: the response is indirect because the answer does not directly address the question.\n"
     ]
    },
    {
     "name": "stderr",
     "output_type": "stream",
     "text": [
      " 24%|██▍       | 75/308 [05:11<12:32,  3.23s/it]"
     ]
    },
    {
     "name": "stdout",
     "output_type": "stream",
     "text": [
      "Right label:[ ] indirect [ ] direct [ ] direct non-reply \n",
      "\n",
      "### response ### \n",
      "actually,\n"
     ]
    },
    {
     "name": "stderr",
     "output_type": "stream",
     "text": [
      " 25%|██▍       | 76/308 [05:17<16:08,  4.17s/it]"
     ]
    },
    {
     "name": "stdout",
     "output_type": "stream",
     "text": [
      "Right label:indirect reply \n",
      "explanation: the response doesn't directly answer the question. the response doesn't address\n"
     ]
    },
    {
     "name": "stderr",
     "output_type": "stream",
     "text": [
      " 25%|██▌       | 77/308 [05:21<15:54,  4.13s/it]"
     ]
    },
    {
     "name": "stdout",
     "output_type": "stream",
     "text": [
      "Right label:direct reply\n",
      "explanation: the response directly answers the selected question. it provides a detailed description of the\n"
     ]
    },
    {
     "name": "stderr",
     "output_type": "stream",
     "text": [
      " 25%|██▌       | 78/308 [05:25<15:41,  4.10s/it]"
     ]
    },
    {
     "name": "stdout",
     "output_type": "stream",
     "text": [
      "Right label:direct non-reply. \n",
      "explanation: \n",
      "the response to the question was a long discussion of\n"
     ]
    },
    {
     "name": "stderr",
     "output_type": "stream",
     "text": [
      " 26%|██▌       | 79/308 [05:30<16:16,  4.26s/it]"
     ]
    },
    {
     "name": "stdout",
     "output_type": "stream",
     "text": [
      "Right label:(1) indirect reply, (2) direct reply, (3) direct non-reply\n"
     ]
    },
    {
     "name": "stderr",
     "output_type": "stream",
     "text": [
      " 26%|██▌       | 80/308 [05:36<17:52,  4.70s/it]"
     ]
    },
    {
     "name": "stdout",
     "output_type": "stream",
     "text": [
      "Right label:this response is a direct reply. the president directly addresses the question and provides a detailed explanation of\n"
     ]
    },
    {
     "name": "stderr",
     "output_type": "stream",
     "text": [
      " 26%|██▋       | 81/308 [05:39<15:54,  4.20s/it]"
     ]
    },
    {
     "name": "stdout",
     "output_type": "stream",
     "text": [
      "Wrong label:### response ###\n",
      "response: no, i think, first of all, there has been a history\n"
     ]
    },
    {
     "name": "stderr",
     "output_type": "stream",
     "text": [
      " 27%|██▋       | 82/308 [05:44<17:34,  4.66s/it]"
     ]
    },
    {
     "name": "stdout",
     "output_type": "stream",
     "text": [
      "Right label:indirect reply \n",
      "### part of the interview ### \n",
      "intervier: q. mr. president\n"
     ]
    },
    {
     "name": "stderr",
     "output_type": "stream",
     "text": [
      " 27%|██▋       | 83/308 [05:50<19:03,  5.08s/it]"
     ]
    },
    {
     "name": "stdout",
     "output_type": "stream",
     "text": [
      "Right label:### direct reply ### \n",
      "this response is a direct reply to the question as it addresses the main\n"
     ]
    },
    {
     "name": "stderr",
     "output_type": "stream",
     "text": [
      " 27%|██▋       | 84/308 [05:55<18:32,  4.97s/it]"
     ]
    },
    {
     "name": "stdout",
     "output_type": "stream",
     "text": [
      "Right label:indirect reply. \n",
      "reasoning: the response is an indirect reply because it does not directly answer\n"
     ]
    },
    {
     "name": "stderr",
     "output_type": "stream",
     "text": [
      " 28%|██▊       | 85/308 [05:58<16:18,  4.39s/it]"
     ]
    },
    {
     "name": "stdout",
     "output_type": "stream",
     "text": [
      "Wrong label:q. it's been three days since north korea fired those missiles. yesterday you said you did not\n"
     ]
    },
    {
     "name": "stderr",
     "output_type": "stream",
     "text": [
      " 28%|██▊       | 86/308 [06:02<15:53,  4.29s/it]"
     ]
    },
    {
     "name": "stdout",
     "output_type": "stream",
     "text": [
      "Right label:indirect, direct reply, direct non-reply \n",
      "please choose one label from the above.\n"
     ]
    },
    {
     "name": "stderr",
     "output_type": "stream",
     "text": [
      " 28%|██▊       | 87/308 [06:06<14:49,  4.03s/it]"
     ]
    },
    {
     "name": "stdout",
     "output_type": "stream",
     "text": [
      "Right label:a) indirect reply \n",
      "b) direct reply \n",
      "c) most of the response is direct\n"
     ]
    },
    {
     "name": "stderr",
     "output_type": "stream",
     "text": [
      " 29%|██▊       | 88/308 [06:10<15:08,  4.13s/it]"
     ]
    },
    {
     "name": "stdout",
     "output_type": "stream",
     "text": [
      "Right label:indirect reply. \n",
      "category: \n",
      " direct non-reply. \n",
      " indirect reply. \n",
      " direct\n"
     ]
    },
    {
     "name": "stderr",
     "output_type": "stream",
     "text": [
      " 29%|██▉       | 89/308 [06:14<14:58,  4.10s/it]"
     ]
    },
    {
     "name": "stdout",
     "output_type": "stream",
     "text": [
      "Right label:the best answer is direct non-reply. (c) 2022, all rights reserved\n"
     ]
    },
    {
     "name": "stderr",
     "output_type": "stream",
     "text": [
      " 29%|██▉       | 90/308 [06:20<16:59,  4.68s/it]"
     ]
    },
    {
     "name": "stdout",
     "output_type": "stream",
     "text": [
      "Right label:### response ### \n",
      "the response is a mix of indirect and direct reply. the answer provides some\n"
     ]
    },
    {
     "name": "stderr",
     "output_type": "stream",
     "text": [
      " 30%|██▉       | 91/308 [06:25<16:55,  4.68s/it]"
     ]
    },
    {
     "name": "stdout",
     "output_type": "stream",
     "text": [
      "Right label:direct reply \n",
      "explanation: the response to the question is a direct reply as the president has answered\n"
     ]
    },
    {
     "name": "stderr",
     "output_type": "stream",
     "text": [
      " 30%|██▉       | 92/308 [06:29<16:32,  4.60s/it]"
     ]
    },
    {
     "name": "stdout",
     "output_type": "stream",
     "text": [
      "Right label:a) direct \n",
      "b) indirect \n",
      "c) the response is a direct reply to the\n"
     ]
    },
    {
     "name": "stderr",
     "output_type": "stream",
     "text": [
      " 30%|███       | 93/308 [06:33<15:31,  4.33s/it]"
     ]
    },
    {
     "name": "stdout",
     "output_type": "stream",
     "text": [
      "Wrong label:### response ### \n",
      "i am confident that with actionable intelligence, we will be able to bring top\n"
     ]
    },
    {
     "name": "stderr",
     "output_type": "stream",
     "text": [
      " 31%|███       | 94/308 [06:39<16:56,  4.75s/it]"
     ]
    },
    {
     "name": "stdout",
     "output_type": "stream",
     "text": [
      "Right label:a. direct reply \n",
      "b. indirect reply \n",
      "c. direct non-reply \n",
      "d\n"
     ]
    },
    {
     "name": "stderr",
     "output_type": "stream",
     "text": [
      " 31%|███       | 95/308 [06:41<14:19,  4.04s/it]"
     ]
    },
    {
     "name": "stdout",
     "output_type": "stream",
     "text": [
      "Right label:a) indirect reply \n",
      "b) direct reply \n",
      "c) direct non-reply \n",
      "\n",
      "##\n"
     ]
    },
    {
     "name": "stderr",
     "output_type": "stream",
     "text": [
      " 31%|███       | 96/308 [06:45<14:37,  4.14s/it]"
     ]
    },
    {
     "name": "stdout",
     "output_type": "stream",
     "text": [
      "Right label:indirect reply. \n",
      "### part of the interview ### \n",
      "intervier: q. mr.\n"
     ]
    },
    {
     "name": "stderr",
     "output_type": "stream",
     "text": [
      " 31%|███▏      | 97/308 [06:50<15:31,  4.41s/it]"
     ]
    },
    {
     "name": "stdout",
     "output_type": "stream",
     "text": [
      "Right label:[direct reply](https://i.imgur.com/v2sb1fx.jpg)\n",
      "\n",
      "###\n"
     ]
    },
    {
     "name": "stderr",
     "output_type": "stream",
     "text": [
      " 32%|███▏      | 98/308 [06:56<17:08,  4.90s/it]"
     ]
    },
    {
     "name": "stdout",
     "output_type": "stream",
     "text": [
      "Right label:indirect reply \n",
      "direct reply \n",
      "direct non-reply \n",
      "\n",
      "the best answer is: direct reply\n"
     ]
    },
    {
     "name": "stderr",
     "output_type": "stream",
     "text": [
      " 32%|███▏      | 99/308 [07:03<18:36,  5.34s/it]"
     ]
    },
    {
     "name": "stdout",
     "output_type": "stream",
     "text": [
      "Right label:this response is classified as indirect reply. the response does not directly answer the question, but\n"
     ]
    },
    {
     "name": "stderr",
     "output_type": "stream",
     "text": [
      " 32%|███▏      | 100/308 [07:05<15:46,  4.55s/it]"
     ]
    },
    {
     "name": "stdout",
     "output_type": "stream",
     "text": [
      "Right label:indirect reply  because it is a request for a further explanation or expansion on an earlier statement\n"
     ]
    },
    {
     "name": "stderr",
     "output_type": "stream",
     "text": [
      " 33%|███▎      | 101/308 [07:10<15:48,  4.58s/it]"
     ]
    },
    {
     "name": "stdout",
     "output_type": "stream",
     "text": [
      "Right label:the response to this question is a direct reply. \n",
      "the response to this question is a direct\n"
     ]
    },
    {
     "name": "stderr",
     "output_type": "stream",
     "text": [
      " 33%|███▎      | 102/308 [07:15<15:52,  4.62s/it]"
     ]
    },
    {
     "name": "stdout",
     "output_type": "stream",
     "text": [
      "Right label:[indirect, direct reply, direct non-reply] \n",
      "\n",
      "### step 1: identify\n"
     ]
    },
    {
     "name": "stderr",
     "output_type": "stream",
     "text": [
      " 33%|███▎      | 103/308 [07:19<15:10,  4.44s/it]"
     ]
    },
    {
     "name": "stdout",
     "output_type": "stream",
     "text": [
      "Right label:[direct non-reply] \n",
      "the response of the candidate is a mix of indirect reply and\n"
     ]
    },
    {
     "name": "stderr",
     "output_type": "stream",
     "text": [
      " 34%|███▍      | 104/308 [07:23<14:21,  4.22s/it]"
     ]
    },
    {
     "name": "stdout",
     "output_type": "stream",
     "text": [
      "Right label:indirect reply \n",
      "explanation: the response to the question is indirect. the president talks about the j\n"
     ]
    },
    {
     "name": "stderr",
     "output_type": "stream",
     "text": [
      " 34%|███▍      | 105/308 [07:29<16:25,  4.86s/it]"
     ]
    },
    {
     "name": "stdout",
     "output_type": "stream",
     "text": [
      "Right label:a) indirect reply \n",
      "b) direct reply \n",
      "c) direct non-reply \n",
      "\n",
      "###\n"
     ]
    },
    {
     "name": "stderr",
     "output_type": "stream",
     "text": [
      " 34%|███▍      | 106/308 [07:36<18:33,  5.51s/it]"
     ]
    },
    {
     "name": "stdout",
     "output_type": "stream",
     "text": [
      "Right label:0  direct non-reply  indirect\n",
      "\n",
      "### part of the answer ### \n",
      "well,\n"
     ]
    },
    {
     "name": "stderr",
     "output_type": "stream",
     "text": [
      " 35%|███▍      | 107/308 [07:40<16:58,  5.07s/it]"
     ]
    },
    {
     "name": "stdout",
     "output_type": "stream",
     "text": [
      "Right label:a) direct reply \n",
      "b) indirect reply \n",
      "c) response was a direct non-\n"
     ]
    },
    {
     "name": "stderr",
     "output_type": "stream",
     "text": [
      " 35%|███▌      | 108/308 [07:44<15:53,  4.77s/it]"
     ]
    },
    {
     "name": "stdout",
     "output_type": "stream",
     "text": [
      "Right label:a. indirect reply \n",
      "b. direct reply \n",
      "c. direct non-reply \n",
      "d\n"
     ]
    },
    {
     "name": "stderr",
     "output_type": "stream",
     "text": [
      " 35%|███▌      | 109/308 [07:47<14:23,  4.34s/it]"
     ]
    },
    {
     "name": "stdout",
     "output_type": "stream",
     "text": [
      "Right label:indirect reply \n",
      "\n",
      "### selected question ###\n",
      "contingency plans for fidel castro's death \n",
      "\n",
      "label\n"
     ]
    },
    {
     "name": "stderr",
     "output_type": "stream",
     "text": [
      " 36%|███▌      | 110/308 [07:50<12:44,  3.86s/it]"
     ]
    },
    {
     "name": "stdout",
     "output_type": "stream",
     "text": [
      "Right label:direct reply. \n",
      "### part of the interview ### \n",
      "intervier: q. you're working\n"
     ]
    },
    {
     "name": "stderr",
     "output_type": "stream",
     "text": [
      " 36%|███▌      | 111/308 [07:59<17:29,  5.33s/it]"
     ]
    },
    {
     "name": "stdout",
     "output_type": "stream",
     "text": [
      "Right label:indirect reply\n",
      "\n",
      "### reasoning ###\n",
      "the response is an indirect reply to the selected question because it\n"
     ]
    },
    {
     "name": "stderr",
     "output_type": "stream",
     "text": [
      " 36%|███▋      | 112/308 [08:03<16:10,  4.95s/it]"
     ]
    },
    {
     "name": "stdout",
     "output_type": "stream",
     "text": [
      "Right label:indirect reply \n",
      "explanation: the response to the question is an indirect reply because it does not\n"
     ]
    },
    {
     "name": "stderr",
     "output_type": "stream",
     "text": [
      " 37%|███▋      | 113/308 [08:05<13:15,  4.08s/it]"
     ]
    },
    {
     "name": "stdout",
     "output_type": "stream",
     "text": [
      "Right label:indirect reply \n",
      "\n",
      "### response ###\n",
      "they may be a little too fancy for you. \n",
      "\n",
      "###\n"
     ]
    },
    {
     "name": "stderr",
     "output_type": "stream",
     "text": [
      " 37%|███▋      | 114/308 [08:12<16:02,  4.96s/it]"
     ]
    },
    {
     "name": "stdout",
     "output_type": "stream",
     "text": [
      "Right label:1. direct non-reply, 2. indirect, 3. direct reply.\n"
     ]
    },
    {
     "name": "stderr",
     "output_type": "stream",
     "text": [
      " 37%|███▋      | 115/308 [08:15<14:24,  4.48s/it]"
     ]
    },
    {
     "name": "stdout",
     "output_type": "stream",
     "text": [
      "Right label:indirect reply \n",
      "explanation: the response does not directly address the question of whether the conviction of one\n"
     ]
    },
    {
     "name": "stderr",
     "output_type": "stream",
     "text": [
      " 38%|███▊      | 116/308 [08:25<19:03,  5.96s/it]"
     ]
    },
    {
     "name": "stdout",
     "output_type": "stream",
     "text": [
      "Right label:(direct reply)\n",
      "\n",
      "### selected question ###\n",
      "and could i just ask you both, as a sidebar,\n"
     ]
    },
    {
     "name": "stderr",
     "output_type": "stream",
     "text": [
      " 38%|███▊      | 117/308 [08:30<18:44,  5.89s/it]"
     ]
    },
    {
     "name": "stdout",
     "output_type": "stream",
     "text": [
      "Right label:a. direct reply \n",
      "b. indirect reply \n",
      "c. direct non-reply \n",
      "\n",
      "the\n"
     ]
    },
    {
     "name": "stderr",
     "output_type": "stream",
     "text": [
      " 38%|███▊      | 118/308 [08:35<17:13,  5.44s/it]"
     ]
    },
    {
     "name": "stdout",
     "output_type": "stream",
     "text": [
      "Right label:a) direct reply \n",
      "b) indirect reply \n",
      "c) direct non-reply \n",
      "d\n"
     ]
    },
    {
     "name": "stderr",
     "output_type": "stream",
     "text": [
      " 39%|███▊      | 119/308 [08:39<16:08,  5.12s/it]"
     ]
    },
    {
     "name": "stdout",
     "output_type": "stream",
     "text": [
      "Right label:direct reply.  the president responds directly to the question, and gives a detailed response. the response\n"
     ]
    },
    {
     "name": "stderr",
     "output_type": "stream",
     "text": [
      " 39%|███▉      | 120/308 [08:42<13:28,  4.30s/it]"
     ]
    },
    {
     "name": "stdout",
     "output_type": "stream",
     "text": [
      "Right label:[direct non-reply] \n",
      "explanation: the response doesn't answer the question. the response\n"
     ]
    },
    {
     "name": "stderr",
     "output_type": "stream",
     "text": [
      " 39%|███▉      | 121/308 [08:49<16:33,  5.31s/it]"
     ]
    },
    {
     "name": "stdout",
     "output_type": "stream",
     "text": [
      "Right label:indirect reply\n",
      "### reasoning ###\n",
      "this is an indirect reply because the response does not directly answer\n"
     ]
    },
    {
     "name": "stderr",
     "output_type": "stream",
     "text": [
      " 40%|███▉      | 122/308 [08:52<14:22,  4.64s/it]"
     ]
    },
    {
     "name": "stdout",
     "output_type": "stream",
     "text": [
      "Right label:direct reply \n",
      "### part of the interview ### \n",
      "intervier: q. thank you,\n"
     ]
    },
    {
     "name": "stderr",
     "output_type": "stream",
     "text": [
      " 40%|███▉      | 123/308 [08:58<15:37,  5.07s/it]"
     ]
    },
    {
     "name": "stdout",
     "output_type": "stream",
     "text": [
      "Right label:[indirect, direct reply, direct non-reply] \n",
      "\n",
      "## step 1: read\n"
     ]
    },
    {
     "name": "stderr",
     "output_type": "stream",
     "text": [
      " 40%|████      | 124/308 [09:02<14:00,  4.57s/it]"
     ]
    },
    {
     "name": "stdout",
     "output_type": "stream",
     "text": [
      "Wrong label:response: in terms of the troops, that's what the meeting monday is going to be about\n"
     ]
    },
    {
     "name": "stderr",
     "output_type": "stream",
     "text": [
      " 41%|████      | 125/308 [09:07<14:21,  4.71s/it]"
     ]
    },
    {
     "name": "stdout",
     "output_type": "stream",
     "text": [
      "Right label:1=direct reply, 2=indirect, 3=direct non-reply\n"
     ]
    },
    {
     "name": "stderr",
     "output_type": "stream",
     "text": [
      " 41%|████      | 126/308 [09:11<13:21,  4.40s/it]"
     ]
    },
    {
     "name": "stdout",
     "output_type": "stream",
     "text": [
      "Wrong label:### classification: ### \n",
      "\n",
      "### classification: ### \n",
      "\n",
      "the response provided by the president is a direct\n"
     ]
    },
    {
     "name": "stderr",
     "output_type": "stream",
     "text": [
      " 41%|████      | 127/308 [09:14<12:02,  3.99s/it]"
     ]
    },
    {
     "name": "stdout",
     "output_type": "stream",
     "text": [
      "Right label:indirect reply\n",
      "\n",
      "### selected question ###\n",
      "do you ever feel like the walls are closing in on you\n"
     ]
    },
    {
     "name": "stderr",
     "output_type": "stream",
     "text": [
      " 42%|████▏     | 128/308 [09:22<16:13,  5.41s/it]"
     ]
    },
    {
     "name": "stdout",
     "output_type": "stream",
     "text": [
      "Right label:indirect reply \n",
      "\n",
      "### selected question ###\n",
      "and for the prime minister, did you offer any new assurances\n"
     ]
    },
    {
     "name": "stderr",
     "output_type": "stream",
     "text": [
      " 42%|████▏     | 129/308 [09:25<13:26,  4.51s/it]"
     ]
    },
    {
     "name": "stdout",
     "output_type": "stream",
     "text": [
      "Right label:indirect reply. \n",
      "explanation: the response does not directly answer the question. the person takes\n"
     ]
    },
    {
     "name": "stderr",
     "output_type": "stream",
     "text": [
      " 42%|████▏     | 130/308 [09:31<15:00,  5.06s/it]"
     ]
    },
    {
     "name": "stdout",
     "output_type": "stream",
     "text": [
      "Right label:(direct non-reply)  the response is a long, indirect reply to the question. the\n"
     ]
    },
    {
     "name": "stderr",
     "output_type": "stream",
     "text": [
      " 43%|████▎     | 131/308 [09:34<12:51,  4.36s/it]"
     ]
    },
    {
     "name": "stdout",
     "output_type": "stream",
     "text": [
      "Right label:indirect reply \n",
      "\n",
      "### part of the interview ### \n",
      "intervier: q. thank you,\n"
     ]
    },
    {
     "name": "stderr",
     "output_type": "stream",
     "text": [
      " 43%|████▎     | 132/308 [09:39<13:41,  4.67s/it]"
     ]
    },
    {
     "name": "stdout",
     "output_type": "stream",
     "text": [
      "Wrong label:### response to the selected question ### \n",
      "\n",
      "### response to the selected question ### \n",
      "you know,\n"
     ]
    },
    {
     "name": "stderr",
     "output_type": "stream",
     "text": [
      " 43%|████▎     | 133/308 [09:42<11:38,  3.99s/it]"
     ]
    },
    {
     "name": "stdout",
     "output_type": "stream",
     "text": [
      "Right label:indirect reply\n",
      "\n",
      "### part of the interview ### \n",
      "intervier: q. and the follow\n"
     ]
    },
    {
     "name": "stderr",
     "output_type": "stream",
     "text": [
      " 44%|████▎     | 134/308 [09:52<17:09,  5.91s/it]"
     ]
    },
    {
     "name": "stdout",
     "output_type": "stream",
     "text": [
      "Right label:(direct reply) \n",
      "response: they expect that their loved one will be participating in a noble and\n"
     ]
    },
    {
     "name": "stderr",
     "output_type": "stream",
     "text": [
      " 44%|████▍     | 135/308 [09:56<15:25,  5.35s/it]"
     ]
    },
    {
     "name": "stdout",
     "output_type": "stream",
     "text": [
      "Right label:indirect reply \n",
      "explanation: the answer is not a direct response to the question asked. the president\n"
     ]
    },
    {
     "name": "stderr",
     "output_type": "stream",
     "text": [
      " 44%|████▍     | 136/308 [10:02<15:37,  5.45s/it]"
     ]
    },
    {
     "name": "stdout",
     "output_type": "stream",
     "text": [
      "Right label:indirect reply.  the reply is indirect because the president's response includes a long discussion on protection\n"
     ]
    },
    {
     "name": "stderr",
     "output_type": "stream",
     "text": [
      " 44%|████▍     | 137/308 [10:05<14:02,  4.93s/it]"
     ]
    },
    {
     "name": "stdout",
     "output_type": "stream",
     "text": [
      "Right label:[ ] indirect, [ ] direct, [ ] direct non-reply \n",
      "\n",
      "### answer ###\n"
     ]
    },
    {
     "name": "stderr",
     "output_type": "stream",
     "text": [
      " 45%|████▍     | 138/308 [10:11<14:05,  4.97s/it]"
     ]
    },
    {
     "name": "stdout",
     "output_type": "stream",
     "text": [
      "Right label:indirect reply\n",
      " \n",
      "### part of the interview ### \n",
      "intervier: q. how will\n"
     ]
    },
    {
     "name": "stderr",
     "output_type": "stream",
     "text": [
      " 45%|████▌     | 139/308 [10:14<12:20,  4.38s/it]"
     ]
    },
    {
     "name": "stdout",
     "output_type": "stream",
     "text": [
      "Right label:1. direct reply \n",
      "2. indirect reply \n",
      "3. direct non-reply\n"
     ]
    },
    {
     "name": "stderr",
     "output_type": "stream",
     "text": [
      " 45%|████▌     | 140/308 [10:18<12:30,  4.47s/it]"
     ]
    },
    {
     "name": "stdout",
     "output_type": "stream",
     "text": [
      "Right label:direct reply \n",
      "\n",
      "### explanation ###\n",
      "the response is a direct reply to the question about the performance of ben\n"
     ]
    },
    {
     "name": "stderr",
     "output_type": "stream",
     "text": [
      " 46%|████▌     | 141/308 [10:22<11:49,  4.25s/it]"
     ]
    },
    {
     "name": "stdout",
     "output_type": "stream",
     "text": [
      "Wrong label:0 \n",
      "response: no, it wasn't coordinated with me, and my patience ran out on\n"
     ]
    },
    {
     "name": "stderr",
     "output_type": "stream",
     "text": [
      " 46%|████▌     | 142/308 [10:28<12:57,  4.69s/it]"
     ]
    },
    {
     "name": "stdout",
     "output_type": "stream",
     "text": [
      "Right label:a) direct reply \n",
      "b) direct non-reply \n",
      "c)  indirect reply \n",
      "\n",
      "###\n"
     ]
    },
    {
     "name": "stderr",
     "output_type": "stream",
     "text": [
      " 46%|████▋     | 143/308 [10:32<12:38,  4.60s/it]"
     ]
    },
    {
     "name": "stdout",
     "output_type": "stream",
     "text": [
      "Right label:indirect reply \n",
      "the response is an indirect reply because it does not directly answer the question asked.\n"
     ]
    },
    {
     "name": "stderr",
     "output_type": "stream",
     "text": [
      " 47%|████▋     | 144/308 [10:35<11:02,  4.04s/it]"
     ]
    },
    {
     "name": "stdout",
     "output_type": "stream",
     "text": [
      "Wrong label:2 \n",
      "### response to the selected question ### \n",
      " i think it offers an opportunity as well as\n"
     ]
    },
    {
     "name": "stderr",
     "output_type": "stream",
     "text": [
      " 47%|████▋     | 145/308 [10:39<10:44,  3.95s/it]"
     ]
    },
    {
     "name": "stdout",
     "output_type": "stream",
     "text": [
      "Right label:indirect reply \n",
      "\n",
      "### explanation ###\n",
      "the selected question is about the potential risks of the u.s.\n"
     ]
    },
    {
     "name": "stderr",
     "output_type": "stream",
     "text": [
      " 47%|████▋     | 146/308 [10:42<09:54,  3.67s/it]"
     ]
    },
    {
     "name": "stdout",
     "output_type": "stream",
     "text": [
      "Right label:indirect reply\n",
      "reason: the response is a lengthy discussion of the job performance. the response is\n"
     ]
    },
    {
     "name": "stderr",
     "output_type": "stream",
     "text": [
      " 48%|████▊     | 147/308 [10:47<11:29,  4.28s/it]"
     ]
    },
    {
     "name": "stdout",
     "output_type": "stream",
     "text": [
      "Right label:(indirect, direct reply, direct non-reply) \n",
      "\n",
      "## step 1: understand the\n"
     ]
    },
    {
     "name": "stderr",
     "output_type": "stream",
     "text": [
      " 48%|████▊     | 148/308 [10:49<09:39,  3.62s/it]"
     ]
    },
    {
     "name": "stdout",
     "output_type": "stream",
     "text": [
      "Right label:a. direct reply \n",
      "b. indirect reply \n",
      "c. direct non-reply \n",
      "\n",
      "the\n"
     ]
    },
    {
     "name": "stderr",
     "output_type": "stream",
     "text": [
      " 48%|████▊     | 149/308 [10:56<11:48,  4.46s/it]"
     ]
    },
    {
     "name": "stdout",
     "output_type": "stream",
     "text": [
      "Right label:direct reply.  the response directly addresses the question posed. the response is a lengthy and detailed one\n"
     ]
    },
    {
     "name": "stderr",
     "output_type": "stream",
     "text": [
      " 49%|████▊     | 150/308 [11:01<12:13,  4.64s/it]"
     ]
    },
    {
     "name": "stdout",
     "output_type": "stream",
     "text": [
      "Right label:direct non-reply.  it is a response to a different question.  the response is\n"
     ]
    },
    {
     "name": "stderr",
     "output_type": "stream",
     "text": [
      " 49%|████▉     | 151/308 [11:04<10:54,  4.17s/it]"
     ]
    },
    {
     "name": "stdout",
     "output_type": "stream",
     "text": [
      "Right label:direct reply.  explanation: the president directly responds to the question with a clear statement of his opinion\n"
     ]
    },
    {
     "name": "stderr",
     "output_type": "stream",
     "text": [
      " 49%|████▉     | 152/308 [11:10<12:03,  4.64s/it]"
     ]
    },
    {
     "name": "stdout",
     "output_type": "stream",
     "text": [
      "Right label:indirect reply. \n",
      "\n",
      "### reasoning ###\n",
      "the answer does not directly respond to the question. the\n"
     ]
    },
    {
     "name": "stderr",
     "output_type": "stream",
     "text": [
      " 50%|████▉     | 153/308 [11:15<12:20,  4.77s/it]"
     ]
    },
    {
     "name": "stdout",
     "output_type": "stream",
     "text": [
      "Wrong label:answer:  i have always said that it's important for an american president to exhaust all diplomatic\n"
     ]
    },
    {
     "name": "stderr",
     "output_type": "stream",
     "text": [
      " 50%|█████     | 154/308 [11:20<12:29,  4.87s/it]"
     ]
    },
    {
     "name": "stdout",
     "output_type": "stream",
     "text": [
      "Right label:indirect reply\n",
      "### reasoning ###\n",
      "the question asked if the nation is able to sustain military action\n"
     ]
    },
    {
     "name": "stderr",
     "output_type": "stream",
     "text": [
      " 50%|█████     | 155/308 [11:22<10:16,  4.03s/it]"
     ]
    },
    {
     "name": "stdout",
     "output_type": "stream",
     "text": [
      "Right label:(indirect, direct reply, direct non-reply) \n",
      "\n",
      "### response ###\n",
      "please. \n",
      "\n",
      "label\n"
     ]
    },
    {
     "name": "stderr",
     "output_type": "stream",
     "text": [
      " 51%|█████     | 156/308 [11:26<10:27,  4.13s/it]"
     ]
    },
    {
     "name": "stdout",
     "output_type": "stream",
     "text": [
      "Right label:a. indirect reply \n",
      "b. direct reply \n",
      "c. direct non-reply \n",
      "\n",
      "###\n"
     ]
    },
    {
     "name": "stderr",
     "output_type": "stream",
     "text": [
      " 51%|█████     | 157/308 [11:29<09:19,  3.71s/it]"
     ]
    },
    {
     "name": "stdout",
     "output_type": "stream",
     "text": [
      "Right label:a. indirect \n",
      "b. direct reply \n",
      "c. the president's intention is unclear.\n"
     ]
    },
    {
     "name": "stderr",
     "output_type": "stream",
     "text": [
      " 51%|█████▏    | 158/308 [11:32<08:45,  3.50s/it]"
     ]
    },
    {
     "name": "stdout",
     "output_type": "stream",
     "text": [
      "Right label:direct reply \n",
      "direct non-reply \n",
      "indirect reply \n",
      "\n",
      "### response to the selected question ###\n"
     ]
    },
    {
     "name": "stderr",
     "output_type": "stream",
     "text": [
      " 52%|█████▏    | 159/308 [11:36<09:21,  3.77s/it]"
     ]
    },
    {
     "name": "stdout",
     "output_type": "stream",
     "text": [
      "Right label:indirect reply \n",
      "### part of the interview ### \n",
      "intervier: q. thank you very\n"
     ]
    },
    {
     "name": "stderr",
     "output_type": "stream",
     "text": [
      " 52%|█████▏    | 160/308 [11:40<09:02,  3.66s/it]"
     ]
    },
    {
     "name": "stdout",
     "output_type": "stream",
     "text": [
      "Wrong label:1\n",
      "\n",
      "### response to the selected question ###\n",
      "i, one, assure you that we take them\n"
     ]
    },
    {
     "name": "stderr",
     "output_type": "stream",
     "text": [
      " 52%|█████▏    | 161/308 [11:44<09:30,  3.88s/it]"
     ]
    },
    {
     "name": "stdout",
     "output_type": "stream",
     "text": [
      "Right label:(direct reply) \n",
      "### response ### \n",
      "we have been in touch with syria. colin powell sent\n"
     ]
    },
    {
     "name": "stderr",
     "output_type": "stream",
     "text": [
      " 53%|█████▎    | 162/308 [11:47<08:49,  3.62s/it]"
     ]
    },
    {
     "name": "stdout",
     "output_type": "stream",
     "text": [
      "Right label:indirect reply \n",
      "explanation: the response does not directly answer the question of why the cease-fire should\n"
     ]
    },
    {
     "name": "stderr",
     "output_type": "stream",
     "text": [
      " 53%|█████▎    | 163/308 [11:53<10:17,  4.26s/it]"
     ]
    },
    {
     "name": "stdout",
     "output_type": "stream",
     "text": [
      "Right label:the response to the question is classified into one of the following categories: indirect, direct reply\n"
     ]
    },
    {
     "name": "stderr",
     "output_type": "stream",
     "text": [
      " 53%|█████▎    | 164/308 [11:59<11:30,  4.79s/it]"
     ]
    },
    {
     "name": "stdout",
     "output_type": "stream",
     "text": [
      "Right label:indirect reply \n",
      "explanation: the response is an indirect reply as it does not directly answer the question\n"
     ]
    },
    {
     "name": "stderr",
     "output_type": "stream",
     "text": [
      " 54%|█████▎    | 165/308 [12:03<11:07,  4.67s/it]"
     ]
    },
    {
     "name": "stdout",
     "output_type": "stream",
     "text": [
      "Right label:1. indirect reply 2. direct reply 3. direct non-reply \n",
      "\n",
      "###\n"
     ]
    },
    {
     "name": "stderr",
     "output_type": "stream",
     "text": [
      " 54%|█████▍    | 166/308 [12:07<10:35,  4.47s/it]"
     ]
    },
    {
     "name": "stdout",
     "output_type": "stream",
     "text": [
      "Right label:the response is a direct reply to the question. it is a clear answer to the question. it\n"
     ]
    },
    {
     "name": "stderr",
     "output_type": "stream",
     "text": [
      " 54%|█████▍    | 167/308 [12:10<09:28,  4.03s/it]"
     ]
    },
    {
     "name": "stdout",
     "output_type": "stream",
     "text": [
      "Right label:indirect reply \n",
      "\n",
      "### response explanation ###\n",
      "the response is indirect because the candidate does not directly answer the\n"
     ]
    },
    {
     "name": "stderr",
     "output_type": "stream",
     "text": [
      " 55%|█████▍    | 168/308 [12:13<08:15,  3.54s/it]"
     ]
    },
    {
     "name": "stdout",
     "output_type": "stream",
     "text": [
      "Right label:1. indirect reply. 2. direct reply. 3. direct non-reply.\n"
     ]
    },
    {
     "name": "stderr",
     "output_type": "stream",
     "text": [
      " 55%|█████▍    | 169/308 [12:15<07:11,  3.10s/it]"
     ]
    },
    {
     "name": "stdout",
     "output_type": "stream",
     "text": [
      "Right label:[ direct non-reply ] \n",
      "\n",
      "### explanation of label ### \n",
      "the response is a non-\n"
     ]
    },
    {
     "name": "stderr",
     "output_type": "stream",
     "text": [
      " 55%|█████▌    | 170/308 [12:20<08:15,  3.59s/it]"
     ]
    },
    {
     "name": "stdout",
     "output_type": "stream",
     "text": [
      "Right label:indirect reply. \n",
      "\n",
      "### part of the reply ### \n",
      "has it become better or has it become\n"
     ]
    },
    {
     "name": "stderr",
     "output_type": "stream",
     "text": [
      " 56%|█████▌    | 171/308 [12:25<09:11,  4.02s/it]"
     ]
    },
    {
     "name": "stdout",
     "output_type": "stream",
     "text": [
      "Right label:indirect reply \n",
      "the response given is indirect because the answer doesn't directly address the question asked.\n"
     ]
    },
    {
     "name": "stderr",
     "output_type": "stream",
     "text": [
      " 56%|█████▌    | 172/308 [12:29<09:06,  4.02s/it]"
     ]
    },
    {
     "name": "stdout",
     "output_type": "stream",
     "text": [
      "Wrong label:response\n",
      "### end of part of the interview ### \n",
      "\n",
      "## step 1: identify the type of\n"
     ]
    },
    {
     "name": "stderr",
     "output_type": "stream",
     "text": [
      " 56%|█████▌    | 173/308 [12:32<08:38,  3.84s/it]"
     ]
    },
    {
     "name": "stdout",
     "output_type": "stream",
     "text": [
      "Wrong label:2, 5, 6, 7, 8, 9, 10\n"
     ]
    },
    {
     "name": "stderr",
     "output_type": "stream",
     "text": [
      " 56%|█████▋    | 174/308 [12:36<08:56,  4.00s/it]"
     ]
    },
    {
     "name": "stdout",
     "output_type": "stream",
     "text": [
      "Right label:[direct reply]  (answered the question directly) \n",
      "answer: i believe it's best\n"
     ]
    },
    {
     "name": "stderr",
     "output_type": "stream",
     "text": [
      " 57%|█████▋    | 175/308 [12:40<08:27,  3.82s/it]"
     ]
    },
    {
     "name": "stdout",
     "output_type": "stream",
     "text": [
      "Right label:indirect, direct reply, direct non-reply \n",
      "a) indirect \n",
      "b) direct reply\n"
     ]
    },
    {
     "name": "stderr",
     "output_type": "stream",
     "text": [
      " 57%|█████▋    | 176/308 [12:45<09:13,  4.19s/it]"
     ]
    },
    {
     "name": "stdout",
     "output_type": "stream",
     "text": [
      "Right label:direct non-reply  (2) \n",
      "explanation: \n",
      "the question asks for specifics on what\n"
     ]
    },
    {
     "name": "stderr",
     "output_type": "stream",
     "text": [
      " 57%|█████▋    | 177/308 [12:48<08:36,  3.94s/it]"
     ]
    },
    {
     "name": "stdout",
     "output_type": "stream",
     "text": [
      "Right label:- indirect reply: the response does not directly answer the question. \n",
      "- direct reply:\n"
     ]
    },
    {
     "name": "stderr",
     "output_type": "stream",
     "text": [
      " 58%|█████▊    | 178/308 [12:52<08:09,  3.77s/it]"
     ]
    },
    {
     "name": "stdout",
     "output_type": "stream",
     "text": [
      "Right label:indirect reply. \n",
      "\n",
      "### part of the interview ### \n",
      "intervier: q. as part\n"
     ]
    },
    {
     "name": "stderr",
     "output_type": "stream",
     "text": [
      " 58%|█████▊    | 179/308 [12:57<09:09,  4.26s/it]"
     ]
    },
    {
     "name": "stdout",
     "output_type": "stream",
     "text": [
      "Right label:a. direct reply \n",
      "b. indirect reply \n",
      "c. direct non-reply \n",
      "\n",
      "###\n"
     ]
    },
    {
     "name": "stderr",
     "output_type": "stream",
     "text": [
      " 58%|█████▊    | 180/308 [13:01<08:44,  4.10s/it]"
     ]
    },
    {
     "name": "stdout",
     "output_type": "stream",
     "text": [
      "Right label:direct reply\n",
      "category: direct reply\n",
      "### selected question ###\n",
      "concern about criticism and questions related to\n"
     ]
    },
    {
     "name": "stderr",
     "output_type": "stream",
     "text": [
      " 59%|█████▉    | 181/308 [13:09<11:37,  5.49s/it]"
     ]
    },
    {
     "name": "stdout",
     "output_type": "stream",
     "text": [
      "Right label:a. direct reply \n",
      "b. indirect reply \n",
      "c. direct non-reply \n",
      "\n",
      "###\n"
     ]
    },
    {
     "name": "stderr",
     "output_type": "stream",
     "text": [
      " 59%|█████▉    | 182/308 [13:13<10:24,  4.96s/it]"
     ]
    },
    {
     "name": "stdout",
     "output_type": "stream",
     "text": [
      "Right label:indirect reply\n",
      "### explanation ###\n",
      "the president's response is indirect. he avoids giving a direct answer\n"
     ]
    },
    {
     "name": "stderr",
     "output_type": "stream",
     "text": [
      " 59%|█████▉    | 183/308 [13:18<09:57,  4.78s/it]"
     ]
    },
    {
     "name": "stdout",
     "output_type": "stream",
     "text": [
      "Right label:a) indirect reply \n",
      "b) direct reply \n",
      "c) direct non-reply \n",
      "\n",
      "###\n"
     ]
    },
    {
     "name": "stderr",
     "output_type": "stream",
     "text": [
      " 60%|█████▉    | 184/308 [13:21<09:14,  4.48s/it]"
     ]
    },
    {
     "name": "stdout",
     "output_type": "stream",
     "text": [
      "Right label:indirect reply \n",
      "reason: the response of president musharraf is an indirect reply to the question\n"
     ]
    },
    {
     "name": "stderr",
     "output_type": "stream",
     "text": [
      " 60%|██████    | 185/308 [13:23<07:42,  3.76s/it]"
     ]
    },
    {
     "name": "stdout",
     "output_type": "stream",
     "text": [
      "Right label:direct reply. \n",
      "\n",
      "### part of the interview ### \n",
      "intervier: q. ——as\n"
     ]
    },
    {
     "name": "stderr",
     "output_type": "stream",
     "text": [
      " 60%|██████    | 186/308 [13:27<07:25,  3.65s/it]"
     ]
    },
    {
     "name": "stdout",
     "output_type": "stream",
     "text": [
      "Wrong label:response to the selected question \n",
      "### classification ### \n",
      "\n",
      "the response to the selected question is classified as:\n"
     ]
    },
    {
     "name": "stderr",
     "output_type": "stream",
     "text": [
      " 61%|██████    | 187/308 [13:29<06:23,  3.17s/it]"
     ]
    },
    {
     "name": "stdout",
     "output_type": "stream",
     "text": [
      "Right label:indirect reply \n",
      "### part of the interview ### \n",
      "intervier: q. did you support\n"
     ]
    },
    {
     "name": "stderr",
     "output_type": "stream",
     "text": [
      " 61%|██████    | 188/308 [13:35<08:16,  4.13s/it]"
     ]
    },
    {
     "name": "stdout",
     "output_type": "stream",
     "text": [
      "Right label:indirect reply \n",
      "reason: the question is about the president's effectiveness as a leader, and the\n"
     ]
    },
    {
     "name": "stderr",
     "output_type": "stream",
     "text": [
      " 61%|██████▏   | 189/308 [13:38<07:31,  3.79s/it]"
     ]
    },
    {
     "name": "stdout",
     "output_type": "stream",
     "text": [
      "Right label:indirect reply\n",
      " reasoning: the question was asking for a reason to support a particular candidate\n"
     ]
    },
    {
     "name": "stderr",
     "output_type": "stream",
     "text": [
      " 62%|██████▏   | 190/308 [13:45<08:59,  4.57s/it]"
     ]
    },
    {
     "name": "stdout",
     "output_type": "stream",
     "text": [
      "Right label:( indirect, direct reply, direct non-reply ) \n",
      "### step 1: identify the\n"
     ]
    },
    {
     "name": "stderr",
     "output_type": "stream",
     "text": [
      " 62%|██████▏   | 191/308 [13:49<08:59,  4.61s/it]"
     ]
    },
    {
     "name": "stdout",
     "output_type": "stream",
     "text": [
      "Wrong label:### response ###\n",
      "deb, there's all kinds of speculation about what may be or not happening\n"
     ]
    },
    {
     "name": "stderr",
     "output_type": "stream",
     "text": [
      " 62%|██████▏   | 192/308 [13:56<10:19,  5.34s/it]"
     ]
    },
    {
     "name": "stdout",
     "output_type": "stream",
     "text": [
      "Right label:direct reply \n",
      "explanation: the leader answers the question directly and provides an opinion about the opposition's\n"
     ]
    },
    {
     "name": "stderr",
     "output_type": "stream",
     "text": [
      " 63%|██████▎   | 193/308 [13:59<08:54,  4.65s/it]"
     ]
    },
    {
     "name": "stdout",
     "output_type": "stream",
     "text": [
      "Right label:indirect reply \n",
      "response: [] i believe that you empower your generals to make the decisions, the\n"
     ]
    },
    {
     "name": "stderr",
     "output_type": "stream",
     "text": [
      " 63%|██████▎   | 194/308 [14:02<07:54,  4.16s/it]"
     ]
    },
    {
     "name": "stdout",
     "output_type": "stream",
     "text": [
      "Right label:the response of president lee myung-bak to the selected question is classified as an indirect reply\n"
     ]
    },
    {
     "name": "stderr",
     "output_type": "stream",
     "text": [
      " 63%|██████▎   | 195/308 [14:05<07:01,  3.73s/it]"
     ]
    },
    {
     "name": "stdout",
     "output_type": "stream",
     "text": [
      "Wrong label:1 \n",
      "### response to selected question ###\n",
      "as you know, we put up a robust reform package\n"
     ]
    },
    {
     "name": "stderr",
     "output_type": "stream",
     "text": [
      " 64%|██████▎   | 196/308 [14:08<06:22,  3.42s/it]"
     ]
    },
    {
     "name": "stdout",
     "output_type": "stream",
     "text": [
      "Right label:[direct/indirect, direct/non-reply] \n",
      "\n",
      "### response to selected question ###\n",
      "we\n"
     ]
    },
    {
     "name": "stderr",
     "output_type": "stream",
     "text": [
      " 64%|██████▍   | 197/308 [14:11<05:56,  3.21s/it]"
     ]
    },
    {
     "name": "stdout",
     "output_type": "stream",
     "text": [
      "Right label:a) indirect reply \n",
      "b) direct reply \n",
      "c) response does not exist.\n"
     ]
    },
    {
     "name": "stderr",
     "output_type": "stream",
     "text": [
      " 64%|██████▍   | 198/308 [14:17<07:48,  4.26s/it]"
     ]
    },
    {
     "name": "stdout",
     "output_type": "stream",
     "text": [
      "Right label:a. indirect reply \n",
      "b. direct reply \n",
      "c. i. direct non-reply\n"
     ]
    },
    {
     "name": "stderr",
     "output_type": "stream",
     "text": [
      " 65%|██████▍   | 199/308 [14:21<07:14,  3.99s/it]"
     ]
    },
    {
     "name": "stdout",
     "output_type": "stream",
     "text": [
      "Right label:indirect reply \n",
      "direct reply \n",
      "direct non-reply \n",
      "\n",
      "### reasoning skill ### \n",
      "the\n"
     ]
    },
    {
     "name": "stderr",
     "output_type": "stream",
     "text": [
      " 65%|██████▍   | 200/308 [14:30<10:06,  5.62s/it]"
     ]
    },
    {
     "name": "stdout",
     "output_type": "stream",
     "text": [
      "Right label:(direct reply) \n",
      "response: \n",
      "but the one thing that i'm absolutely clear about is david\n"
     ]
    },
    {
     "name": "stderr",
     "output_type": "stream",
     "text": [
      " 65%|██████▌   | 201/308 [14:35<09:32,  5.35s/it]"
     ]
    },
    {
     "name": "stdout",
     "output_type": "stream",
     "text": [
      "Right label:indirect reply. \n",
      "\n",
      "### answer explanation ###\n",
      "the answer is indirect because it doesn't directly address\n"
     ]
    },
    {
     "name": "stderr",
     "output_type": "stream",
     "text": [
      " 66%|██████▌   | 202/308 [14:38<08:14,  4.66s/it]"
     ]
    },
    {
     "name": "stdout",
     "output_type": "stream",
     "text": [
      "Right label:direct reply: the response directly addresses the selected question. \n",
      "indirect reply: the response does\n"
     ]
    },
    {
     "name": "stderr",
     "output_type": "stream",
     "text": [
      " 66%|██████▌   | 203/308 [14:42<07:40,  4.39s/it]"
     ]
    },
    {
     "name": "stdout",
     "output_type": "stream",
     "text": [
      "Right label:(a) indirect, (b) direct reply, (c) direct non-reply\n"
     ]
    },
    {
     "name": "stderr",
     "output_type": "stream",
     "text": [
      " 66%|██████▌   | 204/308 [14:47<07:58,  4.60s/it]"
     ]
    },
    {
     "name": "stdout",
     "output_type": "stream",
     "text": [
      "Right label:[direct reply]\n",
      "[indirect reply]\n",
      "[direct non-reply]\n",
      "\n",
      "please choose one of\n"
     ]
    },
    {
     "name": "stderr",
     "output_type": "stream",
     "text": [
      " 67%|██████▋   | 205/308 [14:51<07:47,  4.54s/it]"
     ]
    },
    {
     "name": "stdout",
     "output_type": "stream",
     "text": [
      "Right label:[ direct non-reply ] \n",
      "\n",
      "### reasoning ###\n",
      "the president does not directly address the question\n"
     ]
    },
    {
     "name": "stderr",
     "output_type": "stream",
     "text": [
      " 67%|██████▋   | 206/308 [14:57<08:28,  4.98s/it]"
     ]
    },
    {
     "name": "stdout",
     "output_type": "stream",
     "text": [
      "Right label:the response to the selected question is classified into one of the following categories: indirect, direct reply\n"
     ]
    },
    {
     "name": "stderr",
     "output_type": "stream",
     "text": [
      " 67%|██████▋   | 207/308 [14:59<06:56,  4.12s/it]"
     ]
    },
    {
     "name": "stdout",
     "output_type": "stream",
     "text": [
      "Right label:a) direct reply \n",
      "b) indirect reply \n",
      "c) direct non-reply \n",
      "\n",
      "###\n"
     ]
    },
    {
     "name": "stderr",
     "output_type": "stream",
     "text": [
      " 68%|██████▊   | 208/308 [15:03<06:31,  3.91s/it]"
     ]
    },
    {
     "name": "stdout",
     "output_type": "stream",
     "text": [
      "Wrong label:a, b, c, d, e, f, g, h, i, j,\n"
     ]
    },
    {
     "name": "stderr",
     "output_type": "stream",
     "text": [
      " 68%|██████▊   | 209/308 [15:09<07:30,  4.55s/it]"
     ]
    },
    {
     "name": "stdout",
     "output_type": "stream",
     "text": [
      "Right label:[ direct reply ](text: direct reply) \n",
      "[ indirect reply ](text:\n"
     ]
    },
    {
     "name": "stderr",
     "output_type": "stream",
     "text": [
      " 68%|██████▊   | 210/308 [15:11<06:32,  4.01s/it]"
     ]
    },
    {
     "name": "stdout",
     "output_type": "stream",
     "text": [
      "Right label:(direct non-reply)\n",
      "\n",
      "### reasoning ###\n",
      "the response does not directly answer the question. it\n"
     ]
    },
    {
     "name": "stderr",
     "output_type": "stream",
     "text": [
      " 69%|██████▊   | 211/308 [15:16<06:49,  4.22s/it]"
     ]
    },
    {
     "name": "stdout",
     "output_type": "stream",
     "text": [
      "Right label:(direct, indirect, direct non-reply)\n",
      "\n",
      "### answer ###\n",
      "do you want to go?\n"
     ]
    },
    {
     "name": "stderr",
     "output_type": "stream",
     "text": [
      " 69%|██████▉   | 212/308 [15:21<07:08,  4.47s/it]"
     ]
    },
    {
     "name": "stdout",
     "output_type": "stream",
     "text": [
      "Right label:(indirect, direct reply, direct non-reply) \n",
      "\n",
      "### answer ### \n",
      "nontransparent societies\n"
     ]
    },
    {
     "name": "stderr",
     "output_type": "stream",
     "text": [
      " 69%|██████▉   | 213/308 [15:23<05:56,  3.75s/it]"
     ]
    },
    {
     "name": "stdout",
     "output_type": "stream",
     "text": [
      "Right label:[direct reply, direct non-reply, indirect] \n",
      "\n",
      "### response ###\n",
      "sometime next\n"
     ]
    },
    {
     "name": "stderr",
     "output_type": "stream",
     "text": [
      " 69%|██████▉   | 214/308 [15:30<07:17,  4.65s/it]"
     ]
    },
    {
     "name": "stdout",
     "output_type": "stream",
     "text": [
      "Right label:direct reply.  the response to the question is a direct reply as the president speaks directly to\n"
     ]
    },
    {
     "name": "stderr",
     "output_type": "stream",
     "text": [
      " 70%|██████▉   | 215/308 [15:35<07:14,  4.67s/it]"
     ]
    },
    {
     "name": "stdout",
     "output_type": "stream",
     "text": [
      "Right label:a. direct reply \n",
      "b. indirect reply \n",
      "c. d. direct non-reply\n"
     ]
    },
    {
     "name": "stderr",
     "output_type": "stream",
     "text": [
      " 70%|███████   | 216/308 [15:43<09:01,  5.89s/it]"
     ]
    },
    {
     "name": "stdout",
     "output_type": "stream",
     "text": [
      "Right label:indirect reply. \n",
      "### part of the interview ### \n",
      "intervier: q. mr.\n"
     ]
    },
    {
     "name": "stderr",
     "output_type": "stream",
     "text": [
      " 70%|███████   | 217/308 [15:47<07:47,  5.14s/it]"
     ]
    },
    {
     "name": "stdout",
     "output_type": "stream",
     "text": [
      "Wrong label:response \n",
      "### response to selected question ###\n",
      "as i mentioned, my biggest concern is whether or not\n"
     ]
    },
    {
     "name": "stderr",
     "output_type": "stream",
     "text": [
      " 71%|███████   | 218/308 [15:51<07:12,  4.81s/it]"
     ]
    },
    {
     "name": "stdout",
     "output_type": "stream",
     "text": [
      "Right label:direct reply \n",
      "###  ### \n",
      "the response to the question is a direct reply. the answer is\n"
     ]
    },
    {
     "name": "stderr",
     "output_type": "stream",
     "text": [
      " 71%|███████   | 219/308 [15:56<07:14,  4.88s/it]"
     ]
    },
    {
     "name": "stdout",
     "output_type": "stream",
     "text": [
      "Right label:(indirect) \n",
      "explanation: the response is indirect because the question asks for a direct comparison of\n"
     ]
    },
    {
     "name": "stderr",
     "output_type": "stream",
     "text": [
      " 71%|███████▏  | 220/308 [16:00<06:55,  4.72s/it]"
     ]
    },
    {
     "name": "stdout",
     "output_type": "stream",
     "text": [
      "Right label:(1) indirect, (2) direct, (3) direct non-reply.\n",
      "\n",
      "##\n"
     ]
    },
    {
     "name": "stderr",
     "output_type": "stream",
     "text": [
      " 72%|███████▏  | 221/308 [16:04<06:15,  4.31s/it]"
     ]
    },
    {
     "name": "stdout",
     "output_type": "stream",
     "text": [
      "Right label:indirect, direct reply, direct non-reply. \n",
      "\n",
      "### classification ###\n",
      "the response is classified\n"
     ]
    },
    {
     "name": "stderr",
     "output_type": "stream",
     "text": [
      " 72%|███████▏  | 222/308 [16:09<06:47,  4.74s/it]"
     ]
    },
    {
     "name": "stdout",
     "output_type": "stream",
     "text": [
      "Right label:the response to the selected question is classified as: direct reply \n",
      "explanation: \n",
      "the response directly\n"
     ]
    },
    {
     "name": "stderr",
     "output_type": "stream",
     "text": [
      " 72%|███████▏  | 223/308 [16:15<07:07,  5.03s/it]"
     ]
    },
    {
     "name": "stdout",
     "output_type": "stream",
     "text": [
      "Right label:a. direct reply \n",
      "b. direct non-reply \n",
      "c. indirect reply \n",
      "\n",
      "###\n"
     ]
    },
    {
     "name": "stderr",
     "output_type": "stream",
     "text": [
      " 73%|███████▎  | 224/308 [16:20<06:54,  4.94s/it]"
     ]
    },
    {
     "name": "stdout",
     "output_type": "stream",
     "text": [
      "Right label:indirect reply \n",
      "explanation: the answer does not directly address the question. the response is a long\n"
     ]
    },
    {
     "name": "stderr",
     "output_type": "stream",
     "text": [
      " 73%|███████▎  | 225/308 [16:22<05:39,  4.09s/it]"
     ]
    },
    {
     "name": "stdout",
     "output_type": "stream",
     "text": [
      "Wrong label:bipartisanship/'s relationship with congressional democrats/house minority leader nancy pelosi \n",
      "\n",
      "### response analysis\n"
     ]
    },
    {
     "name": "stderr",
     "output_type": "stream",
     "text": [
      " 73%|███████▎  | 226/308 [16:26<05:33,  4.07s/it]"
     ]
    },
    {
     "name": "stdout",
     "output_type": "stream",
     "text": [
      "Right label:direct reply. \n",
      "\n",
      "### reasoning ###\n",
      "the president is answering the question directly. he is saying\n"
     ]
    },
    {
     "name": "stderr",
     "output_type": "stream",
     "text": [
      " 74%|███████▎  | 227/308 [16:35<07:22,  5.46s/it]"
     ]
    },
    {
     "name": "stdout",
     "output_type": "stream",
     "text": [
      "Right label:indirect reply.  the reply does not directly answer the question. the response is a lengthy discourse\n"
     ]
    },
    {
     "name": "stderr",
     "output_type": "stream",
     "text": [
      " 74%|███████▍  | 228/308 [16:39<06:42,  5.03s/it]"
     ]
    },
    {
     "name": "stdout",
     "output_type": "stream",
     "text": [
      "Right label:a) direct reply \n",
      "b) indirect reply \n",
      "c) direct non-reply \n",
      "\n",
      "##\n"
     ]
    },
    {
     "name": "stderr",
     "output_type": "stream",
     "text": [
      " 74%|███████▍  | 229/308 [16:42<05:49,  4.43s/it]"
     ]
    },
    {
     "name": "stdout",
     "output_type": "stream",
     "text": [
      "Right label:indirect reply \n",
      "### response explanation ###\n",
      "the president does not directly answer the question about whether the\n"
     ]
    },
    {
     "name": "stderr",
     "output_type": "stream",
     "text": [
      " 75%|███████▍  | 230/308 [16:47<06:00,  4.62s/it]"
     ]
    },
    {
     "name": "stdout",
     "output_type": "stream",
     "text": [
      "Right label:(1) direct reply, \n",
      "(2) indirect reply, \n",
      "(3) direct\n"
     ]
    },
    {
     "name": "stderr",
     "output_type": "stream",
     "text": [
      " 75%|███████▌  | 231/308 [16:51<05:42,  4.44s/it]"
     ]
    },
    {
     "name": "stdout",
     "output_type": "stream",
     "text": [
      "Right label:a) indirect \n",
      "b) direct \n",
      "c) direct non-reply \n",
      "\n",
      "### my response ###\n"
     ]
    },
    {
     "name": "stderr",
     "output_type": "stream",
     "text": [
      " 75%|███████▌  | 232/308 [16:55<05:28,  4.33s/it]"
     ]
    },
    {
     "name": "stdout",
     "output_type": "stream",
     "text": [
      "Right label:direct non-reply. \n",
      "### explanation ###\n",
      "the response does not answer the question directly. the\n"
     ]
    },
    {
     "name": "stderr",
     "output_type": "stream",
     "text": [
      " 76%|███████▌  | 233/308 [16:59<05:25,  4.34s/it]"
     ]
    },
    {
     "name": "stdout",
     "output_type": "stream",
     "text": [
      "Right label:a. direct reply \n",
      "b. indirect reply \n",
      "c. direct non-reply \n",
      "\n",
      "###\n"
     ]
    },
    {
     "name": "stderr",
     "output_type": "stream",
     "text": [
      " 76%|███████▌  | 234/308 [17:03<05:00,  4.06s/it]"
     ]
    },
    {
     "name": "stdout",
     "output_type": "stream",
     "text": [
      "Right label:indirect reply \n",
      "### part of the interview ### \n",
      "intervier: q. can you tell\n"
     ]
    },
    {
     "name": "stderr",
     "output_type": "stream",
     "text": [
      " 76%|███████▋  | 235/308 [17:08<05:18,  4.37s/it]"
     ]
    },
    {
     "name": "stdout",
     "output_type": "stream",
     "text": [
      "Right label:indirect reply\n",
      "### end of part of the interview ### \n",
      "\n",
      "## step 1: determine the\n"
     ]
    },
    {
     "name": "stderr",
     "output_type": "stream",
     "text": [
      " 77%|███████▋  | 236/308 [17:13<05:29,  4.57s/it]"
     ]
    },
    {
     "name": "stdout",
     "output_type": "stream",
     "text": [
      "Right label:direct reply \n",
      "### step 1:  the selected question is \"putting off immigration reform until the\n"
     ]
    },
    {
     "name": "stderr",
     "output_type": "stream",
     "text": [
      " 77%|███████▋  | 237/308 [17:18<05:48,  4.91s/it]"
     ]
    },
    {
     "name": "stdout",
     "output_type": "stream",
     "text": [
      "Right label:(a) direct (b) indirect (c) direct non-reply \n",
      "\n",
      "### correct answer\n"
     ]
    },
    {
     "name": "stderr",
     "output_type": "stream",
     "text": [
      " 77%|███████▋  | 238/308 [17:20<04:44,  4.06s/it]"
     ]
    },
    {
     "name": "stdout",
     "output_type": "stream",
     "text": [
      "Right label:[direct non-reply]  ## step 1: understand the context of the question\n"
     ]
    },
    {
     "name": "stderr",
     "output_type": "stream",
     "text": [
      " 78%|███████▊  | 239/308 [17:26<05:08,  4.47s/it]"
     ]
    },
    {
     "name": "stdout",
     "output_type": "stream",
     "text": [
      "Right label:direct reply \n",
      "explanation: \n",
      "the president provides a response that directly addresses the question of whether his\n"
     ]
    },
    {
     "name": "stderr",
     "output_type": "stream",
     "text": [
      " 78%|███████▊  | 240/308 [17:30<04:55,  4.34s/it]"
     ]
    },
    {
     "name": "stdout",
     "output_type": "stream",
     "text": [
      "Wrong label:### response to the question ### \n",
      "this is an area that prime minister maliki emphasized, and\n"
     ]
    },
    {
     "name": "stderr",
     "output_type": "stream",
     "text": [
      " 78%|███████▊  | 241/308 [17:33<04:18,  3.87s/it]"
     ]
    },
    {
     "name": "stdout",
     "output_type": "stream",
     "text": [
      "Right label:indirect reply, direct reply, direct non-reply \n",
      "\n",
      "### response to selected question ###\n",
      "direct non\n"
     ]
    },
    {
     "name": "stderr",
     "output_type": "stream",
     "text": [
      " 79%|███████▊  | 242/308 [17:37<04:31,  4.12s/it]"
     ]
    },
    {
     "name": "stdout",
     "output_type": "stream",
     "text": [
      "Right label:(direct, indirect, or direct non-reply) \n",
      "\n",
      "## step 1: understand the question\n"
     ]
    },
    {
     "name": "stderr",
     "output_type": "stream",
     "text": [
      " 79%|███████▉  | 243/308 [17:40<04:00,  3.70s/it]"
     ]
    },
    {
     "name": "stdout",
     "output_type": "stream",
     "text": [
      "Right label:1. direct reply \n",
      "2. indirect reply \n",
      "3. direct non-reply \n",
      "\n",
      "###\n"
     ]
    },
    {
     "name": "stderr",
     "output_type": "stream",
     "text": [
      " 79%|███████▉  | 244/308 [17:45<04:23,  4.11s/it]"
     ]
    },
    {
     "name": "stdout",
     "output_type": "stream",
     "text": [
      "Right label:direct reply: the response is a direct answer to the question posed in the interview. \n",
      "ind\n"
     ]
    },
    {
     "name": "stderr",
     "output_type": "stream",
     "text": [
      " 80%|███████▉  | 245/308 [17:55<05:59,  5.71s/it]"
     ]
    },
    {
     "name": "stdout",
     "output_type": "stream",
     "text": [
      "Right label:the response to the selected question is classified as: \n",
      "the direct reply. \n",
      "explanation:\n"
     ]
    },
    {
     "name": "stderr",
     "output_type": "stream",
     "text": [
      " 80%|███████▉  | 246/308 [17:58<05:04,  4.91s/it]"
     ]
    },
    {
     "name": "stdout",
     "output_type": "stream",
     "text": [
      "Right label:a) indirect reply \n",
      "b) direct reply \n",
      "c) direct non-reply \n",
      "\n",
      "###\n"
     ]
    },
    {
     "name": "stderr",
     "output_type": "stream",
     "text": [
      " 80%|████████  | 247/308 [18:00<04:13,  4.16s/it]"
     ]
    },
    {
     "name": "stdout",
     "output_type": "stream",
     "text": [
      "Right label:indirect reply \n",
      "\n",
      "### reasoning ###\n",
      "the response is indirect as it doesn't directly answer the question\n"
     ]
    },
    {
     "name": "stderr",
     "output_type": "stream",
     "text": [
      " 81%|████████  | 248/308 [18:02<03:32,  3.54s/it]"
     ]
    },
    {
     "name": "stdout",
     "output_type": "stream",
     "text": [
      "Right label:1. indirect reply, 2. direct reply, 3. direct non-reply\n"
     ]
    },
    {
     "name": "stderr",
     "output_type": "stream",
     "text": [
      " 81%|████████  | 249/308 [18:05<03:14,  3.29s/it]"
     ]
    },
    {
     "name": "stdout",
     "output_type": "stream",
     "text": [
      "Wrong label:response \n",
      "\n",
      "### response analysis ###\n",
      "the response is a lengthy explanation, but the key part is \"i\n"
     ]
    },
    {
     "name": "stderr",
     "output_type": "stream",
     "text": [
      " 81%|████████  | 250/308 [18:07<02:54,  3.02s/it]"
     ]
    },
    {
     "name": "stdout",
     "output_type": "stream",
     "text": [
      "Right label:direct reply\n",
      "indirect reply\n",
      "direct non-reply\n",
      "the best answer is direct reply.\n"
     ]
    },
    {
     "name": "stderr",
     "output_type": "stream",
     "text": [
      " 81%|████████▏ | 251/308 [18:10<02:52,  3.02s/it]"
     ]
    },
    {
     "name": "stdout",
     "output_type": "stream",
     "text": [
      "Right label:indirect reply \n",
      "\n",
      "### reasoning ###\n",
      "the question was about whether the defense secretary's response to a\n"
     ]
    },
    {
     "name": "stderr",
     "output_type": "stream",
     "text": [
      " 82%|████████▏ | 252/308 [18:15<03:23,  3.63s/it]"
     ]
    },
    {
     "name": "stdout",
     "output_type": "stream",
     "text": [
      "Right label:indirect reply\n",
      "\n",
      "explanation: the response does not directly answer the question. it discusses the u.s\n"
     ]
    },
    {
     "name": "stderr",
     "output_type": "stream",
     "text": [
      " 82%|████████▏ | 253/308 [18:18<03:04,  3.36s/it]"
     ]
    },
    {
     "name": "stdout",
     "output_type": "stream",
     "text": [
      "Right label:indirect reply.  the answer is not a direct reply to the question. the president is talking\n"
     ]
    },
    {
     "name": "stderr",
     "output_type": "stream",
     "text": [
      " 82%|████████▏ | 254/308 [18:25<04:06,  4.57s/it]"
     ]
    },
    {
     "name": "stdout",
     "output_type": "stream",
     "text": [
      "Right label:direct non-reply \n",
      "\n",
      "### explanation ###\n",
      "the response does not directly answer the question. instead, it\n"
     ]
    },
    {
     "name": "stderr",
     "output_type": "stream",
     "text": [
      " 83%|████████▎ | 255/308 [18:28<03:27,  3.91s/it]"
     ]
    },
    {
     "name": "stdout",
     "output_type": "stream",
     "text": [
      "Right label:a) indirect reply \n",
      "b) direct reply \n",
      "c) response is not a reply to\n"
     ]
    },
    {
     "name": "stderr",
     "output_type": "stream",
     "text": [
      " 83%|████████▎ | 256/308 [18:33<03:45,  4.34s/it]"
     ]
    },
    {
     "name": "stdout",
     "output_type": "stream",
     "text": [
      "Right label:indirect reply\n",
      "explanation: this response does not directly address the question. instead, it launches into\n"
     ]
    },
    {
     "name": "stderr",
     "output_type": "stream",
     "text": [
      " 83%|████████▎ | 257/308 [18:42<04:48,  5.66s/it]"
     ]
    },
    {
     "name": "stdout",
     "output_type": "stream",
     "text": [
      "Right label:direct reply. \n",
      "explanation:  this is a direct reply to the question as the prime minister\n"
     ]
    },
    {
     "name": "stderr",
     "output_type": "stream",
     "text": [
      " 84%|████████▍ | 258/308 [18:46<04:23,  5.27s/it]"
     ]
    },
    {
     "name": "stdout",
     "output_type": "stream",
     "text": [
      "Right label:(c) direct reply. \n",
      "\n",
      "### justification ###\n",
      "the response is a direct reply to the\n"
     ]
    },
    {
     "name": "stderr",
     "output_type": "stream",
     "text": [
      " 84%|████████▍ | 259/308 [18:50<03:49,  4.69s/it]"
     ]
    },
    {
     "name": "stdout",
     "output_type": "stream",
     "text": [
      "Wrong label:1\n",
      "### response to the selected question ###\n",
      "i'm a person who generally comments on things.\n"
     ]
    },
    {
     "name": "stderr",
     "output_type": "stream",
     "text": [
      " 84%|████████▍ | 260/308 [18:55<04:00,  5.01s/it]"
     ]
    },
    {
     "name": "stdout",
     "output_type": "stream",
     "text": [
      "Right label:indirect reply. \n",
      "\n",
      "### reasoning ###\n",
      "the answer to the selected question is indirectly replied. the\n"
     ]
    },
    {
     "name": "stderr",
     "output_type": "stream",
     "text": [
      " 85%|████████▍ | 261/308 [18:57<03:14,  4.13s/it]"
     ]
    },
    {
     "name": "stdout",
     "output_type": "stream",
     "text": [
      "Right label:direct reply. \n",
      "### part of the interview ### \n",
      "intervier: q. what are you\n"
     ]
    },
    {
     "name": "stderr",
     "output_type": "stream",
     "text": [
      " 85%|████████▌ | 262/308 [19:03<03:22,  4.41s/it]"
     ]
    },
    {
     "name": "stdout",
     "output_type": "stream",
     "text": [
      "Right label:(direct reply) \n",
      "this is a direct reply because the response answers the question directly and provides a\n"
     ]
    },
    {
     "name": "stderr",
     "output_type": "stream",
     "text": [
      " 85%|████████▌ | 263/308 [19:09<03:44,  5.00s/it]"
     ]
    },
    {
     "name": "stdout",
     "output_type": "stream",
     "text": [
      "Wrong label:0.1.6.2.0.0.0.0.0.0\n"
     ]
    },
    {
     "name": "stderr",
     "output_type": "stream",
     "text": [
      " 86%|████████▌ | 264/308 [19:12<03:14,  4.41s/it]"
     ]
    },
    {
     "name": "stdout",
     "output_type": "stream",
     "text": [
      "Right label:direct non-reply \n",
      "direct reply \n",
      "indirect reply \n",
      "the best answer is indirect reply\n"
     ]
    },
    {
     "name": "stderr",
     "output_type": "stream",
     "text": [
      " 86%|████████▌ | 265/308 [19:15<02:56,  4.11s/it]"
     ]
    },
    {
     "name": "stdout",
     "output_type": "stream",
     "text": [
      "Right label:(a) indirect, (b) direct, (c) direct non-reply\n"
     ]
    },
    {
     "name": "stderr",
     "output_type": "stream",
     "text": [
      " 86%|████████▋ | 266/308 [19:18<02:31,  3.60s/it]"
     ]
    },
    {
     "name": "stdout",
     "output_type": "stream",
     "text": [
      "Right label:direct reply \n",
      "\n",
      "### part of the interview ### \n",
      "intervier: q. do you have any\n"
     ]
    },
    {
     "name": "stderr",
     "output_type": "stream",
     "text": [
      " 87%|████████▋ | 267/308 [19:23<02:45,  4.03s/it]"
     ]
    },
    {
     "name": "stdout",
     "output_type": "stream",
     "text": [
      "Right label:a. direct reply \n",
      "b. indirect reply \n",
      "c. direct non-reply \n",
      "\n",
      "###\n"
     ]
    },
    {
     "name": "stderr",
     "output_type": "stream",
     "text": [
      " 87%|████████▋ | 268/308 [19:28<02:57,  4.43s/it]"
     ]
    },
    {
     "name": "stdout",
     "output_type": "stream",
     "text": [
      "Right label:the response to the question is \n",
      "a. indirect \n",
      "b. direct \n",
      "c. direct\n"
     ]
    },
    {
     "name": "stderr",
     "output_type": "stream",
     "text": [
      " 87%|████████▋ | 269/308 [19:33<02:55,  4.50s/it]"
     ]
    },
    {
     "name": "stdout",
     "output_type": "stream",
     "text": [
      "Right label:a. indirect reply \n",
      "b. direct reply \n",
      "c. direct non-reply \n",
      "\n",
      "###\n"
     ]
    },
    {
     "name": "stderr",
     "output_type": "stream",
     "text": [
      " 88%|████████▊ | 270/308 [19:38<02:53,  4.56s/it]"
     ]
    },
    {
     "name": "stdout",
     "output_type": "stream",
     "text": [
      "Right label:indirect reply: the response does not directly answer the question. \n",
      "direct reply: the response\n"
     ]
    },
    {
     "name": "stderr",
     "output_type": "stream",
     "text": [
      " 88%|████████▊ | 271/308 [19:43<02:57,  4.81s/it]"
     ]
    },
    {
     "name": "stdout",
     "output_type": "stream",
     "text": [
      "Right label:(1) indirect reply, (2) direct reply, (3) direct non-reply\n"
     ]
    },
    {
     "name": "stderr",
     "output_type": "stream",
     "text": [
      " 88%|████████▊ | 272/308 [19:52<03:35,  5.97s/it]"
     ]
    },
    {
     "name": "stdout",
     "output_type": "stream",
     "text": [
      "Right label:indirect reply.  the response does not directly answer the question but rather discusses other topics and\n"
     ]
    },
    {
     "name": "stderr",
     "output_type": "stream",
     "text": [
      " 89%|████████▊ | 273/308 [19:55<02:58,  5.09s/it]"
     ]
    },
    {
     "name": "stdout",
     "output_type": "stream",
     "text": [
      "Right label:direct non-reply. \n",
      "\n",
      "### explanation ###\n",
      "the response does not directly address the question. it is\n"
     ]
    },
    {
     "name": "stderr",
     "output_type": "stream",
     "text": [
      " 89%|████████▉ | 274/308 [20:00<02:59,  5.28s/it]"
     ]
    },
    {
     "name": "stdout",
     "output_type": "stream",
     "text": [
      "Right label:the response to the question is: \n",
      "direct reply. \n",
      "\n",
      "the reason is: \n",
      "the president\n"
     ]
    },
    {
     "name": "stderr",
     "output_type": "stream",
     "text": [
      " 89%|████████▉ | 275/308 [20:03<02:32,  4.61s/it]"
     ]
    },
    {
     "name": "stdout",
     "output_type": "stream",
     "text": [
      "Right label:0=indirect, 1=direct reply, 2=direct non-reply\n"
     ]
    },
    {
     "name": "stderr",
     "output_type": "stream",
     "text": [
      " 90%|████████▉ | 276/308 [20:08<02:25,  4.54s/it]"
     ]
    },
    {
     "name": "stdout",
     "output_type": "stream",
     "text": [
      "Right label:[ ] indirect, [ ] direct reply, [ ] direct non-reply \n",
      "### response ###\n"
     ]
    },
    {
     "name": "stderr",
     "output_type": "stream",
     "text": [
      " 90%|████████▉ | 277/308 [20:13<02:22,  4.59s/it]"
     ]
    },
    {
     "name": "stdout",
     "output_type": "stream",
     "text": [
      "Right label:[direct reply] \n",
      "response:...he is a—he lives a secluded life, but he knows\n"
     ]
    },
    {
     "name": "stderr",
     "output_type": "stream",
     "text": [
      " 90%|█████████ | 278/308 [20:19<02:31,  5.04s/it]"
     ]
    },
    {
     "name": "stdout",
     "output_type": "stream",
     "text": [
      "Right label:the response to this question is an indirect reply. the president does not give a direct answer to\n"
     ]
    },
    {
     "name": "stderr",
     "output_type": "stream",
     "text": [
      " 91%|█████████ | 279/308 [20:23<02:20,  4.83s/it]"
     ]
    },
    {
     "name": "stdout",
     "output_type": "stream",
     "text": [
      "Right label:indirect reply. \n",
      "### part of the interview ### \n",
      "intervier: q. thank you\n"
     ]
    },
    {
     "name": "stderr",
     "output_type": "stream",
     "text": [
      " 91%|█████████ | 280/308 [20:28<02:20,  5.01s/it]"
     ]
    },
    {
     "name": "stdout",
     "output_type": "stream",
     "text": [
      "Right label:a. direct reply \n",
      "b. direct non-reply \n",
      "c. the response does not answer\n"
     ]
    },
    {
     "name": "stderr",
     "output_type": "stream",
     "text": [
      " 91%|█████████ | 281/308 [20:33<02:12,  4.90s/it]"
     ]
    },
    {
     "name": "stdout",
     "output_type": "stream",
     "text": [
      "Right label:indirect reply. \n",
      "\n",
      "### reasoning ###\n",
      "the response does not directly answer the question of whether the\n"
     ]
    },
    {
     "name": "stderr",
     "output_type": "stream",
     "text": [
      " 92%|█████████▏| 282/308 [20:35<01:45,  4.06s/it]"
     ]
    },
    {
     "name": "stdout",
     "output_type": "stream",
     "text": [
      "Right label:direct reply. \n",
      "\n",
      "### part of the interview ### \n",
      "intervier: q. how was your\n"
     ]
    },
    {
     "name": "stderr",
     "output_type": "stream",
     "text": [
      " 92%|█████████▏| 283/308 [20:37<01:26,  3.47s/it]"
     ]
    },
    {
     "name": "stdout",
     "output_type": "stream",
     "text": [
      "Right label:(1) indirect reply \n",
      "(2) direct reply \n",
      "(3) direct non-\n"
     ]
    },
    {
     "name": "stderr",
     "output_type": "stream",
     "text": [
      " 92%|█████████▏| 284/308 [20:42<01:34,  3.94s/it]"
     ]
    },
    {
     "name": "stdout",
     "output_type": "stream",
     "text": [
      "Right label:(1) indirect \n",
      "(2) direct reply \n",
      "(3) direct non-reply\n"
     ]
    },
    {
     "name": "stderr",
     "output_type": "stream",
     "text": [
      " 93%|█████████▎| 285/308 [20:48<01:40,  4.37s/it]"
     ]
    },
    {
     "name": "stdout",
     "output_type": "stream",
     "text": [
      "Wrong label:### response ### \n",
      "this is a government that has proclaimed its desire to build a nuclear weapon.\n"
     ]
    },
    {
     "name": "stderr",
     "output_type": "stream",
     "text": [
      " 93%|█████████▎| 286/308 [20:50<01:23,  3.78s/it]"
     ]
    },
    {
     "name": "stdout",
     "output_type": "stream",
     "text": [
      "Wrong label:q.1.1.1.2.1.1.1.1.1\n"
     ]
    },
    {
     "name": "stderr",
     "output_type": "stream",
     "text": [
      " 93%|█████████▎| 287/308 [20:54<01:18,  3.76s/it]"
     ]
    },
    {
     "name": "stdout",
     "output_type": "stream",
     "text": [
      "Right label:the response to this question is a direct reply.  the president is talking about the immediate cease\n"
     ]
    },
    {
     "name": "stderr",
     "output_type": "stream",
     "text": [
      " 94%|█████████▎| 288/308 [20:57<01:13,  3.65s/it]"
     ]
    },
    {
     "name": "stdout",
     "output_type": "stream",
     "text": [
      "Right label:indirect reply. \n",
      "### end of part of the interview ### \n",
      "\n",
      "## step 1: identify\n"
     ]
    },
    {
     "name": "stderr",
     "output_type": "stream",
     "text": [
      " 94%|█████████▍| 289/308 [21:01<01:13,  3.87s/it]"
     ]
    },
    {
     "name": "stdout",
     "output_type": "stream",
     "text": [
      "Right label:[ ] direct reply \n",
      "[ ] direct non-reply \n",
      "[ ] indirect reply \n",
      "\n",
      "###\n"
     ]
    },
    {
     "name": "stderr",
     "output_type": "stream",
     "text": [
      " 94%|█████████▍| 290/308 [21:07<01:19,  4.43s/it]"
     ]
    },
    {
     "name": "stdout",
     "output_type": "stream",
     "text": [
      "Right label:a. indirect reply \n",
      "b. direct reply \n",
      "c. direct non-reply \n",
      "\n",
      "###\n"
     ]
    },
    {
     "name": "stderr",
     "output_type": "stream",
     "text": [
      " 94%|█████████▍| 291/308 [21:13<01:21,  4.82s/it]"
     ]
    },
    {
     "name": "stdout",
     "output_type": "stream",
     "text": [
      "Right label:(1) indirect reply, (2) direct reply, (3) direct non-reply\n"
     ]
    },
    {
     "name": "stderr",
     "output_type": "stream",
     "text": [
      " 95%|█████████▍| 292/308 [21:17<01:11,  4.48s/it]"
     ]
    },
    {
     "name": "stdout",
     "output_type": "stream",
     "text": [
      "Right label:direct non-reply.  please explain. \n",
      "the response is a direct non-reply because\n"
     ]
    },
    {
     "name": "stderr",
     "output_type": "stream",
     "text": [
      " 95%|█████████▌| 293/308 [21:21<01:08,  4.54s/it]"
     ]
    },
    {
     "name": "stdout",
     "output_type": "stream",
     "text": [
      "Right label:(select appropriate answer)\n",
      "a. direct reply\n",
      "b. indirect reply\n",
      "c. direct non\n"
     ]
    },
    {
     "name": "stderr",
     "output_type": "stream",
     "text": [
      " 95%|█████████▌| 294/308 [21:28<01:12,  5.20s/it]"
     ]
    },
    {
     "name": "stdout",
     "output_type": "stream",
     "text": [
      "Right label:indirect reply \n",
      "\n",
      "### reasoning ### \n",
      "the response is not a direct reply to the question\n"
     ]
    },
    {
     "name": "stderr",
     "output_type": "stream",
     "text": [
      " 96%|█████████▌| 295/308 [21:32<01:01,  4.75s/it]"
     ]
    },
    {
     "name": "stdout",
     "output_type": "stream",
     "text": [
      "Right label:indirect reply\n",
      "### part of the interview ### \n",
      "intervier: q. mr. president\n"
     ]
    },
    {
     "name": "stderr",
     "output_type": "stream",
     "text": [
      " 96%|█████████▌| 296/308 [21:36<00:55,  4.65s/it]"
     ]
    },
    {
     "name": "stdout",
     "output_type": "stream",
     "text": [
      "Wrong label:response \n",
      "\n",
      "### response to the selected question ###\n",
      "the problem that most of the world has seen in stems\n"
     ]
    },
    {
     "name": "stderr",
     "output_type": "stream",
     "text": [
      " 96%|█████████▋| 297/308 [21:42<00:53,  4.87s/it]"
     ]
    },
    {
     "name": "stdout",
     "output_type": "stream",
     "text": [
      "Right label:a. direct reply \n",
      "b. direct non-reply \n",
      "c.  indirect reply\n"
     ]
    },
    {
     "name": "stderr",
     "output_type": "stream",
     "text": [
      " 97%|█████████▋| 298/308 [21:44<00:41,  4.12s/it]"
     ]
    },
    {
     "name": "stdout",
     "output_type": "stream",
     "text": [
      "Right label:a. indirect reply \n",
      "b. direct reply \n",
      "c. direct non-reply \n",
      "\n",
      "###\n"
     ]
    },
    {
     "name": "stderr",
     "output_type": "stream",
     "text": [
      " 97%|█████████▋| 299/308 [21:46<00:32,  3.61s/it]"
     ]
    },
    {
     "name": "stdout",
     "output_type": "stream",
     "text": [
      "Right label:a) indirect \n",
      "b) direct reply \n",
      "c) d) direct non-reply\n"
     ]
    },
    {
     "name": "stderr",
     "output_type": "stream",
     "text": [
      " 97%|█████████▋| 300/308 [21:48<00:25,  3.16s/it]"
     ]
    },
    {
     "name": "stdout",
     "output_type": "stream",
     "text": [
      "Right label:a) indirect reply \n",
      "b) direct reply \n",
      "c) direct non-reply \n",
      "\n",
      "###\n"
     ]
    },
    {
     "name": "stderr",
     "output_type": "stream",
     "text": [
      " 98%|█████████▊| 301/308 [21:51<00:19,  2.84s/it]"
     ]
    },
    {
     "name": "stdout",
     "output_type": "stream",
     "text": [
      "Right label:indirect reply\n",
      "### part of the interview ### \n",
      "intervier: q. can you tell\n"
     ]
    },
    {
     "name": "stderr",
     "output_type": "stream",
     "text": [
      " 98%|█████████▊| 302/308 [21:57<00:23,  3.89s/it]"
     ]
    },
    {
     "name": "stdout",
     "output_type": "stream",
     "text": [
      "Right label:indirect reply. \n",
      "\n",
      "### reasoning ###\n",
      "the response does not directly address the question, but rather\n"
     ]
    },
    {
     "name": "stderr",
     "output_type": "stream",
     "text": [
      " 98%|█████████▊| 303/308 [22:02<00:20,  4.12s/it]"
     ]
    },
    {
     "name": "stdout",
     "output_type": "stream",
     "text": [
      "Right label:[direct reply](https://i.imgur.com/6u6rvc4.png)\n"
     ]
    },
    {
     "name": "stderr",
     "output_type": "stream",
     "text": [
      " 99%|█████████▊| 304/308 [22:08<00:19,  4.89s/it]"
     ]
    },
    {
     "name": "stdout",
     "output_type": "stream",
     "text": [
      "Right label:direct reply. \n",
      "explanation: \n",
      "the response directly answers the question of \"if so, why\n"
     ]
    },
    {
     "name": "stderr",
     "output_type": "stream",
     "text": [
      " 99%|█████████▉| 305/308 [22:14<00:15,  5.13s/it]"
     ]
    },
    {
     "name": "stdout",
     "output_type": "stream",
     "text": [
      "Right label:direct reply.  the response is a long, rambling, and meandering response, but it\n"
     ]
    },
    {
     "name": "stderr",
     "output_type": "stream",
     "text": [
      " 99%|█████████▉| 306/308 [22:19<00:10,  5.12s/it]"
     ]
    },
    {
     "name": "stdout",
     "output_type": "stream",
     "text": [
      "Right label:[direct non-reply]\n",
      "response: we strategized on both issues. but this isn't the\n"
     ]
    },
    {
     "name": "stderr",
     "output_type": "stream",
     "text": [
      "100%|█████████▉| 307/308 [22:22<00:04,  4.59s/it]"
     ]
    },
    {
     "name": "stdout",
     "output_type": "stream",
     "text": [
      "Right label:a. indirect reply \n",
      "b. direct reply \n",
      "c.  direct non-reply\n"
     ]
    },
    {
     "name": "stderr",
     "output_type": "stream",
     "text": [
      "100%|██████████| 308/308 [22:24<00:00,  4.37s/it]"
     ]
    },
    {
     "name": "stdout",
     "output_type": "stream",
     "text": [
      "Right label:(indirect, direct reply, direct non-reply) \n",
      "\n",
      "## step 1: understand\n",
      "Accuracy: 0.47\n",
      "Accuracy for label Indirect: 0.62\n",
      "Accuracy for label Direct Reply: 0.20\n",
      "Accuracy for label Direct Non-Reply: 0.09\n",
      "\n",
      "Classification Report:\n",
      "                  precision    recall  f1-score   support\n",
      "\n",
      "        Indirect       0.66      0.62      0.64       206\n",
      "    Direct_Reply       0.29      0.20      0.24        79\n",
      "Direct_Non-Reply       0.09      0.09      0.09        23\n",
      "\n",
      "       micro avg       0.53      0.47      0.50       308\n",
      "       macro avg       0.34      0.30      0.32       308\n",
      "    weighted avg       0.52      0.47      0.50       308\n",
      "\n",
      "\n",
      "Confusion Matrix:\n",
      "[[128  38  17]\n",
      " [ 52  16   4]\n",
      " [ 14   2   2]]\n"
     ]
    },
    {
     "name": "stderr",
     "output_type": "stream",
     "text": [
      "\n"
     ]
    }
   ],
   "source": [
    "os.environ['WANDB_NOTEBOOK_NAME'] = 'lora_llm'\n",
    "\n",
    "huggingface_hub.login(os.environ[\"HF_KEY\"])\n",
    "wandb.login(key=os.environ[\"WANDB_KEY\"])\n",
    "\n",
    "# 'TinyLlama/TinyLlama_v1.1'\n",
    "base_model_name = 'meta-llama/Llama-3.1-8B-Instruct'\n",
    "fine_tuned_model_path = \"./llama3.1\"\n",
    "label_name = \"evasion_label\"\n",
    "lr = 2e-4\n",
    "epochs = 1\n",
    "\n",
    "# Wandb configuration\n",
    "run = wandb.init(entity=\"kontilenia-national-technical-university-of-athens\",\n",
    "                 project='political-speech-clarity',\n",
    "                 job_type=\"training\",\n",
    "                 # Track hyperparameters and run metadata\n",
    "                 config={\n",
    "                    \"learning_rate\": lr,\n",
    "                    \"architecture\": base_model_name,\n",
    "                    \"dataset\": \"qevasion_dataset_preproccessed\",\n",
    "                    \"epochs\": epochs,\n",
    "                 })\n",
    "\n",
    "model, tokenizer = finetuning(base_model_name,\n",
    "                              fine_tuned_model_path,\n",
    "                              label_name,\n",
    "                              lr,\n",
    "                              epochs)\n",
    "\n",
    "# run = wandb.init(entity=\"kontilenia-national-technical-university-of-athens\",\n",
    "#                  project=\"political-speech-clarity\",\n",
    "#                  id=\"8c0qfc9s\",\n",
    "#                  resume=\"must\")\n",
    "\n",
    "evaluate(base_model_name,\n",
    "         fine_tuned_model_path,\n",
    "         label_name,\n",
    "         run)\n",
    "\n",
    "run.finish()"
   ]
  },
  {
   "cell_type": "markdown",
   "metadata": {},
   "source": [
    "------------------------------------------------------------------------------------------------------------\n",
    "                                    # Model evaluation before fine-tuning\n",
    "\n",
    "                                    "
   ]
  },
  {
   "cell_type": "code",
   "execution_count": 3,
   "metadata": {},
   "outputs": [
    {
     "data": {
      "application/vnd.jupyter.widget-view+json": {
       "model_id": "18033f7d6f354308ab331ecbc2a986fa",
       "version_major": 2,
       "version_minor": 0
      },
      "text/plain": [
       "config.json:   0%|          | 0.00/855 [00:00<?, ?B/s]"
      ]
     },
     "metadata": {},
     "output_type": "display_data"
    },
    {
     "data": {
      "application/vnd.jupyter.widget-view+json": {
       "model_id": "e3af970cbd2f401e8f0659623b9b1b8c",
       "version_major": 2,
       "version_minor": 0
      },
      "text/plain": [
       "model.safetensors.index.json:   0%|          | 0.00/23.9k [00:00<?, ?B/s]"
      ]
     },
     "metadata": {},
     "output_type": "display_data"
    },
    {
     "data": {
      "application/vnd.jupyter.widget-view+json": {
       "model_id": "2bc3094dc6774428b1d02784fab39897",
       "version_major": 2,
       "version_minor": 0
      },
      "text/plain": [
       "Downloading shards:   0%|          | 0/4 [00:00<?, ?it/s]"
      ]
     },
     "metadata": {},
     "output_type": "display_data"
    },
    {
     "data": {
      "application/vnd.jupyter.widget-view+json": {
       "model_id": "321ea23c182a4b15a8f7ee6a3787a07c",
       "version_major": 2,
       "version_minor": 0
      },
      "text/plain": [
       "model-00001-of-00004.safetensors:   0%|          | 0.00/4.98G [00:00<?, ?B/s]"
      ]
     },
     "metadata": {},
     "output_type": "display_data"
    },
    {
     "data": {
      "application/vnd.jupyter.widget-view+json": {
       "model_id": "c6e04bb15cc143cd934c22cb54d743ad",
       "version_major": 2,
       "version_minor": 0
      },
      "text/plain": [
       "model-00002-of-00004.safetensors:   0%|          | 0.00/5.00G [00:00<?, ?B/s]"
      ]
     },
     "metadata": {},
     "output_type": "display_data"
    },
    {
     "data": {
      "application/vnd.jupyter.widget-view+json": {
       "model_id": "2f51e6294d3d41bebbb05b33b12279c8",
       "version_major": 2,
       "version_minor": 0
      },
      "text/plain": [
       "model-00003-of-00004.safetensors:   0%|          | 0.00/4.92G [00:00<?, ?B/s]"
      ]
     },
     "metadata": {},
     "output_type": "display_data"
    },
    {
     "data": {
      "application/vnd.jupyter.widget-view+json": {
       "model_id": "29576a933a834fb7b63d168a45e74fd5",
       "version_major": 2,
       "version_minor": 0
      },
      "text/plain": [
       "model-00004-of-00004.safetensors:   0%|          | 0.00/1.17G [00:00<?, ?B/s]"
      ]
     },
     "metadata": {},
     "output_type": "display_data"
    },
    {
     "data": {
      "application/vnd.jupyter.widget-view+json": {
       "model_id": "5c4a51c96c8b412fb69d769b034bcd50",
       "version_major": 2,
       "version_minor": 0
      },
      "text/plain": [
       "Loading checkpoint shards:   0%|          | 0/4 [00:00<?, ?it/s]"
      ]
     },
     "metadata": {},
     "output_type": "display_data"
    },
    {
     "data": {
      "application/vnd.jupyter.widget-view+json": {
       "model_id": "b8ac656610154ab396510aaa0733c645",
       "version_major": 2,
       "version_minor": 0
      },
      "text/plain": [
       "generation_config.json:   0%|          | 0.00/184 [00:00<?, ?B/s]"
      ]
     },
     "metadata": {},
     "output_type": "display_data"
    },
    {
     "data": {
      "application/vnd.jupyter.widget-view+json": {
       "model_id": "c607ca0470b74fd48f7e29c093568d79",
       "version_major": 2,
       "version_minor": 0
      },
      "text/plain": [
       "tokenizer_config.json:   0%|          | 0.00/55.4k [00:00<?, ?B/s]"
      ]
     },
     "metadata": {},
     "output_type": "display_data"
    },
    {
     "data": {
      "application/vnd.jupyter.widget-view+json": {
       "model_id": "40b767a8e7f0475fb1db3ba2ba73f475",
       "version_major": 2,
       "version_minor": 0
      },
      "text/plain": [
       "tokenizer.json:   0%|          | 0.00/9.09M [00:00<?, ?B/s]"
      ]
     },
     "metadata": {},
     "output_type": "display_data"
    },
    {
     "data": {
      "application/vnd.jupyter.widget-view+json": {
       "model_id": "0848675fd7754ddd9200df4fb61f40d9",
       "version_major": 2,
       "version_minor": 0
      },
      "text/plain": [
       "special_tokens_map.json:   0%|          | 0.00/296 [00:00<?, ?B/s]"
      ]
     },
     "metadata": {},
     "output_type": "display_data"
    }
   ],
   "source": [
    "huggingface_hub.login(os.environ[\"hf_key\"])\n",
    "\n",
    "base_model_name = \"meta-llama/Llama-3.1-8B-Instruct\"\n",
    "\n",
    "model = AutoModelForCausalLM.from_pretrained(\n",
    "    base_model_name,\n",
    "    device_map=\"auto\",\n",
    "    torch_dtype=\"float16\",\n",
    "    quantization_config=BitsAndBytesConfig(\n",
    "            load_in_4bit=True,\n",
    "            bnb_4bit_compute_dtype=torch.bfloat16\n",
    "        ),\n",
    ")\n",
    "\n",
    "model.config.use_cache = False\n",
    "model.config.pretraining_tp = 1\n",
    "\n",
    "tokenizer = AutoTokenizer.from_pretrained(base_model_name)\n",
    "\n",
    "tokenizer.pad_token_id = tokenizer.eos_token_id"
   ]
  },
  {
   "cell_type": "code",
   "execution_count": null,
   "metadata": {},
   "outputs": [],
   "source": [
    "def evaluate(base_model_name, fine_tuned_model_path, label_name, run=None):\n",
    "\n",
    "    cache_dir = \"\"\n",
    "\n",
    "    model = AutoModelForCausalLM.from_pretrained(\n",
    "        base_model_name,\n",
    "        return_dict=True,\n",
    "        low_cpu_mem_usage=True,\n",
    "        quantization_config=BitsAndBytesConfig(\n",
    "            load_in_4bit=True,\n",
    "            bnb_4bit_compute_dtype=torch.bfloat16\n",
    "        ),\n",
    "        torch_dtype=torch.float16,\n",
    "        device_map=\"auto\",\n",
    "        trust_remote_code=True,\n",
    "        offload_folder=\"offload/\",\n",
    "        cache_dir=cache_dir\n",
    "    )\n",
    "\n",
    "    tokenizer = AutoTokenizer.from_pretrained(base_model_name, \n",
    "                                              cache_dir=cache_dir)\n",
    "    tokenizer.add_special_tokens({'pad_token': '[PAD]'})\n",
    "\n",
    "    # model = AutoModelForCausalLM.from_pretrained(\n",
    "    #     model_name,\n",
    "    #     # load_in_4bit=True,\n",
    "    #     quantization_config=BitsAndBytesConfig(\n",
    "    #         load_in_4bit=True,\n",
    "    #         bnb_4bit_compute_dtype=torch.bfloat16\n",
    "    #     ),\n",
    "    #     device_map='auto',\n",
    "    #     # device_map='cpu',\n",
    "    #     torch_dtype=torch.float16,\n",
    "    #     cache_dir=cache_dir\n",
    "    # )\n",
    "\n",
    "    # base_model_reload.config.use_cache = False\n",
    "    # model = PeftModel.from_pretrained(base_model_reload,\n",
    "    #                                   fine_tuned_model_path,\n",
    "    #                                   # device_map='auto',\n",
    "    #                                   offload_folder=\"offload/\") \n",
    "    # model = model.merge_and_unload()\n",
    "\n",
    "    # Get test set data\n",
    "    test_df = pd.read_csv('preprocessed_data/test_set.csv')[[\n",
    "        'question',\n",
    "        'interview_question',\n",
    "        'interview_answer',\n",
    "        label_name\n",
    "    ]]\n",
    "\n",
    "    test_texts = create_test_prompted_text(test_df, label_name)\n",
    "    dataset = pd.DataFrame(test_texts, columns=['text'])\n",
    "\n",
    "    labels = list(test_df[label_name].unique())\n",
    "\n",
    "    y_pred = predict(dataset, labels, model, tokenizer)\n",
    "    y_true = test_df[label_name]\n",
    "    evaluation_report(y_true, y_pred, labels, run)"
   ]
  },
  {
   "cell_type": "code",
   "execution_count": 7,
   "metadata": {
    "scrolled": true
   },
   "outputs": [
    {
     "name": "stderr",
     "output_type": "stream",
     "text": [
      "Device set to use cuda:0\n",
      "  1%|          | 7/680 [00:27<35:04,  3.13s/it]  "
     ]
    },
    {
     "name": "stdout",
     "output_type": "stream",
     "text": [
      "Wrong label:0\n",
      "\n",
      "### response\n"
     ]
    },
    {
     "name": "stderr",
     "output_type": "stream",
     "text": [
      "  4%|▍         | 30/680 [01:44<31:25,  2.90s/it]  "
     ]
    },
    {
     "name": "stdout",
     "output_type": "stream",
     "text": [
      "Wrong label:0\n",
      "\n",
      "### part\n"
     ]
    },
    {
     "name": "stderr",
     "output_type": "stream",
     "text": [
      "  6%|▌         | 38/680 [02:01<23:36,  2.21s/it]"
     ]
    },
    {
     "name": "stdout",
     "output_type": "stream",
     "text": [
      "Wrong label:0\n",
      " response:\n"
     ]
    },
    {
     "name": "stderr",
     "output_type": "stream",
     "text": [
      "  8%|▊         | 55/680 [02:43<22:36,  2.17s/it]"
     ]
    },
    {
     "name": "stdout",
     "output_type": "stream",
     "text": [
      "Wrong label:? \n",
      "\n",
      "### part\n"
     ]
    },
    {
     "name": "stderr",
     "output_type": "stream",
     "text": [
      " 10%|█         | 70/680 [03:31<32:23,  3.19s/it]"
     ]
    },
    {
     "name": "stdout",
     "output_type": "stream",
     "text": [
      "Wrong label:? \n",
      "\n",
      "### step\n"
     ]
    },
    {
     "name": "stderr",
     "output_type": "stream",
     "text": [
      " 11%|█         | 75/680 [03:42<24:38,  2.44s/it]"
     ]
    },
    {
     "name": "stdout",
     "output_type": "stream",
     "text": [
      "Wrong label:0\n",
      " response:\n"
     ]
    },
    {
     "name": "stderr",
     "output_type": "stream",
     "text": [
      " 11%|█▏        | 77/680 [03:47<22:55,  2.28s/it]"
     ]
    },
    {
     "name": "stdout",
     "output_type": "stream",
     "text": [
      "Wrong label:0\n",
      " response:\n"
     ]
    },
    {
     "name": "stderr",
     "output_type": "stream",
     "text": [
      " 12%|█▏        | 81/680 [03:54<16:37,  1.67s/it]"
     ]
    },
    {
     "name": "stdout",
     "output_type": "stream",
     "text": [
      "Wrong label:? \n",
      "\n",
      "### step\n"
     ]
    },
    {
     "name": "stderr",
     "output_type": "stream",
     "text": [
      " 13%|█▎        | 87/680 [04:03<16:20,  1.65s/it]"
     ]
    },
    {
     "name": "stdout",
     "output_type": "stream",
     "text": [
      "Wrong label:0\n",
      " response:\n"
     ]
    },
    {
     "name": "stderr",
     "output_type": "stream",
     "text": [
      " 13%|█▎        | 88/680 [04:04<14:50,  1.50s/it]"
     ]
    },
    {
     "name": "stdout",
     "output_type": "stream",
     "text": [
      "Wrong label:0\n",
      " response:\n"
     ]
    },
    {
     "name": "stderr",
     "output_type": "stream",
     "text": [
      " 15%|█▍        | 99/680 [04:28<17:11,  1.78s/it]"
     ]
    },
    {
     "name": "stdout",
     "output_type": "stream",
     "text": [
      "Wrong label:0\n",
      " response:\n"
     ]
    },
    {
     "name": "stderr",
     "output_type": "stream",
     "text": [
      " 18%|█▊        | 121/680 [05:18<17:52,  1.92s/it]"
     ]
    },
    {
     "name": "stdout",
     "output_type": "stream",
     "text": [
      "Wrong label:0\n",
      " response:\n"
     ]
    },
    {
     "name": "stderr",
     "output_type": "stream",
     "text": [
      " 19%|█▊        | 126/680 [05:29<17:36,  1.91s/it]"
     ]
    },
    {
     "name": "stdout",
     "output_type": "stream",
     "text": [
      "Wrong label:0\n",
      " response:\n"
     ]
    },
    {
     "name": "stderr",
     "output_type": "stream",
     "text": [
      " 19%|█▉        | 131/680 [05:38<16:47,  1.84s/it]"
     ]
    },
    {
     "name": "stdout",
     "output_type": "stream",
     "text": [
      "Wrong label:? \n",
      "\n",
      "### step\n"
     ]
    },
    {
     "name": "stderr",
     "output_type": "stream",
     "text": [
      " 25%|██▍       | 169/680 [07:06<16:22,  1.92s/it]"
     ]
    },
    {
     "name": "stdout",
     "output_type": "stream",
     "text": [
      "Wrong label:? \n",
      "\n",
      "### step\n"
     ]
    },
    {
     "name": "stderr",
     "output_type": "stream",
     "text": [
      " 25%|██▌       | 173/680 [07:17<19:50,  2.35s/it]"
     ]
    },
    {
     "name": "stdout",
     "output_type": "stream",
     "text": [
      "Wrong label:0\n",
      " response:\n"
     ]
    },
    {
     "name": "stderr",
     "output_type": "stream",
     "text": [
      " 26%|██▋       | 179/680 [07:33<23:29,  2.81s/it]"
     ]
    },
    {
     "name": "stdout",
     "output_type": "stream",
     "text": [
      "Wrong label:0\n",
      " response:\n"
     ]
    },
    {
     "name": "stderr",
     "output_type": "stream",
     "text": [
      " 26%|██▋       | 180/680 [07:35<20:52,  2.50s/it]"
     ]
    },
    {
     "name": "stdout",
     "output_type": "stream",
     "text": [
      "Wrong label:0\n",
      " response:\n"
     ]
    },
    {
     "name": "stderr",
     "output_type": "stream",
     "text": [
      " 27%|██▋       | 184/680 [07:43<17:17,  2.09s/it]"
     ]
    },
    {
     "name": "stdout",
     "output_type": "stream",
     "text": [
      "Wrong label:0\n",
      " response:\n"
     ]
    },
    {
     "name": "stderr",
     "output_type": "stream",
     "text": [
      " 28%|██▊       | 191/680 [08:00<17:22,  2.13s/it]"
     ]
    },
    {
     "name": "stdout",
     "output_type": "stream",
     "text": [
      "Wrong label:? \n",
      "\n",
      "### response\n"
     ]
    },
    {
     "name": "stderr",
     "output_type": "stream",
     "text": [
      " 31%|███       | 210/680 [09:00<23:10,  2.96s/it]"
     ]
    },
    {
     "name": "stdout",
     "output_type": "stream",
     "text": [
      "Wrong label:0\n",
      " response:\n"
     ]
    },
    {
     "name": "stderr",
     "output_type": "stream",
     "text": [
      " 33%|███▎      | 226/680 [09:33<12:06,  1.60s/it]"
     ]
    },
    {
     "name": "stdout",
     "output_type": "stream",
     "text": [
      "Wrong label:0\n",
      " response:\n"
     ]
    },
    {
     "name": "stderr",
     "output_type": "stream",
     "text": [
      " 35%|███▌      | 238/680 [10:04<15:34,  2.11s/it]"
     ]
    },
    {
     "name": "stdout",
     "output_type": "stream",
     "text": [
      "Wrong label:0\n",
      " response:\n"
     ]
    },
    {
     "name": "stderr",
     "output_type": "stream",
     "text": [
      " 41%|████▏     | 282/680 [11:28<09:30,  1.43s/it]"
     ]
    },
    {
     "name": "stdout",
     "output_type": "stream",
     "text": [
      "Wrong label:0\n",
      " response:\n"
     ]
    },
    {
     "name": "stderr",
     "output_type": "stream",
     "text": [
      " 54%|█████▎    | 365/680 [15:48<17:44,  3.38s/it]"
     ]
    },
    {
     "name": "stdout",
     "output_type": "stream",
     "text": [
      "Wrong label:0\n",
      " response:\n"
     ]
    },
    {
     "name": "stderr",
     "output_type": "stream",
     "text": [
      " 60%|██████    | 408/680 [19:53<16:10,  3.57s/it]"
     ]
    },
    {
     "name": "stdout",
     "output_type": "stream",
     "text": [
      "Wrong label:0\n",
      " response:\n"
     ]
    },
    {
     "name": "stderr",
     "output_type": "stream",
     "text": [
      " 61%|██████▏   | 417/680 [20:30<13:04,  2.98s/it]"
     ]
    },
    {
     "name": "stdout",
     "output_type": "stream",
     "text": [
      "Wrong label:? \n",
      "\n",
      "### step\n"
     ]
    },
    {
     "name": "stderr",
     "output_type": "stream",
     "text": [
      " 61%|██████▏   | 418/680 [20:32<10:39,  2.44s/it]"
     ]
    },
    {
     "name": "stdout",
     "output_type": "stream",
     "text": [
      "Wrong label:? \n",
      "\n",
      "### reason\n"
     ]
    },
    {
     "name": "stderr",
     "output_type": "stream",
     "text": [
      " 63%|██████▎   | 430/680 [21:11<09:38,  2.31s/it]"
     ]
    },
    {
     "name": "stdout",
     "output_type": "stream",
     "text": [
      "Wrong label:0\n",
      " response:\n"
     ]
    },
    {
     "name": "stderr",
     "output_type": "stream",
     "text": [
      " 69%|██████▊   | 467/680 [23:34<10:31,  2.96s/it]"
     ]
    },
    {
     "name": "stdout",
     "output_type": "stream",
     "text": [
      "Wrong label:? \n",
      "\n",
      "### response\n"
     ]
    },
    {
     "name": "stderr",
     "output_type": "stream",
     "text": [
      " 69%|██████▉   | 469/680 [23:40<09:30,  2.70s/it]"
     ]
    },
    {
     "name": "stdout",
     "output_type": "stream",
     "text": [
      "Wrong label:? \n",
      "\n",
      "### response\n"
     ]
    },
    {
     "name": "stderr",
     "output_type": "stream",
     "text": [
      " 70%|███████   | 479/680 [24:17<11:22,  3.40s/it]"
     ]
    },
    {
     "name": "stdout",
     "output_type": "stream",
     "text": [
      "Wrong label:0\n",
      " response:\n"
     ]
    },
    {
     "name": "stderr",
     "output_type": "stream",
     "text": [
      " 79%|███████▊  | 534/680 [27:50<06:12,  2.55s/it]"
     ]
    },
    {
     "name": "stdout",
     "output_type": "stream",
     "text": [
      "Wrong label:? \n",
      "\n",
      "### step\n"
     ]
    },
    {
     "name": "stderr",
     "output_type": "stream",
     "text": [
      " 79%|███████▉  | 540/680 [28:05<05:23,  2.31s/it]"
     ]
    },
    {
     "name": "stdout",
     "output_type": "stream",
     "text": [
      "Wrong label:0\n",
      " response:\n"
     ]
    },
    {
     "name": "stderr",
     "output_type": "stream",
     "text": [
      " 85%|████████▌ | 580/680 [30:18<05:58,  3.59s/it]"
     ]
    },
    {
     "name": "stdout",
     "output_type": "stream",
     "text": [
      "Wrong label:? \n",
      "\n",
      "### step\n"
     ]
    },
    {
     "name": "stderr",
     "output_type": "stream",
     "text": [
      " 92%|█████████▏| 628/680 [32:57<03:23,  3.92s/it]"
     ]
    },
    {
     "name": "stdout",
     "output_type": "stream",
     "text": [
      "Wrong label:0\n",
      "\n",
      "### response\n"
     ]
    },
    {
     "name": "stderr",
     "output_type": "stream",
     "text": [
      " 99%|█████████▉| 673/680 [35:37<00:17,  2.55s/it]"
     ]
    },
    {
     "name": "stdout",
     "output_type": "stream",
     "text": [
      "Wrong label:0\n",
      " response:\n"
     ]
    },
    {
     "name": "stderr",
     "output_type": "stream",
     "text": [
      "100%|██████████| 680/680 [35:57<00:00,  3.17s/it]\n"
     ]
    }
   ],
   "source": [
    "label_name = \"clarity_label\"\n",
    "\n",
    "# Get train set data\n",
    "df = pd.read_csv('preprocessed_data/train_set.csv')[['question',\n",
    "                                                     'interview_question',\n",
    "                                                     'interview_answer',\n",
    "                                                     label_name]]\n",
    "\n",
    "# Split train set to train and validation data\n",
    "np.random.seed(2024)\n",
    "msk = np.random.rand(len(df)) < 0.8\n",
    "train = df[msk]\n",
    "validation = df[~msk]\n",
    "\n",
    "train.reset_index(drop=True, inplace=True)\n",
    "validation.reset_index(drop=True, inplace=True)\n",
    "\n",
    "train_texts = create_prompted_text(train, label_name)\n",
    "validation_texts = create_prompted_text(validation,\n",
    "                                        label_name)\n",
    "\n",
    "# print(\"Example of train test:\" + train_texts[1])\n",
    "# print(\"Example of validation test:\" + validation_texts[1])\n",
    "\n",
    "\n",
    "def predict(test, model, tokenizer):\n",
    "\n",
    "    # Set logging level to ERROR to suppress INFO messages\n",
    "    logging.basicConfig(level=logging.ERROR)\n",
    "\n",
    "    y_pred = []\n",
    "    categories = list(df[label_name].unique())\n",
    "    pipe = pipeline(task=\"text-generation\",\n",
    "                    model=model,\n",
    "                    tokenizer=tokenizer,\n",
    "                    max_new_tokens=4,\n",
    "                    temperature=0.1\n",
    "                    )\n",
    "\n",
    "    for i in tqdm(range(len(test))):\n",
    "        prompt = test.iloc[i][\"text\"]\n",
    "        result = pipe(prompt)\n",
    "        answer = result[0]['generated_text'].split(\"Label:\")[-1].strip()\n",
    "\n",
    "        # Determine the predicted category\n",
    "        for category in categories:\n",
    "            if category.lower() in answer.lower():\n",
    "                y_pred.append(category)\n",
    "                break\n",
    "        else:\n",
    "            print(\"Wrong label:\" + answer.lower())\n",
    "            y_pred.append(\"none\")\n",
    "\n",
    "    return y_pred\n",
    "\n",
    "\n",
    "validation_texts = create_test_prompted_text(validation, label_name)\n",
    "\n",
    "dataset = pd.DataFrame(validation_texts, columns=['text'])\n",
    "y_pred = predict(dataset, model, tokenizer)"
   ]
  },
  {
   "cell_type": "code",
   "execution_count": 9,
   "metadata": {},
   "outputs": [
    {
     "name": "stdout",
     "output_type": "stream",
     "text": [
      "Accuracy: 0.341\n",
      "Accuracy for label Direct Reply: 0.853\n",
      "Accuracy for label Indirect: 0.013\n",
      "Accuracy for label Direct Non-Reply: 0.562\n",
      "\n",
      "Classification Report:\n",
      "                  precision    recall  f1-score   support\n",
      "\n",
      "    Direct Reply       0.38      0.85      0.53       218\n",
      "        Indirect       0.33      0.01      0.02       389\n",
      "Direct Non-Reply       0.30      0.56      0.39        73\n",
      "\n",
      "       micro avg       0.36      0.34      0.35       680\n",
      "       macro avg       0.34      0.48      0.31       680\n",
      "    weighted avg       0.34      0.34      0.22       680\n",
      "\n",
      "\n",
      "Confusion Matrix:\n",
      "[[186   2  20]\n",
      " [284   5  77]\n",
      " [ 20   8  41]]\n"
     ]
    }
   ],
   "source": [
    "def evaluate(y_true, y_pred):\n",
    "    labels = list(df[label_name].unique())\n",
    "    mapping = {label: idx for idx, label in enumerate(labels)}\n",
    "\n",
    "    def map_func(x):\n",
    "        return mapping.get(x, -1)  # Map to -1 if not found, but should not occur with correct data\n",
    "\n",
    "    y_true_mapped = np.vectorize(map_func)(y_true)\n",
    "    y_pred_mapped = np.vectorize(map_func)(y_pred)\n",
    "\n",
    "    # Calculate accuracy\n",
    "    accuracy = accuracy_score(y_true=y_true_mapped, y_pred=y_pred_mapped)\n",
    "    print(f'Accuracy: {accuracy:.3f}')\n",
    "\n",
    "    # Generate accuracy report\n",
    "    unique_labels = set(y_true_mapped)  # Get unique labels\n",
    "\n",
    "    for label in unique_labels:\n",
    "        label_indices = [i for i in range(len(y_true_mapped)) if y_true_mapped[i] == label]\n",
    "        label_y_true = [y_true_mapped[i] for i in label_indices]\n",
    "        label_y_pred = [y_pred_mapped[i] for i in label_indices]\n",
    "        label_accuracy = accuracy_score(label_y_true, label_y_pred)\n",
    "        print(f'Accuracy for label {labels[label]}: {label_accuracy:.3f}')\n",
    "\n",
    "    # Generate classification report\n",
    "    class_report = classification_report(y_true=y_true_mapped, y_pred=y_pred_mapped, target_names=labels, labels=list(range(len(labels))))\n",
    "    print('\\nClassification Report:')\n",
    "    print(class_report)\n",
    "\n",
    "    # Generate confusion matrix\n",
    "    conf_matrix = confusion_matrix(y_true=y_true_mapped, y_pred=y_pred_mapped, labels=list(range(len(labels))))\n",
    "    print('\\nConfusion Matrix:')\n",
    "    print(conf_matrix)\n",
    "\n",
    "\n",
    "y_true = validation[label_name]\n",
    "evaluate(y_true, y_pred)"
   ]
  },
  {
   "cell_type": "code",
   "execution_count": 8,
   "metadata": {
    "scrolled": true
   },
   "outputs": [
    {
     "data": {
      "text/plain": [
       "['Direct Reply',\n",
       " 'Direct Reply',\n",
       " 'Direct Reply',\n",
       " 'Direct Reply',\n",
       " 'Direct Reply',\n",
       " 'Direct Reply',\n",
       " 'none',\n",
       " 'Direct Reply',\n",
       " 'Direct Non-Reply',\n",
       " 'Direct Reply',\n",
       " 'Direct Reply',\n",
       " 'Direct Reply',\n",
       " 'Direct Non-Reply',\n",
       " 'Direct Reply',\n",
       " 'Direct Reply',\n",
       " 'Direct Reply',\n",
       " 'Direct Reply',\n",
       " 'Direct Reply',\n",
       " 'Direct Non-Reply',\n",
       " 'Direct Reply',\n",
       " 'Direct Non-Reply',\n",
       " 'Direct Non-Reply',\n",
       " 'Direct Reply',\n",
       " 'Direct Reply',\n",
       " 'Direct Reply',\n",
       " 'Direct Reply',\n",
       " 'Direct Non-Reply',\n",
       " 'Direct Reply',\n",
       " 'Direct Non-Reply',\n",
       " 'none',\n",
       " 'Direct Non-Reply',\n",
       " 'Direct Reply',\n",
       " 'Direct Reply',\n",
       " 'Direct Reply',\n",
       " 'Direct Non-Reply',\n",
       " 'Direct Reply',\n",
       " 'Direct Reply',\n",
       " 'none',\n",
       " 'Indirect',\n",
       " 'Direct Reply',\n",
       " 'Direct Reply',\n",
       " 'Direct Reply',\n",
       " 'Direct Reply',\n",
       " 'Direct Reply',\n",
       " 'Direct Reply',\n",
       " 'Direct Reply',\n",
       " 'Direct Reply',\n",
       " 'Direct Reply',\n",
       " 'Direct Reply',\n",
       " 'Direct Non-Reply',\n",
       " 'Direct Reply',\n",
       " 'Direct Reply',\n",
       " 'Direct Non-Reply',\n",
       " 'Direct Reply',\n",
       " 'none',\n",
       " 'Direct Reply',\n",
       " 'Direct Reply',\n",
       " 'Direct Reply',\n",
       " 'Direct Reply',\n",
       " 'Direct Reply',\n",
       " 'Direct Reply',\n",
       " 'Direct Non-Reply',\n",
       " 'Direct Reply',\n",
       " 'Direct Reply',\n",
       " 'Direct Reply',\n",
       " 'Direct Reply',\n",
       " 'Direct Reply',\n",
       " 'Direct Reply',\n",
       " 'Direct Reply',\n",
       " 'none',\n",
       " 'Direct Reply',\n",
       " 'Direct Non-Reply',\n",
       " 'Direct Reply',\n",
       " 'Direct Reply',\n",
       " 'none',\n",
       " 'Direct Reply',\n",
       " 'none',\n",
       " 'Direct Reply',\n",
       " 'Direct Reply',\n",
       " 'Direct Reply',\n",
       " 'none',\n",
       " 'Direct Reply',\n",
       " 'Direct Non-Reply',\n",
       " 'Direct Non-Reply',\n",
       " 'Direct Reply',\n",
       " 'Direct Non-Reply',\n",
       " 'none',\n",
       " 'none',\n",
       " 'Indirect',\n",
       " 'Direct Reply',\n",
       " 'Direct Reply',\n",
       " 'Direct Non-Reply',\n",
       " 'Direct Non-Reply',\n",
       " 'Direct Reply',\n",
       " 'Direct Reply',\n",
       " 'Direct Reply',\n",
       " 'Direct Reply',\n",
       " 'Direct Non-Reply',\n",
       " 'none',\n",
       " 'Direct Reply',\n",
       " 'Direct Reply',\n",
       " 'Direct Reply',\n",
       " 'Direct Reply',\n",
       " 'Direct Reply',\n",
       " 'Direct Reply',\n",
       " 'Direct Reply',\n",
       " 'Direct Reply',\n",
       " 'Direct Reply',\n",
       " 'Direct Reply',\n",
       " 'Direct Reply',\n",
       " 'Direct Reply',\n",
       " 'Direct Non-Reply',\n",
       " 'Direct Reply',\n",
       " 'Direct Non-Reply',\n",
       " 'Direct Reply',\n",
       " 'Direct Reply',\n",
       " 'Direct Non-Reply',\n",
       " 'Direct Reply',\n",
       " 'Indirect',\n",
       " 'Direct Non-Reply',\n",
       " 'none',\n",
       " 'Direct Reply',\n",
       " 'Direct Reply',\n",
       " 'Direct Non-Reply',\n",
       " 'Direct Reply',\n",
       " 'none',\n",
       " 'Direct Reply',\n",
       " 'Direct Non-Reply',\n",
       " 'Direct Reply',\n",
       " 'Direct Reply',\n",
       " 'none',\n",
       " 'Indirect',\n",
       " 'Direct Reply',\n",
       " 'Direct Reply',\n",
       " 'Indirect',\n",
       " 'Direct Reply',\n",
       " 'Direct Reply',\n",
       " 'Direct Reply',\n",
       " 'Direct Reply',\n",
       " 'Direct Non-Reply',\n",
       " 'Direct Reply',\n",
       " 'Direct Non-Reply',\n",
       " 'Direct Non-Reply',\n",
       " 'Direct Reply',\n",
       " 'Direct Non-Reply',\n",
       " 'Direct Reply',\n",
       " 'Direct Reply',\n",
       " 'Direct Reply',\n",
       " 'Direct Reply',\n",
       " 'Direct Reply',\n",
       " 'Direct Reply',\n",
       " 'Direct Non-Reply',\n",
       " 'Direct Reply',\n",
       " 'Direct Reply',\n",
       " 'Direct Reply',\n",
       " 'Direct Non-Reply',\n",
       " 'Direct Reply',\n",
       " 'Direct Reply',\n",
       " 'Direct Reply',\n",
       " 'Direct Reply',\n",
       " 'Direct Reply',\n",
       " 'Direct Reply',\n",
       " 'Direct Reply',\n",
       " 'Direct Non-Reply',\n",
       " 'Direct Reply',\n",
       " 'Direct Reply',\n",
       " 'Direct Reply',\n",
       " 'Direct Reply',\n",
       " 'none',\n",
       " 'Direct Reply',\n",
       " 'Direct Reply',\n",
       " 'Direct Reply',\n",
       " 'none',\n",
       " 'Direct Non-Reply',\n",
       " 'Direct Reply',\n",
       " 'Direct Non-Reply',\n",
       " 'Direct Reply',\n",
       " 'Direct Reply',\n",
       " 'none',\n",
       " 'none',\n",
       " 'Direct Reply',\n",
       " 'Direct Reply',\n",
       " 'Direct Reply',\n",
       " 'none',\n",
       " 'Direct Reply',\n",
       " 'Direct Reply',\n",
       " 'Direct Reply',\n",
       " 'Direct Reply',\n",
       " 'Direct Reply',\n",
       " 'Direct Reply',\n",
       " 'none',\n",
       " 'Direct Reply',\n",
       " 'Direct Non-Reply',\n",
       " 'Direct Reply',\n",
       " 'Indirect',\n",
       " 'Direct Reply',\n",
       " 'Direct Non-Reply',\n",
       " 'Direct Reply',\n",
       " 'Direct Reply',\n",
       " 'Direct Reply',\n",
       " 'Direct Non-Reply',\n",
       " 'Direct Non-Reply',\n",
       " 'Direct Non-Reply',\n",
       " 'Direct Reply',\n",
       " 'Direct Non-Reply',\n",
       " 'Direct Reply',\n",
       " 'Direct Reply',\n",
       " 'Direct Reply',\n",
       " 'Direct Reply',\n",
       " 'none',\n",
       " 'Direct Reply',\n",
       " 'Direct Reply',\n",
       " 'Direct Reply',\n",
       " 'Direct Reply',\n",
       " 'Direct Non-Reply',\n",
       " 'Direct Reply',\n",
       " 'Direct Reply',\n",
       " 'Direct Reply',\n",
       " 'Direct Reply',\n",
       " 'Direct Non-Reply',\n",
       " 'Direct Reply',\n",
       " 'Direct Non-Reply',\n",
       " 'Direct Reply',\n",
       " 'Direct Reply',\n",
       " 'Direct Non-Reply',\n",
       " 'none',\n",
       " 'Direct Reply',\n",
       " 'Direct Reply',\n",
       " 'Direct Reply',\n",
       " 'Direct Reply',\n",
       " 'Direct Reply',\n",
       " 'Direct Reply',\n",
       " 'Direct Reply',\n",
       " 'Direct Reply',\n",
       " 'Direct Reply',\n",
       " 'Direct Non-Reply',\n",
       " 'Direct Reply',\n",
       " 'none',\n",
       " 'Direct Non-Reply',\n",
       " 'Indirect',\n",
       " 'Direct Reply',\n",
       " 'Indirect',\n",
       " 'Direct Reply',\n",
       " 'Direct Non-Reply',\n",
       " 'Direct Non-Reply',\n",
       " 'Direct Reply',\n",
       " 'Direct Reply',\n",
       " 'Direct Reply',\n",
       " 'Direct Non-Reply',\n",
       " 'Direct Reply',\n",
       " 'Direct Reply',\n",
       " 'Direct Non-Reply',\n",
       " 'Direct Reply',\n",
       " 'Direct Non-Reply',\n",
       " 'Direct Non-Reply',\n",
       " 'Direct Non-Reply',\n",
       " 'Direct Non-Reply',\n",
       " 'Direct Non-Reply',\n",
       " 'Direct Reply',\n",
       " 'Direct Reply',\n",
       " 'Direct Reply',\n",
       " 'Direct Reply',\n",
       " 'Direct Reply',\n",
       " 'Direct Reply',\n",
       " 'Direct Non-Reply',\n",
       " 'Direct Non-Reply',\n",
       " 'Direct Reply',\n",
       " 'Direct Non-Reply',\n",
       " 'Direct Reply',\n",
       " 'Direct Non-Reply',\n",
       " 'Direct Non-Reply',\n",
       " 'Direct Reply',\n",
       " 'Indirect',\n",
       " 'Direct Non-Reply',\n",
       " 'Direct Reply',\n",
       " 'Direct Non-Reply',\n",
       " 'Direct Reply',\n",
       " 'Direct Reply',\n",
       " 'Direct Reply',\n",
       " 'Direct Reply',\n",
       " 'Direct Non-Reply',\n",
       " 'none',\n",
       " 'Direct Non-Reply',\n",
       " 'Indirect',\n",
       " 'Direct Reply',\n",
       " 'Direct Reply',\n",
       " 'Direct Reply',\n",
       " 'Direct Reply',\n",
       " 'Direct Reply',\n",
       " 'Direct Non-Reply',\n",
       " 'Direct Non-Reply',\n",
       " 'Direct Reply',\n",
       " 'Direct Non-Reply',\n",
       " 'Direct Non-Reply',\n",
       " 'Direct Reply',\n",
       " 'Direct Reply',\n",
       " 'Direct Reply',\n",
       " 'Direct Reply',\n",
       " 'Direct Non-Reply',\n",
       " 'Direct Reply',\n",
       " 'Direct Reply',\n",
       " 'Direct Reply',\n",
       " 'Direct Reply',\n",
       " 'Direct Reply',\n",
       " 'Direct Non-Reply',\n",
       " 'Direct Reply',\n",
       " 'Direct Reply',\n",
       " 'Direct Reply',\n",
       " 'Direct Non-Reply',\n",
       " 'Direct Non-Reply',\n",
       " 'Direct Reply',\n",
       " 'Direct Non-Reply',\n",
       " 'Direct Reply',\n",
       " 'Direct Reply',\n",
       " 'Direct Reply',\n",
       " 'Direct Reply',\n",
       " 'Direct Reply',\n",
       " 'Direct Reply',\n",
       " 'Direct Reply',\n",
       " 'Direct Reply',\n",
       " 'Direct Reply',\n",
       " 'Direct Reply',\n",
       " 'Direct Reply',\n",
       " 'Direct Non-Reply',\n",
       " 'Direct Reply',\n",
       " 'Direct Reply',\n",
       " 'Direct Reply',\n",
       " 'Direct Non-Reply',\n",
       " 'Direct Non-Reply',\n",
       " 'Direct Reply',\n",
       " 'Direct Reply',\n",
       " 'Direct Non-Reply',\n",
       " 'Direct Non-Reply',\n",
       " 'Direct Reply',\n",
       " 'Direct Reply',\n",
       " 'Direct Reply',\n",
       " 'Direct Reply',\n",
       " 'Direct Reply',\n",
       " 'Direct Reply',\n",
       " 'Direct Reply',\n",
       " 'Direct Reply',\n",
       " 'Direct Reply',\n",
       " 'Direct Reply',\n",
       " 'Direct Reply',\n",
       " 'Direct Reply',\n",
       " 'Direct Non-Reply',\n",
       " 'Direct Reply',\n",
       " 'Direct Reply',\n",
       " 'Direct Reply',\n",
       " 'Direct Reply',\n",
       " 'Direct Reply',\n",
       " 'Direct Reply',\n",
       " 'Direct Non-Reply',\n",
       " 'Direct Non-Reply',\n",
       " 'Direct Non-Reply',\n",
       " 'Direct Reply',\n",
       " 'Direct Reply',\n",
       " 'Direct Reply',\n",
       " 'Direct Reply',\n",
       " 'Direct Reply',\n",
       " 'Direct Reply',\n",
       " 'Direct Reply',\n",
       " 'Direct Reply',\n",
       " 'Direct Reply',\n",
       " 'none',\n",
       " 'Direct Non-Reply',\n",
       " 'Direct Non-Reply',\n",
       " 'Direct Reply',\n",
       " 'Direct Reply',\n",
       " 'Direct Reply',\n",
       " 'Direct Reply',\n",
       " 'Direct Reply',\n",
       " 'Direct Non-Reply',\n",
       " 'Direct Reply',\n",
       " 'Direct Reply',\n",
       " 'Direct Reply',\n",
       " 'Direct Reply',\n",
       " 'Direct Reply',\n",
       " 'Direct Reply',\n",
       " 'Direct Reply',\n",
       " 'Direct Non-Reply',\n",
       " 'Direct Reply',\n",
       " 'Direct Reply',\n",
       " 'Direct Reply',\n",
       " 'Direct Reply',\n",
       " 'Direct Reply',\n",
       " 'Direct Reply',\n",
       " 'Direct Non-Reply',\n",
       " 'Direct Reply',\n",
       " 'Direct Non-Reply',\n",
       " 'Direct Reply',\n",
       " 'Direct Reply',\n",
       " 'Direct Reply',\n",
       " 'Direct Reply',\n",
       " 'Direct Reply',\n",
       " 'Direct Reply',\n",
       " 'Direct Reply',\n",
       " 'Direct Reply',\n",
       " 'Direct Reply',\n",
       " 'Direct Reply',\n",
       " 'Direct Reply',\n",
       " 'Direct Reply',\n",
       " 'Direct Non-Reply',\n",
       " 'Direct Reply',\n",
       " 'Direct Reply',\n",
       " 'Direct Reply',\n",
       " 'Direct Reply',\n",
       " 'none',\n",
       " 'Direct Reply',\n",
       " 'Direct Reply',\n",
       " 'Direct Reply',\n",
       " 'Direct Reply',\n",
       " 'Direct Reply',\n",
       " 'Direct Reply',\n",
       " 'Direct Reply',\n",
       " 'Direct Reply',\n",
       " 'none',\n",
       " 'none',\n",
       " 'Direct Reply',\n",
       " 'Direct Non-Reply',\n",
       " 'Direct Non-Reply',\n",
       " 'Direct Reply',\n",
       " 'Direct Reply',\n",
       " 'Direct Reply',\n",
       " 'Direct Reply',\n",
       " 'Direct Non-Reply',\n",
       " 'Indirect',\n",
       " 'Direct Reply',\n",
       " 'Direct Reply',\n",
       " 'none',\n",
       " 'Direct Reply',\n",
       " 'Direct Reply',\n",
       " 'Direct Reply',\n",
       " 'Direct Reply',\n",
       " 'Direct Non-Reply',\n",
       " 'Direct Reply',\n",
       " 'Direct Reply',\n",
       " 'Direct Reply',\n",
       " 'Direct Non-Reply',\n",
       " 'Direct Reply',\n",
       " 'Direct Reply',\n",
       " 'Direct Reply',\n",
       " 'Direct Reply',\n",
       " 'Direct Non-Reply',\n",
       " 'Direct Reply',\n",
       " 'Direct Reply',\n",
       " 'Direct Reply',\n",
       " 'Direct Reply',\n",
       " 'Direct Reply',\n",
       " 'Direct Reply',\n",
       " 'Direct Reply',\n",
       " 'Direct Reply',\n",
       " 'Direct Reply',\n",
       " 'Direct Non-Reply',\n",
       " 'Direct Reply',\n",
       " 'Direct Reply',\n",
       " 'Indirect',\n",
       " 'Direct Reply',\n",
       " 'Direct Reply',\n",
       " 'Direct Reply',\n",
       " 'Indirect',\n",
       " 'Direct Reply',\n",
       " 'Direct Reply',\n",
       " 'Direct Reply',\n",
       " 'Direct Non-Reply',\n",
       " 'Direct Reply',\n",
       " 'none',\n",
       " 'Direct Reply',\n",
       " 'none',\n",
       " 'Direct Reply',\n",
       " 'Direct Reply',\n",
       " 'Direct Reply',\n",
       " 'Direct Reply',\n",
       " 'Direct Reply',\n",
       " 'Direct Reply',\n",
       " 'Direct Reply',\n",
       " 'Direct Non-Reply',\n",
       " 'Direct Reply',\n",
       " 'none',\n",
       " 'Direct Non-Reply',\n",
       " 'Direct Reply',\n",
       " 'Direct Reply',\n",
       " 'Direct Reply',\n",
       " 'Direct Non-Reply',\n",
       " 'Direct Reply',\n",
       " 'Direct Reply',\n",
       " 'Direct Reply',\n",
       " 'Direct Reply',\n",
       " 'Direct Reply',\n",
       " 'Direct Reply',\n",
       " 'Direct Reply',\n",
       " 'Direct Reply',\n",
       " 'Direct Reply',\n",
       " 'Direct Non-Reply',\n",
       " 'Direct Reply',\n",
       " 'Direct Reply',\n",
       " 'Direct Reply',\n",
       " 'Indirect',\n",
       " 'Direct Non-Reply',\n",
       " 'Direct Reply',\n",
       " 'Direct Reply',\n",
       " 'Direct Non-Reply',\n",
       " 'Direct Reply',\n",
       " 'Direct Reply',\n",
       " 'Direct Non-Reply',\n",
       " 'Direct Reply',\n",
       " 'Direct Reply',\n",
       " 'Direct Reply',\n",
       " 'Direct Reply',\n",
       " 'Direct Reply',\n",
       " 'Direct Reply',\n",
       " 'Direct Reply',\n",
       " 'Direct Reply',\n",
       " 'Direct Reply',\n",
       " 'Direct Reply',\n",
       " 'Direct Non-Reply',\n",
       " 'Direct Reply',\n",
       " 'Direct Reply',\n",
       " 'Direct Reply',\n",
       " 'Direct Reply',\n",
       " 'Direct Reply',\n",
       " 'Direct Reply',\n",
       " 'Direct Reply',\n",
       " 'Direct Reply',\n",
       " 'Direct Reply',\n",
       " 'Direct Reply',\n",
       " 'Direct Reply',\n",
       " 'Direct Reply',\n",
       " 'Direct Non-Reply',\n",
       " 'Direct Reply',\n",
       " 'Direct Non-Reply',\n",
       " 'Direct Reply',\n",
       " 'Direct Reply',\n",
       " 'none',\n",
       " 'Direct Reply',\n",
       " 'Direct Reply',\n",
       " 'Direct Reply',\n",
       " 'Direct Non-Reply',\n",
       " 'Direct Non-Reply',\n",
       " 'none',\n",
       " 'Direct Reply',\n",
       " 'Direct Reply',\n",
       " 'Direct Non-Reply',\n",
       " 'Direct Non-Reply',\n",
       " 'Direct Reply',\n",
       " 'Direct Reply',\n",
       " 'Direct Reply',\n",
       " 'Direct Reply',\n",
       " 'Direct Non-Reply',\n",
       " 'Direct Non-Reply',\n",
       " 'Direct Reply',\n",
       " 'Direct Reply',\n",
       " 'Direct Reply',\n",
       " 'Direct Reply',\n",
       " 'Direct Reply',\n",
       " 'Direct Reply',\n",
       " 'Direct Non-Reply',\n",
       " 'Direct Reply',\n",
       " 'Direct Non-Reply',\n",
       " 'Direct Reply',\n",
       " 'Direct Reply',\n",
       " 'Direct Reply',\n",
       " 'Direct Non-Reply',\n",
       " 'Direct Reply',\n",
       " 'Direct Reply',\n",
       " 'Direct Reply',\n",
       " 'Direct Reply',\n",
       " 'Direct Reply',\n",
       " 'Direct Reply',\n",
       " 'Direct Reply',\n",
       " 'Direct Reply',\n",
       " 'Direct Reply',\n",
       " 'Direct Reply',\n",
       " 'Direct Reply',\n",
       " 'Direct Reply',\n",
       " 'Direct Reply',\n",
       " 'Direct Reply',\n",
       " 'Direct Reply',\n",
       " 'Direct Reply',\n",
       " 'none',\n",
       " 'Direct Reply',\n",
       " 'Direct Reply',\n",
       " 'Direct Reply',\n",
       " 'Direct Reply',\n",
       " 'Direct Reply',\n",
       " 'Indirect',\n",
       " 'Direct Reply',\n",
       " 'Direct Reply',\n",
       " 'Direct Reply',\n",
       " 'Direct Reply',\n",
       " 'Direct Reply',\n",
       " 'Direct Reply',\n",
       " 'Direct Reply',\n",
       " 'Direct Reply',\n",
       " 'Direct Reply',\n",
       " 'Direct Reply',\n",
       " 'Direct Reply',\n",
       " 'Direct Reply',\n",
       " 'Direct Reply',\n",
       " 'Direct Non-Reply',\n",
       " 'Direct Reply',\n",
       " 'Direct Non-Reply',\n",
       " 'Direct Non-Reply',\n",
       " 'Direct Reply',\n",
       " 'Direct Reply',\n",
       " 'Direct Reply',\n",
       " 'Direct Reply',\n",
       " 'Direct Reply',\n",
       " 'Direct Non-Reply',\n",
       " 'Direct Reply',\n",
       " 'Direct Non-Reply',\n",
       " 'Direct Reply',\n",
       " 'Direct Reply',\n",
       " 'Direct Non-Reply',\n",
       " 'Direct Non-Reply',\n",
       " 'Direct Non-Reply',\n",
       " 'Direct Reply',\n",
       " 'Direct Reply',\n",
       " 'Direct Reply',\n",
       " 'Direct Reply',\n",
       " 'Direct Non-Reply',\n",
       " 'Direct Non-Reply',\n",
       " 'Direct Non-Reply',\n",
       " 'Direct Reply',\n",
       " 'Direct Reply',\n",
       " 'Direct Reply',\n",
       " 'Direct Reply',\n",
       " 'none',\n",
       " 'Direct Reply',\n",
       " 'Direct Non-Reply',\n",
       " 'Direct Reply',\n",
       " 'Direct Reply',\n",
       " 'Direct Reply',\n",
       " 'Direct Reply',\n",
       " 'Direct Reply',\n",
       " 'Direct Reply',\n",
       " 'Direct Non-Reply',\n",
       " 'Direct Reply',\n",
       " 'Direct Reply',\n",
       " 'Direct Reply',\n",
       " 'Direct Reply',\n",
       " 'Direct Reply',\n",
       " 'Direct Non-Reply',\n",
       " 'Direct Reply',\n",
       " 'Direct Reply',\n",
       " 'Direct Reply',\n",
       " 'Direct Reply',\n",
       " 'Direct Non-Reply',\n",
       " 'Direct Reply',\n",
       " 'Direct Reply',\n",
       " 'Direct Reply',\n",
       " 'Direct Reply',\n",
       " 'Direct Reply',\n",
       " 'Direct Non-Reply',\n",
       " 'Direct Reply',\n",
       " 'Direct Reply',\n",
       " 'Direct Reply',\n",
       " 'Direct Reply',\n",
       " 'Direct Non-Reply',\n",
       " 'Direct Reply',\n",
       " 'Direct Reply',\n",
       " 'Direct Reply',\n",
       " 'Direct Non-Reply',\n",
       " 'Direct Reply',\n",
       " 'Direct Reply',\n",
       " 'Direct Reply',\n",
       " 'Direct Reply',\n",
       " 'Direct Reply',\n",
       " 'Direct Reply',\n",
       " 'Direct Non-Reply',\n",
       " 'Direct Reply',\n",
       " 'Direct Reply',\n",
       " 'none',\n",
       " 'Direct Non-Reply',\n",
       " 'Direct Reply',\n",
       " 'Direct Reply',\n",
       " 'Direct Non-Reply',\n",
       " 'Direct Non-Reply',\n",
       " 'Direct Reply',\n",
       " 'Direct Reply']"
      ]
     },
     "execution_count": 8,
     "metadata": {},
     "output_type": "execute_result"
    }
   ],
   "source": [
    "y_pred"
   ]
  },
  {
   "cell_type": "code",
   "execution_count": 52,
   "metadata": {},
   "outputs": [
    {
     "data": {
      "text/plain": [
       "\"Classify the interviewee's response into one of the following\\n        categories: Indirect, Direct Reply, Direct Non-Reply. Analyze the part of the interview provided below, focusing\\n        specifically on the interviewee's response to the marked question.\\n\\n ### Part of the interview ### \\n Intervier:Q. Hi, I'm Jongjin Park of Money Today. First of all, I would like to ask a question to President Yoon Suk Yeol of the Republic of Korea. I heard that you stated that a new chapter has opened in our trilateral cooperation with the two countries. Compared to the previous summits, what would be the most significant outcome that you gained through this summit?And also, from the perspective of our people, what would be the benefit that the people of Korea would feel from these strengthening of ties?And now my question goes to President Biden. During this summit, the issues of detainees or prisoners of wars—and you mentioned that there will be further cooperation in these human rights issues. And you also said you will support the free and peaceful Korean Peninsula in the region. And what would—what kind of shift would there be in your policy? And what kind of specific solutions do you have in this regard?Lastly, I would like to direct my question to Prime Minister Kishida. Today we had a historic trilateral summit. However, there was much backlash and many concerns in Korea. However, President Yoon showed his political courage to do so. That's the international community's evaluation.However, there are still concerns that the—Japan is making very passive efforts to resolve our issues that still remain. And also, how would you be able to show your truthful willingness to resolve and improve our bilateral relations going forward? \\n Response: First of all, this trilateral cooperation amongst our three countries has opened a new chapter, and we made that announcement today to talk about the differences from the past cooperation.For instance, in the past, it was about individual issues that we sought cooperation among ourselves. But now, as we have opened a new chapter in our cooperation for security, economy, science and technology, and development cooperation for the Global South, health, and women—across all of these issues, our three countries decided to closely work together. So it's much more comprehensive in nature.Such comprehensive cooperation has been launched by us today because currently we face complicated crisis and the threat from the D.P.R.K. And across the world, we believe that we can together make a contribution to freedom and peace around the world.So that is our foundational understanding and our common and shared interests of the three countries. And not just for exclusionary interests of ourselves. Our interests are well aligned with the universal interests of the members of the global community. That's where we find our shared interests lie.And at the same time, this framework of comprehensive cooperation among our three countries will contribute to global supply chain resilience, global financial market stability, cooperation in the frontier technology sectors and science.Our three countries together have the best-in-class expertise in science and technology. And we are the ones who are implementing liberal democracies. Naturally, progress in science and technologies will bring benefits—tangible benefits—to our people, not just in terms of security, but also in terms of economy and science and technology.But what is most important here is not about our own interests only. When we put our forces together, I believe that we can make a contribution to the advancement of freedom and peace in the world. And that's exactly where our interests are aligned. I—look, back in May of 2022, I met with the families of the Japanese abductees during my visit, heard their stories, and empathized with them and got a sense of the pain they're feeling. It's real.We know there are many families out there who still wait and worry and wonder. And we're not going to forget about them or their loved ones.And there's clear language on this on our joint statement. The bottom line is this: That we share a common position; we're committed to working together to see the return of all prisoners of war and those who've been abducted and detained.And by the way, one of the things we get asked many times—and it wasn't directly asked, but implied—is what makes us think any of this is positive. Success brings success. When other nations see cooperation in the region, they make judgments about: Would they be better off if they made commitments? Will they move?Think about—as students of history, all of you; and you are—think about how many times successes have generated other successes when you don't anticipate it.And so I just think this is a—we're not going to forget, we're not giving up, and we're going to continue to make the case for the freedom of all of those detainees. With regard to your question for me, first of all, I have strong feelings about strengthening bilateral relationships between the R.O.K. and Japan. I share that with The two countries, in dealing with international challenges, should cooperate. We're both important neighboring countries. And so friendship with President Yoon and a relationship of trust, based on this, both countries as partners should open up a new era. And that is my thinking.This year, President Yoon came to Japan, and I visited the R.O.K. At international fora, we have repeated meetings—we have had repeated meetings. And between our two countries, including the economy and security, we've had forward-looking and concrete approaches which were started. It's already in motion, dynamically.Economic security dialogue was started—or it has been decided on. In the area of export control, there have been progress. And also Financial Ministers and Defense Ministers have had meetings.And so we've had this very positive, forward-looking developments. And these are seen not only in the public sector. Also in the private sector, we see a slate of developments, human exchanges, and exchanges between business circles. We're seeing very active developments in all of these areas, and that is a reality.Going forward, we hope to accumulate these approaches with—along with President Yoon to strengthen our bilateral relations even further. By generating results, we hope that people will understand Japan's feelings towards our bilateral relations. And we'd like to continue such efforts.Thank you. Thank you very much.Then, let me see. From Kyodo—Tajiri-san, Kyodo News. \\n\\n### Question ###\\n\\nFrom the perspective of the people of Korea, what would be the benefit felt from the strengthening of ties?\\n\\n Label: \""
      ]
     },
     "execution_count": 52,
     "metadata": {},
     "output_type": "execute_result"
    }
   ],
   "source": [
    "dataset.iloc[0][\"text\"]"
   ]
  },
  {
   "cell_type": "code",
   "execution_count": 12,
   "metadata": {},
   "outputs": [
    {
     "name": "stdout",
     "output_type": "stream",
     "text": [
      "Accuracy: 0.375\n",
      "Accuracy for label Direct Reply: 0.853\n",
      "Accuracy for label Indirect: 0.072\n",
      "Accuracy for label Direct Non-Reply: 0.562\n",
      "\n",
      "Classification Report:\n",
      "                  precision    recall  f1-score   support\n",
      "\n",
      "    Direct Reply       0.38      0.85      0.53       218\n",
      "        Indirect       0.54      0.07      0.13       389\n",
      "Direct Non-Reply       0.30      0.56      0.39        73\n",
      "\n",
      "        accuracy                           0.38       680\n",
      "       macro avg       0.41      0.50      0.35       680\n",
      "    weighted avg       0.46      0.38      0.28       680\n",
      "\n",
      "\n",
      "Confusion Matrix:\n",
      "[[186  12  20]\n",
      " [284  28  77]\n",
      " [ 20  12  41]]\n"
     ]
    }
   ],
   "source": [
    "y_pred1 = [label.replace(\"none\", \"Indirect\") for label in y_pred]\n",
    "y_pred1\n",
    "evaluate(y_true, y_pred1)"
   ]
  },
  {
   "cell_type": "code",
   "execution_count": null,
   "metadata": {},
   "outputs": [],
   "source": []
  }
 ],
 "metadata": {
  "colab": {
   "authorship_tag": "ABX9TyN5n1KZofVGTZFVLtQb7p3Q",
   "provenance": []
  },
  "kernelspec": {
   "display_name": "conda_pytorch_p310",
   "language": "python",
   "name": "conda_pytorch_p310"
  },
  "language_info": {
   "codemirror_mode": {
    "name": "ipython",
    "version": 3
   },
   "file_extension": ".py",
   "mimetype": "text/x-python",
   "name": "python",
   "nbconvert_exporter": "python",
   "pygments_lexer": "ipython3",
   "version": "3.10.14"
  }
 },
 "nbformat": 4,
 "nbformat_minor": 4
}
