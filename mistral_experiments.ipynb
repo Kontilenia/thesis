{
 "cells": [
  {
   "cell_type": "code",
   "execution_count": null,
   "id": "f54152fe-3dbf-4edf-a2b5-d78a382837c9",
   "metadata": {},
   "outputs": [],
   "source": [
    "!pip install transformers\n",
    "!pip install peft\n",
    "!pip install 'accelerate>=0.26.0'\n",
    "!pip install -U bitsandbytes\n",
    "!pip install huggingface-hub\n",
    "!pip install datasets\n",
    "!pip install wandb"
   ]
  },
  {
   "cell_type": "code",
   "execution_count": 1,
   "id": "c9043e0b-2efc-4a9f-b06a-719178cf1352",
   "metadata": {},
   "outputs": [
    {
     "name": "stderr",
     "output_type": "stream",
     "text": [
      "/home/ec2-user/anaconda3/envs/python3/lib/python3.10/site-packages/pandas/core/computation/expressions.py:21: UserWarning: Pandas requires version '2.8.4' or newer of 'numexpr' (version '2.7.3' currently installed).\n",
      "  from pandas.core.computation.check import NUMEXPR_INSTALLED\n",
      "/home/ec2-user/anaconda3/envs/python3/lib/python3.10/site-packages/torch/cuda/__init__.py:61: FutureWarning: The pynvml package is deprecated. Please install nvidia-ml-py instead. If you did not install pynvml directly, please report this to the maintainers of the package that installed pynvml for you.\n",
      "  import pynvml  # type: ignore[import]\n"
     ]
    }
   ],
   "source": [
    "import json\n",
    "import pandas as pd\n",
    "import numpy as np\n",
    "import torch\n",
    "import torch.nn as nn\n",
    "from torch.utils.data import Dataset\n",
    "from transformers import (AutoTokenizer,\n",
    "                          AutoModelForCausalLM,\n",
    "                          BitsAndBytesConfig,\n",
    "                          TrainingArguments,\n",
    "                          Trainer,\n",
    "                          pipeline,\n",
    "                          DataCollatorForLanguageModeling,\n",
    "                          PreTrainedTokenizer)\n",
    "from peft import LoraConfig, get_peft_model\n",
    "import huggingface_hub\n",
    "import os\n",
    "import logging\n",
    "from tqdm import tqdm\n",
    "from sklearn.metrics import (accuracy_score,\n",
    "                             classification_report,\n",
    "                             confusion_matrix)\n",
    "from typing import List\n",
    "import wandb\n",
    "from lora_llm import finetuning, evaluate, inference"
   ]
  },
  {
   "cell_type": "code",
   "execution_count": 2,
   "id": "15d03d04-439b-4ec5-b737-e0f97e555e48",
   "metadata": {},
   "outputs": [
    {
     "name": "stderr",
     "output_type": "stream",
     "text": [
      "\u001b[34m\u001b[1mwandb\u001b[0m: \u001b[33mWARNING\u001b[0m WANDB_NOTEBOOK_NAME should be a path to a notebook file, couldn't find lora_llm.\n",
      "\u001b[34m\u001b[1mwandb\u001b[0m: \u001b[33mWARNING\u001b[0m If you're specifying your api key in code, ensure this code is not shared publicly.\n",
      "\u001b[34m\u001b[1mwandb\u001b[0m: \u001b[33mWARNING\u001b[0m Consider setting the WANDB_API_KEY environment variable, or running `wandb login` from the command line.\n",
      "\u001b[34m\u001b[1mwandb\u001b[0m: Appending key for api.wandb.ai to your netrc file: /home/ec2-user/.netrc\n",
      "\u001b[34m\u001b[1mwandb\u001b[0m: Currently logged in as: \u001b[33mkontilenia\u001b[0m (\u001b[33mkontilenia-national-technical-university-of-athens\u001b[0m) to \u001b[32mhttps://api.wandb.ai\u001b[0m. Use \u001b[1m`wandb login --relogin`\u001b[0m to force relogin\n"
     ]
    },
    {
     "data": {
      "text/html": [],
      "text/plain": [
       "<IPython.core.display.HTML object>"
      ]
     },
     "metadata": {},
     "output_type": "display_data"
    },
    {
     "data": {
      "text/html": [
       "Tracking run with wandb version 0.22.2"
      ],
      "text/plain": [
       "<IPython.core.display.HTML object>"
      ]
     },
     "metadata": {},
     "output_type": "display_data"
    },
    {
     "data": {
      "text/html": [
       "Run data is saved locally in <code>/home/ec2-user/SageMaker/thesis/wandb/run-20251022_205256-ir2ne00e</code>"
      ],
      "text/plain": [
       "<IPython.core.display.HTML object>"
      ]
     },
     "metadata": {},
     "output_type": "display_data"
    },
    {
     "data": {
      "text/html": [
       "Syncing run <strong><a href='https://wandb.ai/kontilenia-national-technical-university-of-athens/political-speech-clarity/runs/ir2ne00e' target=\"_blank\">2 epoch Gemma</a></strong> to <a href='https://wandb.ai/kontilenia-national-technical-university-of-athens/political-speech-clarity' target=\"_blank\">Weights & Biases</a> (<a href='https://wandb.me/developer-guide' target=\"_blank\">docs</a>)<br>"
      ],
      "text/plain": [
       "<IPython.core.display.HTML object>"
      ]
     },
     "metadata": {},
     "output_type": "display_data"
    },
    {
     "data": {
      "text/html": [
       " View project at <a href='https://wandb.ai/kontilenia-national-technical-university-of-athens/political-speech-clarity' target=\"_blank\">https://wandb.ai/kontilenia-national-technical-university-of-athens/political-speech-clarity</a>"
      ],
      "text/plain": [
       "<IPython.core.display.HTML object>"
      ]
     },
     "metadata": {},
     "output_type": "display_data"
    },
    {
     "data": {
      "text/html": [
       " View run at <a href='https://wandb.ai/kontilenia-national-technical-university-of-athens/political-speech-clarity/runs/ir2ne00e' target=\"_blank\">https://wandb.ai/kontilenia-national-technical-university-of-athens/political-speech-clarity/runs/ir2ne00e</a>"
      ],
      "text/plain": [
       "<IPython.core.display.HTML object>"
      ]
     },
     "metadata": {},
     "output_type": "display_data"
    },
    {
     "name": "stderr",
     "output_type": "stream",
     "text": [
      "/home/ec2-user/anaconda3/envs/python3/lib/python3.10/site-packages/torch/cuda/__init__.py:61: FutureWarning: The pynvml package is deprecated. Please install nvidia-ml-py instead. If you did not install pynvml directly, please report this to the maintainers of the package that installed pynvml for you.\n",
      "  import pynvml  # type: ignore[import]\n"
     ]
    },
    {
     "data": {
      "application/vnd.jupyter.widget-view+json": {
       "model_id": "c4494ea90f184e90bf8bd922497d99ea",
       "version_major": 2,
       "version_minor": 0
      },
      "text/plain": [
       "Loading checkpoint shards:   0%|          | 0/4 [00:00<?, ?it/s]"
      ]
     },
     "metadata": {},
     "output_type": "display_data"
    },
    {
     "name": "stdout",
     "output_type": "stream",
     "text": [
      "trainable params: 8945664 || all params: 5088853504\n",
      "        || trainable%: 0.17578937953251011\n",
      "Found 3109 instances for training and\n",
      "    339 instances for validation.\n",
      "Training...\n"
     ]
    },
    {
     "data": {
      "text/html": [
       "\n",
       "    <div>\n",
       "      \n",
       "      <progress value='777' max='777' style='width:300px; height:20px; vertical-align: middle;'></progress>\n",
       "      [777/777 2:29:52, Epoch 1/2]\n",
       "    </div>\n",
       "    <table border=\"1\" class=\"dataframe\">\n",
       "  <thead>\n",
       " <tr style=\"text-align: left;\">\n",
       "      <th>Step</th>\n",
       "      <th>Training Loss</th>\n",
       "      <th>Validation Loss</th>\n",
       "    </tr>\n",
       "  </thead>\n",
       "  <tbody>\n",
       "    <tr>\n",
       "      <td>129</td>\n",
       "      <td>1.810300</td>\n",
       "      <td>1.801431</td>\n",
       "    </tr>\n",
       "    <tr>\n",
       "      <td>258</td>\n",
       "      <td>1.916900</td>\n",
       "      <td>1.773488</td>\n",
       "    </tr>\n",
       "    <tr>\n",
       "      <td>387</td>\n",
       "      <td>1.734200</td>\n",
       "      <td>1.744111</td>\n",
       "    </tr>\n",
       "    <tr>\n",
       "      <td>516</td>\n",
       "      <td>1.750900</td>\n",
       "      <td>1.754110</td>\n",
       "    </tr>\n",
       "    <tr>\n",
       "      <td>645</td>\n",
       "      <td>1.615500</td>\n",
       "      <td>1.725847</td>\n",
       "    </tr>\n",
       "    <tr>\n",
       "      <td>774</td>\n",
       "      <td>1.624000</td>\n",
       "      <td>1.718775</td>\n",
       "    </tr>\n",
       "  </tbody>\n",
       "</table><p>"
      ],
      "text/plain": [
       "<IPython.core.display.HTML object>"
      ]
     },
     "metadata": {},
     "output_type": "display_data"
    },
    {
     "name": "stderr",
     "output_type": "stream",
     "text": [
      "Device set to use cuda:0\n",
      "  3%|▎         | 1/35 [00:05<03:12,  5.66s/it]"
     ]
    },
    {
     "name": "stdout",
     "output_type": "stream",
     "text": [
      "Right label: dodging\n",
      "Right label: general\n",
      "Right label: deflection\n",
      "Right label: dodging\n",
      "Right label: dodging\n",
      "Right label: deflection\n",
      "Right label: dodging\n",
      "Right label: dodging\n"
     ]
    },
    {
     "name": "stderr",
     "output_type": "stream",
     "text": [
      "  6%|▌         | 2/35 [00:11<03:02,  5.52s/it]"
     ]
    },
    {
     "name": "stdout",
     "output_type": "stream",
     "text": [
      "Right label: general\n",
      "Right label: deflection\n",
      "Right label: implicit\n",
      "Right label: general\n",
      "Right label: dodging\n",
      "Right label: general\n",
      "Right label: explicit\n",
      "Right label: dodging\n"
     ]
    },
    {
     "name": "stderr",
     "output_type": "stream",
     "text": [
      "  9%|▊         | 3/35 [00:16<02:57,  5.53s/it]"
     ]
    },
    {
     "name": "stdout",
     "output_type": "stream",
     "text": [
      "Right label: dodging\n",
      "Right label: dodging\n",
      "Right label: dodging\n",
      "Right label: implicit\n",
      "Right label: explicit\n",
      "Right label: general\n",
      "Right label: deflection\n",
      "Right label: dodging\n"
     ]
    },
    {
     "name": "stderr",
     "output_type": "stream",
     "text": [
      " 11%|█▏        | 4/35 [00:22<02:58,  5.75s/it]"
     ]
    },
    {
     "name": "stdout",
     "output_type": "stream",
     "text": [
      "Right label: deflection\n",
      "Right label: dodging\n",
      "Right label: general\n",
      "Right label: dodging\n",
      "Right label: general\n",
      "Right label: general\n",
      "Right label: dodging\n",
      "Right label: dodging\n"
     ]
    },
    {
     "name": "stderr",
     "output_type": "stream",
     "text": [
      " 14%|█▍        | 5/35 [00:28<02:57,  5.90s/it]"
     ]
    },
    {
     "name": "stdout",
     "output_type": "stream",
     "text": [
      "Right label: explicit\n",
      "Right label: dodging\n",
      "Right label: deflection\n",
      "Right label: deflection\n",
      "Right label: implicit\n",
      "Right label: implicit\n",
      "Right label: dodging\n",
      "Right label: deflection\n"
     ]
    },
    {
     "name": "stderr",
     "output_type": "stream",
     "text": [
      " 17%|█▋        | 6/35 [00:34<02:46,  5.75s/it]"
     ]
    },
    {
     "name": "stdout",
     "output_type": "stream",
     "text": [
      "Right label: dodging\n",
      "Right label: dodging\n",
      "Right label: general\n",
      "Right label: general\n",
      "Right label: explicit\n",
      "Right label: general\n",
      "Right label: claims ignorance\n",
      "Right label: dodging\n"
     ]
    },
    {
     "name": "stderr",
     "output_type": "stream",
     "text": [
      " 20%|██        | 7/35 [00:39<02:33,  5.47s/it]"
     ]
    },
    {
     "name": "stdout",
     "output_type": "stream",
     "text": [
      "Right label: general\n",
      "Right label: general\n",
      "Right label: general\n",
      "Right label: implicit\n",
      "Right label: dodging\n",
      "Right label: dodging\n",
      "Right label: general\n",
      "Right label: dodging\n"
     ]
    },
    {
     "name": "stderr",
     "output_type": "stream",
     "text": [
      " 23%|██▎       | 8/35 [00:44<02:27,  5.45s/it]"
     ]
    },
    {
     "name": "stdout",
     "output_type": "stream",
     "text": [
      "Right label: explicit\n",
      "Right label: dodging\n",
      "Right label: dodging\n",
      "Right label: dodging\n",
      "Right label: implicit\n",
      "Right label: explicit\n",
      "Right label: general\n",
      "Right label: general\n"
     ]
    },
    {
     "name": "stderr",
     "output_type": "stream",
     "text": [
      " 26%|██▌       | 9/35 [00:49<02:20,  5.40s/it]"
     ]
    },
    {
     "name": "stdout",
     "output_type": "stream",
     "text": [
      "Right label: dodging\n",
      "Right label: dodging\n",
      "Right label: clarification\n",
      "Right label: explicit\n",
      "Right label: general\n",
      "Right label: deflection\n",
      "Right label: implicit\n",
      "Right label: dodging\n"
     ]
    },
    {
     "name": "stderr",
     "output_type": "stream",
     "text": [
      " 29%|██▊       | 10/35 [00:55<02:17,  5.50s/it]You seem to be using the pipelines sequentially on GPU. In order to maximize efficiency please use a dataset\n"
     ]
    },
    {
     "name": "stdout",
     "output_type": "stream",
     "text": [
      "Right label: general\n",
      "Right label: dodging\n",
      "Right label: dodging\n",
      "Right label: dodging\n",
      "Right label: dodging\n",
      "Right label: dodging\n",
      "Right label: explicit\n",
      "Right label: dodging\n"
     ]
    },
    {
     "name": "stderr",
     "output_type": "stream",
     "text": [
      " 31%|███▏      | 11/35 [01:01<02:14,  5.60s/it]"
     ]
    },
    {
     "name": "stdout",
     "output_type": "stream",
     "text": [
      "Right label: implicit\n",
      "Right label: general\n",
      "Right label: deflection\n",
      "Right label: deflection\n",
      "Right label: deflection\n",
      "Right label: explicit\n",
      "Right label: deflection\n",
      "Right label: deflection\n"
     ]
    },
    {
     "name": "stderr",
     "output_type": "stream",
     "text": [
      " 34%|███▍      | 12/35 [01:07<02:10,  5.68s/it]"
     ]
    },
    {
     "name": "stdout",
     "output_type": "stream",
     "text": [
      "Right label: general\n",
      "Right label: dodging\n",
      "Right label: dodging\n",
      "Right label: general\n",
      "Right label: implicit\n",
      "Right label: general\n",
      "Right label: deflection\n",
      "Right label: implicit\n"
     ]
    },
    {
     "name": "stderr",
     "output_type": "stream",
     "text": [
      " 37%|███▋      | 13/35 [01:13<02:07,  5.80s/it]"
     ]
    },
    {
     "name": "stdout",
     "output_type": "stream",
     "text": [
      "Right label: implicit\n",
      "Right label: general\n",
      "Right label: implicit\n",
      "Right label: explicit\n",
      "Right label: dodging\n",
      "Right label: deflection\n",
      "Right label: dodging\n",
      "Right label: implicit\n"
     ]
    },
    {
     "name": "stderr",
     "output_type": "stream",
     "text": [
      " 40%|████      | 14/35 [01:19<02:01,  5.76s/it]"
     ]
    },
    {
     "name": "stdout",
     "output_type": "stream",
     "text": [
      "Right label: general\n",
      "Right label: dodging\n",
      "Right label: deflection\n",
      "Right label: dodging\n",
      "Right label: implicit\n",
      "Right label: explicit\n",
      "Right label: explicit\n",
      "Right label: general\n"
     ]
    },
    {
     "name": "stderr",
     "output_type": "stream",
     "text": [
      " 43%|████▎     | 15/35 [01:25<01:57,  5.89s/it]"
     ]
    },
    {
     "name": "stdout",
     "output_type": "stream",
     "text": [
      "Right label: explicit\n",
      "Right label: general\n",
      "Right label: dodging\n",
      "Right label: dodging\n",
      "Right label: dodging\n",
      "Right label: dodging\n",
      "Right label: dodging\n",
      "Right label: explicit\n"
     ]
    },
    {
     "name": "stderr",
     "output_type": "stream",
     "text": [
      " 46%|████▌     | 16/35 [01:30<01:50,  5.79s/it]"
     ]
    },
    {
     "name": "stdout",
     "output_type": "stream",
     "text": [
      "Right label: implicit\n",
      "Right label: explicit\n",
      "Right label: deflection\n",
      "Right label: dodging\n",
      "Right label: explicit\n",
      "Right label: general\n",
      "Right label: deflection\n",
      "Right label: dodging\n"
     ]
    },
    {
     "name": "stderr",
     "output_type": "stream",
     "text": [
      " 49%|████▊     | 17/35 [01:36<01:43,  5.73s/it]"
     ]
    },
    {
     "name": "stdout",
     "output_type": "stream",
     "text": [
      "Right label: dodging\n",
      "Right label: general\n",
      "Right label: explicit\n",
      "Right label: explicit\n",
      "Right label: deflection\n",
      "Right label: explicit\n",
      "Right label: explicit\n",
      "Right label: deflection\n"
     ]
    },
    {
     "name": "stderr",
     "output_type": "stream",
     "text": [
      " 51%|█████▏    | 18/35 [01:41<01:36,  5.65s/it]"
     ]
    },
    {
     "name": "stdout",
     "output_type": "stream",
     "text": [
      "Right label: implicit\n",
      "Right label: dodging\n",
      "Right label: dodging\n",
      "Right label: general\n",
      "Right label: dodging\n",
      "Right label: dodging\n",
      "Right label: dodging\n",
      "Right label: general\n"
     ]
    },
    {
     "name": "stderr",
     "output_type": "stream",
     "text": [
      " 54%|█████▍    | 19/35 [01:47<01:28,  5.52s/it]"
     ]
    },
    {
     "name": "stdout",
     "output_type": "stream",
     "text": [
      "Right label: general\n",
      "Right label: deflection\n",
      "Right label: explicit\n",
      "Right label: deflection\n",
      "Right label: general\n",
      "Right label: dodging\n",
      "Right label: dodging\n",
      "Right label: general\n"
     ]
    },
    {
     "name": "stderr",
     "output_type": "stream",
     "text": [
      " 57%|█████▋    | 20/35 [01:52<01:22,  5.49s/it]"
     ]
    },
    {
     "name": "stdout",
     "output_type": "stream",
     "text": [
      "Right label: dodging\n",
      "Right label: deflection\n",
      "Right label: general\n",
      "Right label: general\n",
      "Right label: general\n",
      "Right label: dodging\n",
      "Right label: deflection\n",
      "Right label: general\n"
     ]
    },
    {
     "name": "stderr",
     "output_type": "stream",
     "text": [
      " 60%|██████    | 21/35 [01:58<01:17,  5.55s/it]"
     ]
    },
    {
     "name": "stdout",
     "output_type": "stream",
     "text": [
      "Right label: dodging\n",
      "Right label: deflection\n",
      "Right label: implicit\n",
      "Right label: deflection\n",
      "Right label: dodging\n",
      "Right label: explicit\n",
      "Right label: deflection\n",
      "Right label: dodging\n"
     ]
    },
    {
     "name": "stderr",
     "output_type": "stream",
     "text": [
      " 63%|██████▎   | 22/35 [02:03<01:12,  5.58s/it]"
     ]
    },
    {
     "name": "stdout",
     "output_type": "stream",
     "text": [
      "Right label: implicit\n",
      "Right label: dodging\n",
      "Right label: implicit\n",
      "Right label: deflection\n",
      "Right label: implicit\n",
      "Right label: dodging\n",
      "Right label: general\n",
      "Right label: general\n"
     ]
    },
    {
     "name": "stderr",
     "output_type": "stream",
     "text": [
      " 66%|██████▌   | 23/35 [02:09<01:07,  5.64s/it]"
     ]
    },
    {
     "name": "stdout",
     "output_type": "stream",
     "text": [
      "Right label: general\n",
      "Right label: dodging\n",
      "Right label: deflection\n",
      "Right label: general\n",
      "Right label: implicit\n",
      "Right label: implicit\n",
      "Right label: dodging\n",
      "Right label: implicit\n"
     ]
    },
    {
     "name": "stderr",
     "output_type": "stream",
     "text": [
      " 69%|██████▊   | 24/35 [02:15<01:01,  5.59s/it]"
     ]
    },
    {
     "name": "stdout",
     "output_type": "stream",
     "text": [
      "Right label: deflection\n",
      "Right label: deflection\n",
      "Right label: dodging\n",
      "Right label: explicit\n",
      "Right label: explicit\n",
      "Right label: general\n",
      "Right label: implicit\n",
      "Right label: explicit\n"
     ]
    },
    {
     "name": "stderr",
     "output_type": "stream",
     "text": [
      " 71%|███████▏  | 25/35 [02:21<00:57,  5.74s/it]"
     ]
    },
    {
     "name": "stdout",
     "output_type": "stream",
     "text": [
      "Right label: dodging\n",
      "Right label: dodging\n",
      "Right label: implicit\n",
      "Right label: general\n",
      "Right label: dodging\n",
      "Right label: dodging\n",
      "Right label: deflection\n",
      "Right label: explicit\n"
     ]
    },
    {
     "name": "stderr",
     "output_type": "stream",
     "text": [
      " 74%|███████▍  | 26/35 [02:26<00:51,  5.74s/it]"
     ]
    },
    {
     "name": "stdout",
     "output_type": "stream",
     "text": [
      "Right label: deflection\n",
      "Right label: explicit\n",
      "Right label: general\n",
      "Right label: implicit\n",
      "Right label: implicit\n",
      "Right label: implicit\n",
      "Right label: deflection\n",
      "Right label: dodging\n"
     ]
    },
    {
     "name": "stderr",
     "output_type": "stream",
     "text": [
      " 77%|███████▋  | 27/35 [02:32<00:45,  5.69s/it]"
     ]
    },
    {
     "name": "stdout",
     "output_type": "stream",
     "text": [
      "Right label: deflection\n",
      "Right label: deflection\n",
      "Right label: deflection\n",
      "Right label: general\n",
      "Right label: deflection\n",
      "Right label: explicit\n",
      "Right label: clarification\n",
      "Right label: explicit\n"
     ]
    },
    {
     "name": "stderr",
     "output_type": "stream",
     "text": [
      " 80%|████████  | 28/35 [02:37<00:39,  5.61s/it]"
     ]
    },
    {
     "name": "stdout",
     "output_type": "stream",
     "text": [
      "Right label: dodging\n",
      "Right label: implicit\n",
      "Right label: explicit\n",
      "Right label: implicit\n",
      "Right label: implicit\n",
      "Right label: deflection\n",
      "Right label: dodging\n",
      "Right label: explicit\n"
     ]
    },
    {
     "name": "stderr",
     "output_type": "stream",
     "text": [
      " 83%|████████▎ | 29/35 [02:43<00:33,  5.61s/it]"
     ]
    },
    {
     "name": "stdout",
     "output_type": "stream",
     "text": [
      "Right label: dodging\n",
      "Right label: explicit\n",
      "Right label: dodging\n",
      "Right label: dodging\n",
      "Right label: general\n",
      "Right label: dodging\n",
      "Right label: implicit\n",
      "Right label: deflection\n"
     ]
    },
    {
     "name": "stderr",
     "output_type": "stream",
     "text": [
      " 86%|████████▌ | 30/35 [02:48<00:27,  5.52s/it]"
     ]
    },
    {
     "name": "stdout",
     "output_type": "stream",
     "text": [
      "Right label: general\n",
      "Right label: claims ignorance\n",
      "Right label: explicit\n",
      "Right label: dodging\n",
      "Right label: implicit\n",
      "Right label: dodging\n",
      "Right label: implicit\n",
      "Right label: dodging\n"
     ]
    },
    {
     "name": "stderr",
     "output_type": "stream",
     "text": [
      " 89%|████████▊ | 31/35 [02:54<00:22,  5.68s/it]"
     ]
    },
    {
     "name": "stdout",
     "output_type": "stream",
     "text": [
      "Right label: dodging\n",
      "Right label: explicit\n",
      "Right label: implicit\n",
      "Right label: deflection\n",
      "Right label: implicit\n",
      "Right label: deflection\n",
      "Right label: implicit\n",
      "Right label: dodging\n"
     ]
    },
    {
     "name": "stderr",
     "output_type": "stream",
     "text": [
      " 91%|█████████▏| 32/35 [03:00<00:17,  5.67s/it]"
     ]
    },
    {
     "name": "stdout",
     "output_type": "stream",
     "text": [
      "Right label: deflection\n",
      "Right label: implicit\n",
      "Right label: dodging\n",
      "Right label: general\n",
      "Right label: dodging\n",
      "Right label: dodging\n",
      "Right label: dodging\n",
      "Right label: explicit\n"
     ]
    },
    {
     "name": "stderr",
     "output_type": "stream",
     "text": [
      " 94%|█████████▍| 33/35 [03:06<00:11,  5.68s/it]"
     ]
    },
    {
     "name": "stdout",
     "output_type": "stream",
     "text": [
      "Right label: dodging\n",
      "Right label: dodging\n",
      "Right label: dodging\n",
      "Right label: deflection\n",
      "Right label: dodging\n",
      "Right label: implicit\n",
      "Right label: general\n",
      "Right label: dodging\n"
     ]
    },
    {
     "name": "stderr",
     "output_type": "stream",
     "text": [
      " 97%|█████████▋| 34/35 [03:11<00:05,  5.61s/it]"
     ]
    },
    {
     "name": "stdout",
     "output_type": "stream",
     "text": [
      "Right label: explicit\n",
      "Right label: explicit\n",
      "Right label: dodging\n",
      "Right label: general\n",
      "Right label: dodging\n",
      "Right label: dodging\n",
      "Right label: deflection\n",
      "Right label: implicit\n"
     ]
    },
    {
     "name": "stderr",
     "output_type": "stream",
     "text": [
      "100%|██████████| 35/35 [03:14<00:00,  5.55s/it]"
     ]
    },
    {
     "name": "stdout",
     "output_type": "stream",
     "text": [
      "Right label: implicit\n",
      "Right label: deflection\n",
      "Right label: general\n",
      "Right label: general\n",
      "Accuracy: 0.70\n",
      "Accuracy for label indirect: 0.95\n",
      "Accuracy for label direct reply: 0.34\n",
      "Accuracy for label direct non-reply: 0.09\n",
      "\n",
      "Classification Report:\n",
      "                  precision    recall  f1-score   support\n",
      "\n",
      "        indirect       0.70      0.95      0.81       174\n",
      "    direct_reply       0.73      0.34      0.47        79\n",
      "direct_non-reply       1.00      0.09      0.16        23\n",
      "\n",
      "       micro avg       0.71      0.70      0.71       276\n",
      "       macro avg       0.81      0.46      0.48       276\n",
      "    weighted avg       0.73      0.70      0.66       276\n",
      "\n",
      "\n",
      "Confusion Matrix:\n",
      "[[165   9   0]\n",
      " [ 52  27   0]\n",
      " [ 18   1   2]]\n"
     ]
    },
    {
     "name": "stderr",
     "output_type": "stream",
     "text": [
      "\n"
     ]
    },
    {
     "data": {
      "text/plain": [
       "['Accuracy: 0.70',\n",
       " 'Accuracy for label indirect: 0.95',\n",
       " 'Accuracy for label direct reply: 0.34',\n",
       " 'Accuracy for label direct non-reply: 0.09',\n",
       " 'Classification Report:                  precision    recall  f1-score   support\\n\\n        indirect       0.70      0.95      0.81       174\\n    direct_reply       0.73      0.34      0.47        79\\ndirect_non-reply       1.00      0.09      0.16        23\\n\\n       micro avg       0.71      0.70      0.71       276\\n       macro avg       0.81      0.46      0.48       276\\n    weighted avg       0.73      0.70      0.66       276\\n',\n",
       " 'Confusion Matrix:[[165   9   0]\\n [ 52  27   0]\\n [ 18   1   2]]']"
      ]
     },
     "execution_count": 2,
     "metadata": {},
     "output_type": "execute_result"
    }
   ],
   "source": [
    "os.environ['WANDB_NOTEBOOK_NAME'] = 'lora_llm'\n",
    "os.environ[\"WANDB_DISABLED\"] = \"false\"\n",
    "\n",
    "# Load the API key from the secret.json file\n",
    "with open('secrets.json', 'r') as file:\n",
    "    secrets = json.load(file)\n",
    "    huggingface_hub.login(secrets.get('HF_KEY'))\n",
    "    wandb.login(key=secrets.get('WANDB_KEY'))\n",
    "\n",
    "lr = 2e-4\n",
    "epochs = 2\n",
    "class_names = []\n",
    "base_model_name = 'google/gemma-2-9b-it'\n",
    "label_name = \"evasion_label\"\n",
    "fine_tuned_model_path = f\"./gemma_9b_{epochs}ep\"\n",
    "\n",
    "# Wandb configuration\n",
    "run = wandb.init(entity=\"kontilenia-national-technical-university-of-athens\",\n",
    "                 project='political-speech-clarity',\n",
    "                 job_type=\"training\",\n",
    "                 name=str(epochs)+\" epoch Gemma\",\n",
    "                 # Track hyperparameters and run metadata\n",
    "                 config={\n",
    "                    \"learning_rate\": lr,\n",
    "                    \"architecture\": base_model_name,\n",
    "                    \"dataset\": \"qevasion_dataset_preproccessed\",\n",
    "                    \"epochs\": epochs,\n",
    "                 })\n",
    "\n",
    "model, tokenizer = finetuning(base_model_name,\n",
    "                              fine_tuned_model_path,\n",
    "                              label_name,\n",
    "                              lr,\n",
    "                              epochs)\n",
    "\n",
    "evaluate(base_model_name,\n",
    "         fine_tuned_model_path,\n",
    "         \"evasion_label\",\n",
    "         \"clarity_label\",\n",
    "         \"preprocessed_data/test_set.csv\",\n",
    "         False,\n",
    "         model,\n",
    "         tokenizer,\n",
    "         run)"
   ]
  },
  {
   "cell_type": "code",
   "execution_count": 2,
   "id": "5c8c1e5e-2c6b-46bd-ab5b-b86de5787933",
   "metadata": {},
   "outputs": [
    {
     "name": "stderr",
     "output_type": "stream",
     "text": [
      "\u001b[34m\u001b[1mwandb\u001b[0m: \u001b[33mWARNING\u001b[0m WANDB_NOTEBOOK_NAME should be a path to a notebook file, couldn't find lora_llm.\n",
      "\u001b[34m\u001b[1mwandb\u001b[0m: \u001b[33mWARNING\u001b[0m If you're specifying your api key in code, ensure this code is not shared publicly.\n",
      "\u001b[34m\u001b[1mwandb\u001b[0m: \u001b[33mWARNING\u001b[0m Consider setting the WANDB_API_KEY environment variable, or running `wandb login` from the command line.\n",
      "\u001b[34m\u001b[1mwandb\u001b[0m: Appending key for api.wandb.ai to your netrc file: /home/ec2-user/.netrc\n",
      "\u001b[34m\u001b[1mwandb\u001b[0m: Currently logged in as: \u001b[33mkontilenia\u001b[0m (\u001b[33mkontilenia-national-technical-university-of-athens\u001b[0m) to \u001b[32mhttps://api.wandb.ai\u001b[0m. Use \u001b[1m`wandb login --relogin`\u001b[0m to force relogin\n",
      "/home/ec2-user/anaconda3/envs/python3/lib/python3.10/site-packages/torch/cuda/__init__.py:61: FutureWarning: The pynvml package is deprecated. Please install nvidia-ml-py instead. If you did not install pynvml directly, please report this to the maintainers of the package that installed pynvml for you.\n",
      "  import pynvml  # type: ignore[import]\n"
     ]
    },
    {
     "data": {
      "application/vnd.jupyter.widget-view+json": {
       "model_id": "09c597cc779b411f8fe83cc2cd52a8ad",
       "version_major": 2,
       "version_minor": 0
      },
      "text/plain": [
       "Loading checkpoint shards:   0%|          | 0/4 [00:00<?, ?it/s]"
      ]
     },
     "metadata": {},
     "output_type": "display_data"
    },
    {
     "name": "stderr",
     "output_type": "stream",
     "text": [
      "Device set to use cuda:0\n",
      "  8%|▊         | 1/13 [00:05<01:09,  5.78s/it]"
     ]
    },
    {
     "name": "stdout",
     "output_type": "stream",
     "text": [
      "Right label: implicit\n",
      "Right label: implicit\n",
      "Right label: dodging\n",
      "Right label: dodging\n",
      "Right label: implicit\n",
      "Right label: implicit\n",
      "Right label: implicit\n",
      "Right label: implicit\n"
     ]
    },
    {
     "name": "stderr",
     "output_type": "stream",
     "text": [
      " 15%|█▌        | 2/13 [00:12<01:06,  6.06s/it]"
     ]
    },
    {
     "name": "stdout",
     "output_type": "stream",
     "text": [
      "Right label: implicit\n",
      "Right label: dodging\n",
      "Right label: deflection\n",
      "Right label: implicit\n",
      "Right label: deflection\n",
      "Right label: deflection\n",
      "Right label: implicit\n",
      "Right label: deflection\n"
     ]
    },
    {
     "name": "stderr",
     "output_type": "stream",
     "text": [
      " 23%|██▎       | 3/13 [00:17<01:00,  6.00s/it]"
     ]
    },
    {
     "name": "stdout",
     "output_type": "stream",
     "text": [
      "Right label: dodging\n",
      "Right label: dodging\n",
      "Right label: implicit\n",
      "Right label: implicit\n",
      "Right label: implicit\n",
      "Right label: deflection\n",
      "Right label: declining to answer\n",
      "Right label: general\n"
     ]
    },
    {
     "name": "stderr",
     "output_type": "stream",
     "text": [
      " 31%|███       | 4/13 [00:23<00:50,  5.64s/it]"
     ]
    },
    {
     "name": "stdout",
     "output_type": "stream",
     "text": [
      "Right label: implicit\n",
      "Right label: implicit\n",
      "Right label: explicit\n",
      "Right label: implicit\n",
      "Right label: implicit\n",
      "Right label: implicit\n",
      "Right label: implicit\n",
      "Right label: implicit\n"
     ]
    },
    {
     "name": "stderr",
     "output_type": "stream",
     "text": [
      " 38%|███▊      | 5/13 [00:28<00:45,  5.65s/it]"
     ]
    },
    {
     "name": "stdout",
     "output_type": "stream",
     "text": [
      "Right label: dodging\n",
      "Right label: implicit\n",
      "Right label: deflection\n",
      "Right label: implicit\n",
      "Right label: dodging\n",
      "Right label: implicit\n",
      "Right label: explicit\n",
      "Right label: dodging\n"
     ]
    },
    {
     "name": "stderr",
     "output_type": "stream",
     "text": [
      " 46%|████▌     | 6/13 [00:34<00:40,  5.79s/it]"
     ]
    },
    {
     "name": "stdout",
     "output_type": "stream",
     "text": [
      "Right label: implicit\n",
      "Right label: implicit\n",
      "Right label: implicit\n",
      "Right label: implicit\n",
      "Right label: deflection\n",
      "Right label: implicit\n",
      "Right label: implicit\n",
      "Right label: implicit\n"
     ]
    },
    {
     "name": "stderr",
     "output_type": "stream",
     "text": [
      " 54%|█████▍    | 7/13 [00:41<00:36,  6.01s/it]"
     ]
    },
    {
     "name": "stdout",
     "output_type": "stream",
     "text": [
      "Right label: deflection\n",
      "Right label: implicit\n",
      "Right label: implicit\n",
      "Right label: dodging\n",
      "Right label: explicit\n",
      "Right label: explicit\n",
      "Right label: implicit\n",
      "Right label: explicit\n"
     ]
    },
    {
     "name": "stderr",
     "output_type": "stream",
     "text": [
      " 62%|██████▏   | 8/13 [00:46<00:28,  5.70s/it]"
     ]
    },
    {
     "name": "stdout",
     "output_type": "stream",
     "text": [
      "Right label: implicit\n",
      "Right label: implicit\n",
      "Right label: implicit\n",
      "Right label: explicit\n",
      "Right label: explicit\n",
      "Right label: implicit\n",
      "Right label: dodging\n",
      "Right label: implicit\n"
     ]
    },
    {
     "name": "stderr",
     "output_type": "stream",
     "text": [
      " 69%|██████▉   | 9/13 [00:51<00:22,  5.65s/it]"
     ]
    },
    {
     "name": "stdout",
     "output_type": "stream",
     "text": [
      "Right label: explicit\n",
      "Right label: implicit\n",
      "Right label: explicit\n",
      "Right label: explicit\n",
      "Right label: explicit\n",
      "Right label: implicit\n",
      "Right label: deflection\n",
      "Right label: implicit\n"
     ]
    },
    {
     "name": "stderr",
     "output_type": "stream",
     "text": [
      " 77%|███████▋  | 10/13 [00:57<00:16,  5.61s/it]You seem to be using the pipelines sequentially on GPU. In order to maximize efficiency please use a dataset\n"
     ]
    },
    {
     "name": "stdout",
     "output_type": "stream",
     "text": [
      "Right label: implicit\n",
      "Right label: implicit\n",
      "Right label: implicit\n",
      "Right label: implicit\n",
      "Right label: explicit\n",
      "Right label: implicit\n",
      "Right label: implicit\n",
      "Right label: implicit\n"
     ]
    },
    {
     "name": "stderr",
     "output_type": "stream",
     "text": [
      " 85%|████████▍ | 11/13 [01:03<00:11,  5.65s/it]"
     ]
    },
    {
     "name": "stdout",
     "output_type": "stream",
     "text": [
      "Right label: implicit\n",
      "Right label: implicit\n",
      "Right label: general\n",
      "Right label: explicit\n",
      "Right label: explicit\n",
      "Right label: implicit\n",
      "Right label: implicit\n",
      "Right label: explicit\n"
     ]
    },
    {
     "name": "stderr",
     "output_type": "stream",
     "text": [
      " 92%|█████████▏| 12/13 [01:08<00:05,  5.60s/it]"
     ]
    },
    {
     "name": "stdout",
     "output_type": "stream",
     "text": [
      "Right label: implicit\n",
      "Right label: implicit\n",
      "Right label: implicit\n",
      "Right label: implicit\n",
      "Right label: general\n",
      "Right label: implicit\n",
      "Right label: implicit\n",
      "Right label: implicit\n"
     ]
    },
    {
     "name": "stderr",
     "output_type": "stream",
     "text": [
      "100%|██████████| 13/13 [01:09<00:00,  5.32s/it]"
     ]
    },
    {
     "name": "stdout",
     "output_type": "stream",
     "text": [
      "Right label: implicit\n",
      "Accuracy: 0.76\n",
      "Accuracy for label indirect: 0.95\n",
      "Accuracy for label direct reply: 0.43\n",
      "Accuracy for label direct non-reply: 0.00\n",
      "\n",
      "Classification Report:\n",
      "                  precision    recall  f1-score   support\n",
      "\n",
      "        indirect       0.75      0.95      0.84        64\n",
      "    direct_reply       0.87      0.43      0.58        30\n",
      "direct_non-reply       0.00      0.00      0.00         3\n",
      "\n",
      "       micro avg       0.77      0.76      0.77        97\n",
      "       macro avg       0.54      0.46      0.47        97\n",
      "    weighted avg       0.76      0.76      0.73        97\n",
      "\n",
      "\n",
      "Confusion Matrix:\n",
      "[[61  2  0]\n",
      " [17 13  0]\n",
      " [ 3  0  0]]\n"
     ]
    },
    {
     "name": "stderr",
     "output_type": "stream",
     "text": [
      "\n",
      "/home/ec2-user/anaconda3/envs/python3/lib/python3.10/site-packages/sklearn/metrics/_classification.py:1731: UndefinedMetricWarning: Precision is ill-defined and being set to 0.0 in labels with no predicted samples. Use `zero_division` parameter to control this behavior.\n",
      "  _warn_prf(average, modifier, f\"{metric.capitalize()} is\", result.shape[0])\n",
      "/home/ec2-user/anaconda3/envs/python3/lib/python3.10/site-packages/sklearn/metrics/_classification.py:1731: UndefinedMetricWarning: Precision is ill-defined and being set to 0.0 in labels with no predicted samples. Use `zero_division` parameter to control this behavior.\n",
      "  _warn_prf(average, modifier, f\"{metric.capitalize()} is\", result.shape[0])\n",
      "/home/ec2-user/anaconda3/envs/python3/lib/python3.10/site-packages/sklearn/metrics/_classification.py:1731: UndefinedMetricWarning: Precision is ill-defined and being set to 0.0 in labels with no predicted samples. Use `zero_division` parameter to control this behavior.\n",
      "  _warn_prf(average, modifier, f\"{metric.capitalize()} is\", result.shape[0])\n"
     ]
    },
    {
     "data": {
      "text/plain": [
       "['Accuracy: 0.76',\n",
       " 'Accuracy for label indirect: 0.95',\n",
       " 'Accuracy for label direct reply: 0.43',\n",
       " 'Accuracy for label direct non-reply: 0.00',\n",
       " 'Classification Report:                  precision    recall  f1-score   support\\n\\n        indirect       0.75      0.95      0.84        64\\n    direct_reply       0.87      0.43      0.58        30\\ndirect_non-reply       0.00      0.00      0.00         3\\n\\n       micro avg       0.77      0.76      0.77        97\\n       macro avg       0.54      0.46      0.47        97\\n    weighted avg       0.76      0.76      0.73        97\\n',\n",
       " 'Confusion Matrix:[[61  2  0]\\n [17 13  0]\\n [ 3  0  0]]']"
      ]
     },
     "execution_count": 2,
     "metadata": {},
     "output_type": "execute_result"
    }
   ],
   "source": [
    "os.environ['WANDB_NOTEBOOK_NAME'] = 'lora_llm'\n",
    "os.environ[\"WANDB_DISABLED\"] = \"false\"\n",
    "\n",
    "# Load the API key from the secret.json file\n",
    "with open('secrets.json', 'r') as file:\n",
    "    secrets = json.load(file)\n",
    "    huggingface_hub.login(secrets.get('HF_KEY'))\n",
    "    wandb.login(key=secrets.get('WANDB_KEY'))\n",
    "\n",
    "lr = 2e-4\n",
    "epochs = 2\n",
    "class_names = []\n",
    "base_model_name = 'google/gemma-2-27b-it'\n",
    "label_name = \"evasion_label\"\n",
    "fine_tuned_model_path = f\"./gemma_9b_{epochs}ep\"\n",
    "\n",
    "evaluate(base_model_name,\n",
    "         fine_tuned_model_path,\n",
    "         \"evasion_label\",\n",
    "         \"clarity_label\",\n",
    "         \"preprocessed_data/named_test_set_info.csv\",\n",
    "         added_name_summary=False)"
   ]
  },
  {
   "cell_type": "code",
   "execution_count": null,
   "id": "46066b43-dd95-4692-a4b7-89b02c8012ec",
   "metadata": {},
   "outputs": [],
   "source": []
  }
 ],
 "metadata": {
  "kernelspec": {
   "display_name": "conda_python3",
   "language": "python",
   "name": "conda_python3"
  },
  "language_info": {
   "codemirror_mode": {
    "name": "ipython",
    "version": 3
   },
   "file_extension": ".py",
   "mimetype": "text/x-python",
   "name": "python",
   "nbconvert_exporter": "python",
   "pygments_lexer": "ipython3",
   "version": "3.10.18"
  }
 },
 "nbformat": 4,
 "nbformat_minor": 5
}
