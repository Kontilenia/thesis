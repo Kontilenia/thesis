{
 "cells": [
  {
   "cell_type": "code",
   "execution_count": 1,
   "id": "ef28810e-1655-4a72-804e-1b51c9604aed",
   "metadata": {},
   "outputs": [
    {
     "name": "stderr",
     "output_type": "stream",
     "text": [
      "/home/ec2-user/anaconda3/envs/python3/lib/python3.10/site-packages/pandas/core/computation/expressions.py:21: UserWarning: Pandas requires version '2.8.4' or newer of 'numexpr' (version '2.7.3' currently installed).\n",
      "  from pandas.core.computation.check import NUMEXPR_INSTALLED\n"
     ]
    }
   ],
   "source": [
    "import json\n",
    "import pandas as pd\n",
    "import numpy as np\n",
    "import torch\n",
    "import torch.nn as nn\n",
    "from torch.utils.data import Dataset\n",
    "from transformers import (AutoTokenizer,\n",
    "                          AutoModelForCausalLM,\n",
    "                          BitsAndBytesConfig,\n",
    "                          TrainingArguments,\n",
    "                          Trainer,\n",
    "                          pipeline,\n",
    "                          DataCollatorForLanguageModeling,\n",
    "                          PreTrainedTokenizer)\n",
    "from peft import LoraConfig, get_peft_model\n",
    "import huggingface_hub\n",
    "import os\n",
    "import logging\n",
    "from tqdm import tqdm\n",
    "from sklearn.metrics import (accuracy_score,\n",
    "                             classification_report,\n",
    "                             confusion_matrix)\n",
    "from typing import List\n",
    "import wandb\n",
    "from lora_llm import evaluate"
   ]
  },
  {
   "cell_type": "code",
   "execution_count": null,
   "id": "60f1a6d7-677e-4fc8-9c33-c207ba30cb0f",
   "metadata": {},
   "outputs": [],
   "source": [
    "!pip install -U bitsandbytes"
   ]
  },
  {
   "cell_type": "code",
   "execution_count": null,
   "id": "4aa883f3-f0f8-464e-bdb0-d26f5039696c",
   "metadata": {},
   "outputs": [],
   "source": [
    "!pip install transformers\n",
    "!pip install peft\n",
    "!pip install 'accelerate>=0.26.0'\n",
    "!pip install -U bitsandbytes\n",
    "!pip install huggingface-hub\n",
    "!pip install datasets\n",
    "!pip install wandb"
   ]
  },
  {
   "cell_type": "code",
   "execution_count": 3,
   "id": "6f74ebe4-bcaf-4bd0-82f5-659fa91f547b",
   "metadata": {},
   "outputs": [
    {
     "data": {
      "application/vnd.jupyter.widget-view+json": {
       "model_id": "572c0f9c6422458b93fda6aeb99994b8",
       "version_major": 2,
       "version_minor": 0
      },
      "text/plain": [
       "Loading checkpoint shards:   0%|          | 0/4 [00:00<?, ?it/s]"
      ]
     },
     "metadata": {},
     "output_type": "display_data"
    },
    {
     "name": "stderr",
     "output_type": "stream",
     "text": [
      "Device set to use cuda:0\n",
      " 12%|█▎        | 1/8 [00:04<00:30,  4.42s/it]"
     ]
    },
    {
     "name": "stdout",
     "output_type": "stream",
     "text": [
      "Right label: dodging \n",
      "\n",
      "### selected\n",
      "Right label: dodging \n",
      "\n",
      "### part\n",
      "Right label: dodging \n",
      "\n",
      "### explicit\n",
      "Right label: dodging \n",
      "\n",
      "### selected\n",
      "Right label: dodging \n",
      "\n",
      "### part\n",
      "Right label: general \n",
      "\n",
      "### selected question\n",
      "Right label: dodging \n",
      "\n",
      "### selected\n",
      "Right label: explicit \n",
      "\n",
      "### explicit label\n"
     ]
    },
    {
     "name": "stderr",
     "output_type": "stream",
     "text": [
      " 25%|██▌       | 2/8 [00:08<00:25,  4.29s/it]"
     ]
    },
    {
     "name": "stdout",
     "output_type": "stream",
     "text": [
      "Right label: explicit \n",
      "\n",
      "### selected question\n",
      "Right label: general \n",
      "\n",
      "### selected question\n",
      "Right label: explicit \n",
      "\n",
      "### explicit label\n",
      "Right label: clarification \n",
      "\n",
      "### part\n",
      "Right label: dodging \n",
      "\n",
      "### selected\n",
      "Right label: dodging \n",
      "\n",
      "### selected\n",
      "Right label: clarification \n",
      "\n",
      "### selected\n",
      "Right label: explicit \n",
      "\n",
      "### selected question\n"
     ]
    },
    {
     "name": "stderr",
     "output_type": "stream",
     "text": [
      " 38%|███▊      | 3/8 [00:12<00:21,  4.25s/it]"
     ]
    },
    {
     "name": "stdout",
     "output_type": "stream",
     "text": [
      "Right label: dodging \n",
      "\n",
      "### part\n",
      "Right label: explicit \n",
      "\n",
      "### part of\n",
      "Right label: explicit \n",
      "\n",
      "### selected question\n",
      "Right label: dodging \n",
      "\n",
      "### selected\n",
      "Right label: dodging \n",
      "\n",
      "### selected\n",
      "Right label: dodging \n",
      "\n",
      "### part\n",
      "Right label: implicit \n",
      "\n",
      "### part of\n",
      "Right label: dodging \n",
      "\n",
      "### selected\n"
     ]
    },
    {
     "name": "stderr",
     "output_type": "stream",
     "text": [
      " 50%|█████     | 4/8 [00:17<00:17,  4.33s/it]"
     ]
    },
    {
     "name": "stdout",
     "output_type": "stream",
     "text": [
      "Right label: dodging \n",
      "\n",
      "### part\n",
      "Right label: dodging \n",
      "\n",
      "### selected\n",
      "Right label: explicit \n",
      "\n",
      "### selected question\n",
      "Right label: explicit \n",
      "\n",
      "### explicit label\n",
      "Right label: implicit \n",
      "\n",
      "### part of\n",
      "Right label: explicit \n",
      "\n",
      "### explicit response\n",
      "Right label: explicit \n",
      "\n",
      "### part of\n",
      "Right label: dodging \n",
      "\n",
      "### part\n"
     ]
    },
    {
     "name": "stderr",
     "output_type": "stream",
     "text": [
      " 62%|██████▎   | 5/8 [00:21<00:12,  4.23s/it]"
     ]
    },
    {
     "name": "stdout",
     "output_type": "stream",
     "text": [
      "Right label: dodging \n",
      "\n",
      "### selected\n",
      "Right label: dodging \n",
      "\n",
      "### selected\n",
      "Right label: dodging \n",
      "\n",
      "### selected\n",
      "Right label: general \n",
      "\n",
      "### part of\n",
      "Right label: dodging \n",
      "\n",
      "### selected\n",
      "Right label: explicit \n",
      "\n",
      "### part of\n",
      "Right label: dodging \n",
      "\n",
      "### part\n",
      "Right label: explicit \n",
      "\n",
      "### part of\n"
     ]
    },
    {
     "name": "stderr",
     "output_type": "stream",
     "text": [
      " 75%|███████▌  | 6/8 [00:25<00:08,  4.24s/it]"
     ]
    },
    {
     "name": "stdout",
     "output_type": "stream",
     "text": [
      "Right label: explicit \n",
      "\n",
      "### part of\n",
      "Right label: explicit \n",
      "\n",
      "### selected question\n",
      "Right label: dodging \n",
      "\n",
      "### selected\n",
      "Right label: explicit \n",
      "\n",
      "### part of\n",
      "Right label: clarification \n",
      "\n",
      "### part\n",
      "Right label: explicit \n",
      "\n",
      "### selected question\n",
      "Right label: explicit \n",
      "\n",
      "### part of\n",
      "Right label: dodging \n",
      "\n",
      "### selected\n"
     ]
    },
    {
     "name": "stderr",
     "output_type": "stream",
     "text": [
      " 88%|████████▊ | 7/8 [00:29<00:04,  4.15s/it]"
     ]
    },
    {
     "name": "stdout",
     "output_type": "stream",
     "text": [
      "Right label: dodging \n",
      "\n",
      "### selected\n",
      "Right label: explicit \n",
      "\n",
      "### selected question\n",
      "Right label: dodging \n",
      "\n",
      "### selected\n",
      "Right label: dodging \n",
      "\n",
      "### selected\n",
      "Right label: explicit \n",
      "\n",
      "### selected question\n",
      "Right label: dodging \n",
      "\n",
      "### part\n",
      "Right label: implicit \n",
      "\n",
      "### selected question\n",
      "Right label: dodging \n",
      "\n",
      "### selected\n"
     ]
    },
    {
     "name": "stderr",
     "output_type": "stream",
     "text": [
      "100%|██████████| 8/8 [00:32<00:00,  4.08s/it]"
     ]
    },
    {
     "name": "stdout",
     "output_type": "stream",
     "text": [
      "Right label: explicit \n",
      "\n",
      "### part of\n",
      "Right label: dodging \n",
      "\n",
      "### selected\n",
      "Right label: dodging \n",
      "\n",
      "### selected\n",
      "Right label: implicit \n",
      "\n",
      "### selected question\n",
      "Right label: dodging \n",
      "\n",
      "### selected\n",
      "Right label: general \n",
      "\n",
      "### part of\n",
      "----\n",
      "0     indirect\n",
      "1     indirect\n",
      "2     indirect\n",
      "3     indirect\n",
      "4     indirect\n",
      "        ...   \n",
      "57    indirect\n",
      "58    indirect\n",
      "59    indirect\n",
      "60    indirect\n",
      "61    indirect\n",
      "Name: clarity_label, Length: 62, dtype: object\n",
      "----\n",
      "----\n",
      "0         indirect\n",
      "1         indirect\n",
      "2         indirect\n",
      "3     direct reply\n",
      "4         indirect\n",
      "          ...     \n",
      "61        indirect\n",
      "62        indirect\n",
      "63        indirect\n",
      "64        indirect\n",
      "65    direct reply\n",
      "Name: clarity_label, Length: 62, dtype: object\n",
      "----\n",
      "['indirect', 'direct reply', 'direct non-reply']\n",
      "Accuracy: 0.71\n",
      "Accuracy for label indirect: 0.81\n",
      "Accuracy for label direct reply: 0.76\n",
      "Accuracy for label direct non-reply: 0.22\n",
      "\n",
      "Classification Report:\n",
      "                  precision    recall  f1-score   support\n",
      "\n",
      "        indirect       0.74      0.81      0.77        36\n",
      "    direct_reply       0.65      0.76      0.70        17\n",
      "direct_non-reply       0.67      0.22      0.33         9\n",
      "\n",
      "        accuracy                           0.71        62\n",
      "       macro avg       0.69      0.60      0.60        62\n",
      "    weighted avg       0.71      0.71      0.69        62\n",
      "\n",
      "\n",
      "Confusion Matrix:\n",
      "[[29  7  0]\n",
      " [ 3 13  1]\n",
      " [ 7  0  2]]\n"
     ]
    },
    {
     "name": "stderr",
     "output_type": "stream",
     "text": [
      "\n"
     ]
    }
   ],
   "source": [
    "with open('secrets.json', 'r') as file:\n",
    "    secrets = json.load(file)\n",
    "    huggingface_hub.login(secrets.get('HF_KEY'))\n",
    "\n",
    "class_names = []\n",
    "base_model_name = 'meta-llama/Llama-3.1-8B-Instruct'\n",
    "label_name = \"evasion_label\"\n",
    "fine_tuned_model_path = f\"./llama3.1\"\n",
    "\n",
    "evaluate(base_model_name,\n",
    "         fine_tuned_model_path,\n",
    "         \"evasion_label\",\n",
    "         \"clarity_label\",\n",
    "         \"preprocessed_data/test_set_unnamed.csv\")"
   ]
  }
 ],
 "metadata": {
  "kernelspec": {
   "display_name": "conda_python3",
   "language": "python",
   "name": "conda_python3"
  },
  "language_info": {
   "codemirror_mode": {
    "name": "ipython",
    "version": 3
   },
   "file_extension": ".py",
   "mimetype": "text/x-python",
   "name": "python",
   "nbconvert_exporter": "python",
   "pygments_lexer": "ipython3",
   "version": "3.10.18"
  }
 },
 "nbformat": 4,
 "nbformat_minor": 5
}
